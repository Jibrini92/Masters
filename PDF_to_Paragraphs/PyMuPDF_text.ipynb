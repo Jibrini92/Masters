{
 "cells": [
  {
   "cell_type": "code",
   "execution_count": 294,
   "metadata": {},
   "outputs": [],
   "source": [
    "import pandas as pd\n",
    "import fitz\n"
   ]
  },
  {
   "cell_type": "code",
   "execution_count": 295,
   "metadata": {},
   "outputs": [],
   "source": [
    "import fitz\n",
    "text_list=[]\n",
    "# Open the PDF file\n",
    "doc = fitz.open(\"2016_adidas_sustainability_progress_report.pdf\")\n",
    "\n",
    "# Loop through each page of the PDF file\n",
    "for page in doc:\n",
    "    for block in page.get_text(\"blocks\"):\n",
    "        # Check if block is text\n",
    "        if block[6] == 0:\n",
    "            # Extract text and page number\n",
    "            text_list.append([block[4],page.number+1])\n",
    "# Close the PDF file\n",
    "doc.close()"
   ]
  },
  {
   "cell_type": "code",
   "execution_count": 296,
   "metadata": {},
   "outputs": [],
   "source": [
    "# Convert data to DataFrame\n",
    "df=pd.DataFrame(text_list,columns=[\"text\",\"page_number\"])\n",
    "#Remove non-ascii characters\n",
    "df.text.replace({r'[^\\x00-\\x7F]+':''}, regex=True, inplace=True)"
   ]
  },
  {
   "cell_type": "code",
   "execution_count": 297,
   "metadata": {},
   "outputs": [],
   "source": [
    "# If a paragraph starts with a lower case character add it to previous row and delite\n",
    "n_paragraphs=[0,len(df)]\n",
    "while n_paragraphs[-1]!=n_paragraphs[-2]:\n",
    "    i=1\n",
    "    while i < len(df):\n",
    "        paragraph_string=str(df.iloc[i][0])\n",
    "        if paragraph_string[0].islower() == True:\n",
    "            df.at[i-1,'text']+= \" \"+paragraph_string\n",
    "            df=df.drop(i).reset_index(drop=True)\n",
    "        i+=1\n",
    "    n_paragraphs.append(len(df))"
   ]
  },
  {
   "cell_type": "code",
   "execution_count": 298,
   "metadata": {},
   "outputs": [],
   "source": [
    "#Delete paragraphs with len >50\n",
    "df=df[df['text'].map(len) > 50]"
   ]
  },
  {
   "cell_type": "code",
   "execution_count": 299,
   "metadata": {},
   "outputs": [],
   "source": [
    "#Table detecton\n",
    "#Count new pages - occurances of \\n\n",
    "df['newpage_count'] = df.apply(lambda x: x[\"text\"].count(\"\\n\"), axis=1)\n",
    "#The frequency of new pages - occurances of \\n divided by len of the string\n",
    "df['newpage_frequency'] = df.apply(lambda x: x[\"newpage_count\"]/ len(x['text']), axis=1)"
   ]
  },
  {
   "cell_type": "code",
   "execution_count": 300,
   "metadata": {},
   "outputs": [
    {
     "data": {
      "text/plain": [
       "<AxesSubplot:>"
      ]
     },
     "execution_count": 300,
     "metadata": {},
     "output_type": "execute_result"
    },
    {
     "data": {
      "image/png": "[encoded data removed]",
      "text/plain": [
       "<Figure size 432x288 with 1 Axes>"
      ]
     },
     "metadata": {
      "needs_background": "light"
     },
     "output_type": "display_data"
    }
   ],
   "source": [
    "df.newpage_frequency.hist()"
   ]
  },
  {
   "cell_type": "code",
   "execution_count": 301,
   "metadata": {},
   "outputs": [],
   "source": [
    "# Drop rows where the new page frequency is over 0.1. With larger numbers we could get more tables but lose some narrow paragraphs\n",
    "df_clean=df[df['newpage_frequency'] < 0.1]\n",
    "# Drop unnecessary columns\n",
    "df_clean=df_clean.drop(columns=['newpage_count', 'newpage_frequency'])\n",
    "df_clean=df_clean.reset_index(drop=True)"
   ]
  },
  {
   "cell_type": "code",
   "execution_count": 305,
   "metadata": {},
   "outputs": [],
   "source": [
    "# Write data to csv file\n",
    "df_clean.to_csv(\"2016_adidas_clean.csv\",index=False)"
   ]
  }
 ],
 "metadata": {
  "kernelspec": {
   "display_name": "base",
   "language": "python",
   "name": "python3"
  },
  "language_info": {
   "codemirror_mode": {
    "name": "ipython",
    "version": 3
   },
   "file_extension": ".py",
   "mimetype": "text/x-python",
   "name": "python",
   "nbconvert_exporter": "python",
   "pygments_lexer": "ipython3",
   "version": "3.8.8"
  },
  "orig_nbformat": 4
 },
 "nbformat": 4,
 "nbformat_minor": 2
}
