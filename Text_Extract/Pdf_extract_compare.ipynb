{
 "cells": [
  {
   "cell_type": "markdown",
   "metadata": {},
   "source": [
    "### Compare text extraction modules"
   ]
  },
  {
   "cell_type": "code",
   "execution_count": 11,
   "metadata": {},
   "outputs": [],
   "source": [
    "\n",
    "import pandas as pd\n",
    "import numpy as np\n",
    "from PyPDF2 import PdfReader\n",
    "import re\n",
    "import pytesseract\n",
    "from pdf2image import convert_from_path\n",
    "pytesseract.pytesseract.tesseract_cmd = r'C:\\Program Files\\Tesseract-OCR\\tesseract.exe'# convert PDF to image\n",
    "from PIL import Image\n",
    "import fitz"
   ]
  },
  {
   "cell_type": "code",
   "execution_count": 12,
   "metadata": {},
   "outputs": [],
   "source": [
    "path=\"reports\\\\2016_adidas_sustainability_progress_report.pdf\""
   ]
  },
  {
   "cell_type": "code",
   "execution_count": 13,
   "metadata": {},
   "outputs": [
    {
     "name": "stdout",
     "output_type": "stream",
     "text": [
      "<class 'pandas.core.frame.DataFrame'>\n",
      "RangeIndex: 286 entries, 0 to 285\n",
      "Data columns (total 1 columns):\n",
      " #   Column      Non-Null Count  Dtype \n",
      "---  ------      --------------  ----- \n",
      " 0   paragraphs  286 non-null    object\n",
      "dtypes: object(1)\n",
      "memory usage: 2.4+ KB\n"
     ]
    }
   ],
   "source": [
    "\n",
    "reader = PdfReader(path)\n",
    "number_of_pages = len(reader.pages)\n",
    "text=reader.pages[0].extract_text()\n",
    "for i in range(1,number_of_pages):\n",
    "    page = reader.pages[i]\n",
    "    text += page.extract_text()\n",
    "paragraphs=re.split(\"\\.\\n|\\. \\n\", text)\n",
    "df=pd.DataFrame(np.array(paragraphs), columns=['paragraphs'])\n",
    "df=df[df['paragraphs'].map(len) > 100].reset_index(drop=True)\n",
    "df.to_csv(\"Compare\\\\PdfReader.csv\",index=False)\n",
    "df.info()"
   ]
  },
  {
   "cell_type": "code",
   "execution_count": 14,
   "metadata": {},
   "outputs": [
    {
     "name": "stdout",
     "output_type": "stream",
     "text": [
      "<class 'pandas.core.frame.DataFrame'>\n",
      "RangeIndex: 315 entries, 0 to 314\n",
      "Data columns (total 1 columns):\n",
      " #   Column      Non-Null Count  Dtype \n",
      "---  ------      --------------  ----- \n",
      " 0   paragraphs  315 non-null    object\n",
      "dtypes: object(1)\n",
      "memory usage: 2.6+ KB\n"
     ]
    }
   ],
   "source": [
    "images = convert_from_path(path) #convert pdf to images\n",
    "ocr_text = ''\n",
    "for i in range(len(images)):  #turn images into strings and add to ocr_text list      \n",
    "    page_content = pytesseract.image_to_string(images[i])\n",
    "    page_content = '***PDF Page {}***\\n'.format(i+1) + page_content\n",
    "    ocr_text = ocr_text + ' ' + page_content\n",
    "paragraphs=re.split(\"\\n\\n\", ocr_text) # split string into paragraphs\n",
    "df=pd.DataFrame(np.array(paragraphs), columns=['paragraphs'])\n",
    "df=df[df['paragraphs'].map(len) > 100].reset_index(drop=True) # remove short lines \n",
    "df.to_csv(\"Compare\\\\pytesseract.csv\",index=False)\n",
    "df.info()"
   ]
  },
  {
   "cell_type": "code",
   "execution_count": 15,
   "metadata": {},
   "outputs": [
    {
     "name": "stdout",
     "output_type": "stream",
     "text": [
      "<class 'pandas.core.frame.DataFrame'>\n",
      "RangeIndex: 366 entries, 0 to 365\n",
      "Data columns (total 2 columns):\n",
      " #   Column       Non-Null Count  Dtype \n",
      "---  ------       --------------  ----- \n",
      " 0   text         366 non-null    object\n",
      " 1   page_number  366 non-null    int64 \n",
      "dtypes: int64(1), object(1)\n",
      "memory usage: 5.8+ KB\n"
     ]
    }
   ],
   "source": [
    "text_list=[]\n",
    "# Open the PDF file\n",
    "doc = fitz.open(path)\n",
    "\n",
    "# Loop through each page of the PDF file\n",
    "for page in doc:\n",
    "    for block in page.get_text(\"blocks\"):\n",
    "        # Check if block is text\n",
    "        if block[6] == 0:\n",
    "            # Extract text and page number\n",
    "            text_list.append([block[4],page.number+1])\n",
    "# Close the PDF file\n",
    "doc.close()\n",
    "df=pd.DataFrame(text_list,columns=[\"text\",\"page_number\"])\n",
    "df=df[df['text'].map(len) > 100].reset_index(drop=True)\n",
    "df.to_csv(\"Compare\\\\PyMyPDF.csv\",index=False)\n",
    "df.info()"
   ]
  }
 ],
 "metadata": {
  "kernelspec": {
   "display_name": "base",
   "language": "python",
   "name": "python3"
  },
  "language_info": {
   "codemirror_mode": {
    "name": "ipython",
    "version": 3
   },
   "file_extension": ".py",
   "mimetype": "text/x-python",
   "name": "python",
   "nbconvert_exporter": "python",
   "pygments_lexer": "ipython3",
   "version": "3.8.8"
  },
  "orig_nbformat": 4
 },
 "nbformat": 4,
 "nbformat_minor": 2
}
