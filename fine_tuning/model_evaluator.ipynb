{
 "cells": [
  {
   "cell_type": "code",
   "execution_count": 17,
   "metadata": {},
   "outputs": [],
   "source": [
    "from datasets import load_dataset\n",
    "from transformers import (\n",
    "    RobertaTokenizerFast,\n",
    "    RobertaForSequenceClassification,\n",
    ")\n",
    "import pandas as pd\n",
    "from sklearn.metrics import cohen_kappa_score\n",
    "from transformers import pipeline"
   ]
  },
  {
   "cell_type": "code",
   "execution_count": 18,
   "metadata": {},
   "outputs": [],
   "source": [
    "model_directory=\"roberta_final_top_no_zero_save\"\n",
    "model = RobertaForSequenceClassification.from_pretrained(model_directory)\n",
    "tokenizer= RobertaTokenizerFast.from_pretrained(model_directory, truncation=True)\n",
    "classifier = pipeline(\"text-classification\", model=model, tokenizer=tokenizer)\n",
    "tokenizer_kwargs = {'truncation':True,'max_length':512,}"
   ]
  },
  {
   "cell_type": "code",
   "execution_count": 19,
   "metadata": {},
   "outputs": [],
   "source": [
    "def get_model_labels(df,classifier):\n",
    "    res=classifier(df.text.to_list(),**tokenizer_kwargs)\n",
    "    df[\"model_label\"]=[res[i][\"label\"] for i in range(0,len(df))]\n",
    "    df[\"score\"]=[res[i][\"score\"] for i in range(0,len(df))]\n",
    "    #df=df.replace({\"model_label\":{0: \"0\",1: \"E1\", 2: \"E2\", 3: \"E3\", 4:\"E4\", 5 : \"E5\", 6: \"S1\", 7:\"S2\",8: \"S3\", 9: \"S4\", 10:\"G1\"}})\n",
    "    df=df.replace({\"model_label\":{0: \"E1\", 1: \"E2\", 2: \"E3\", 3:\"E4\", 4 : \"E5\", 5: \"S1\", 6:\"S2\",7: \"S3\", 8: \"S4\", 9:\"G1\"}})\n",
    "    return df"
   ]
  },
  {
   "cell_type": "code",
   "execution_count": 20,
   "metadata": {},
   "outputs": [],
   "source": [
    "def evaluate(df):\n",
    "    df['agreement'] = (df['label']==df['model_label']).astype(int)\n",
    "    print(\"Cohen kappa score = {}\".format(cohen_kappa_score(df.label,df.model_label)))\n",
    "    print(\"Accuracy = {}\".format(df.agreement.mean()))\n",
    "    return df\n"
   ]
  },
  {
   "cell_type": "code",
   "execution_count": 21,
   "metadata": {},
   "outputs": [],
   "source": [
    "test_set_top=pd.read_csv(\"..\\EXPERIMENTAL\\ex_sample_unlabeled.csv\",index_col=0).reset_index(drop=True)"
   ]
  },
  {
   "cell_type": "code",
   "execution_count": 22,
   "metadata": {},
   "outputs": [
    {
     "data": {
      "text/plain": [
       "label\n",
       "0      36\n",
       "E1    116\n",
       "E2      6\n",
       "E3     22\n",
       "E4     11\n",
       "E5     29\n",
       "G1     66\n",
       "S1     74\n",
       "S2      4\n",
       "S3      2\n",
       "S4      3\n",
       "Name: text, dtype: int64"
      ]
     },
     "execution_count": 22,
     "metadata": {},
     "output_type": "execute_result"
    }
   ],
   "source": [
    "test_set_top.groupby(\"label\")[\"text\"].count()"
   ]
  },
  {
   "cell_type": "code",
   "execution_count": 23,
   "metadata": {},
   "outputs": [
    {
     "name": "stdout",
     "output_type": "stream",
     "text": [
      "Cohen kappa score = 0.7840506954160151\n",
      "Accuracy = 0.8265582655826558\n"
     ]
    }
   ],
   "source": [
    "test_set_top=evaluate(get_model_labels(test_set_top,classifier))"
   ]
  },
  {
   "cell_type": "code",
   "execution_count": 24,
   "metadata": {},
   "outputs": [
    {
     "name": "stdout",
     "output_type": "stream",
     "text": [
      "Cohen kappa score = 0.891901918729349\n",
      "Accuracy = 0.9159159159159159\n"
     ]
    },
    {
     "name": "stderr",
     "output_type": "stream",
     "text": [
      "<ipython-input-20-602016522958>:2: SettingWithCopyWarning: \n",
      "A value is trying to be set on a copy of a slice from a DataFrame.\n",
      "Try using .loc[row_indexer,col_indexer] = value instead\n",
      "\n",
      "See the caveats in the documentation: https://pandas.pydata.org/pandas-docs/stable/user_guide/indexing.html#returning-a-view-versus-a-copy\n",
      "  df['agreement'] = (df['label']==df['model_label']).astype(int)\n"
     ]
    },
    {
     "data": {
      "text/html": [
       "<div>\n",
       "<style scoped>\n",
       "    .dataframe tbody tr th:only-of-type {\n",
       "        vertical-align: middle;\n",
       "    }\n",
       "\n",
       "    .dataframe tbody tr th {\n",
       "        vertical-align: top;\n",
       "    }\n",
       "\n",
       "    .dataframe thead th {\n",
       "        text-align: right;\n",
       "    }\n",
       "</style>\n",
       "<table border=\"1\" class=\"dataframe\">\n",
       "  <thead>\n",
       "    <tr style=\"text-align: right;\">\n",
       "      <th></th>\n",
       "      <th>text</th>\n",
       "      <th>label</th>\n",
       "      <th>model_label</th>\n",
       "      <th>score</th>\n",
       "      <th>agreement</th>\n",
       "    </tr>\n",
       "  </thead>\n",
       "  <tbody>\n",
       "    <tr>\n",
       "      <th>0</th>\n",
       "      <td>With special training programs, we ensure that...</td>\n",
       "      <td>S1</td>\n",
       "      <td>G1</td>\n",
       "      <td>0.977822</td>\n",
       "      <td>0</td>\n",
       "    </tr>\n",
       "    <tr>\n",
       "      <th>1</th>\n",
       "      <td>An important objective of our strategy is fost...</td>\n",
       "      <td>E5</td>\n",
       "      <td>E5</td>\n",
       "      <td>0.999718</td>\n",
       "      <td>1</td>\n",
       "    </tr>\n",
       "    <tr>\n",
       "      <th>2</th>\n",
       "      <td>We took a close look at our companys remunerat...</td>\n",
       "      <td>G1</td>\n",
       "      <td>G1</td>\n",
       "      <td>0.999825</td>\n",
       "      <td>1</td>\n",
       "    </tr>\n",
       "    <tr>\n",
       "      <th>3</th>\n",
       "      <td>The health, safety and professional and person...</td>\n",
       "      <td>S1</td>\n",
       "      <td>S1</td>\n",
       "      <td>0.999748</td>\n",
       "      <td>1</td>\n",
       "    </tr>\n",
       "    <tr>\n",
       "      <th>4</th>\n",
       "      <td>Our actions are determined by the principles o...</td>\n",
       "      <td>G1</td>\n",
       "      <td>G1</td>\n",
       "      <td>0.999809</td>\n",
       "      <td>1</td>\n",
       "    </tr>\n",
       "    <tr>\n",
       "      <th>...</th>\n",
       "      <td>...</td>\n",
       "      <td>...</td>\n",
       "      <td>...</td>\n",
       "      <td>...</td>\n",
       "      <td>...</td>\n",
       "    </tr>\n",
       "    <tr>\n",
       "      <th>363</th>\n",
       "      <td>Our managers bear great responsibility for the...</td>\n",
       "      <td>S1</td>\n",
       "      <td>S1</td>\n",
       "      <td>0.999733</td>\n",
       "      <td>1</td>\n",
       "    </tr>\n",
       "    <tr>\n",
       "      <th>364</th>\n",
       "      <td>We not only want to be the Employer of Choice,...</td>\n",
       "      <td>S1</td>\n",
       "      <td>S1</td>\n",
       "      <td>0.999713</td>\n",
       "      <td>1</td>\n",
       "    </tr>\n",
       "    <tr>\n",
       "      <th>365</th>\n",
       "      <td>We aim to cut the specific primary energy usag...</td>\n",
       "      <td>E1</td>\n",
       "      <td>E1</td>\n",
       "      <td>0.999819</td>\n",
       "      <td>1</td>\n",
       "    </tr>\n",
       "    <tr>\n",
       "      <th>367</th>\n",
       "      <td>In 2020 our annual employee survey included qu...</td>\n",
       "      <td>S1</td>\n",
       "      <td>G1</td>\n",
       "      <td>0.985651</td>\n",
       "      <td>0</td>\n",
       "    </tr>\n",
       "    <tr>\n",
       "      <th>368</th>\n",
       "      <td>Our training programs cover topics such as ant...</td>\n",
       "      <td>G1</td>\n",
       "      <td>G1</td>\n",
       "      <td>0.999811</td>\n",
       "      <td>1</td>\n",
       "    </tr>\n",
       "  </tbody>\n",
       "</table>\n",
       "<p>333 rows × 5 columns</p>\n",
       "</div>"
      ],
      "text/plain": [
       "                                                  text label model_label  \\\n",
       "0    With special training programs, we ensure that...    S1          G1   \n",
       "1    An important objective of our strategy is fost...    E5          E5   \n",
       "2    We took a close look at our companys remunerat...    G1          G1   \n",
       "3    The health, safety and professional and person...    S1          S1   \n",
       "4    Our actions are determined by the principles o...    G1          G1   \n",
       "..                                                 ...   ...         ...   \n",
       "363  Our managers bear great responsibility for the...    S1          S1   \n",
       "364  We not only want to be the Employer of Choice,...    S1          S1   \n",
       "365  We aim to cut the specific primary energy usag...    E1          E1   \n",
       "367  In 2020 our annual employee survey included qu...    S1          G1   \n",
       "368  Our training programs cover topics such as ant...    G1          G1   \n",
       "\n",
       "        score  agreement  \n",
       "0    0.977822          0  \n",
       "1    0.999718          1  \n",
       "2    0.999825          1  \n",
       "3    0.999748          1  \n",
       "4    0.999809          1  \n",
       "..        ...        ...  \n",
       "363  0.999733          1  \n",
       "364  0.999713          1  \n",
       "365  0.999819          1  \n",
       "367  0.985651          0  \n",
       "368  0.999811          1  \n",
       "\n",
       "[333 rows x 5 columns]"
      ]
     },
     "execution_count": 24,
     "metadata": {},
     "output_type": "execute_result"
    }
   ],
   "source": [
    "evaluate(test_set_top[test_set_top[\"label\"]!=\"0\"])"
   ]
  },
  {
   "cell_type": "code",
   "execution_count": 25,
   "metadata": {},
   "outputs": [],
   "source": [
    "test_set_mid=pd.read_csv(\"..\\mid_sample.csv\").reset_index(drop=True)"
   ]
  },
  {
   "cell_type": "code",
   "execution_count": 26,
   "metadata": {},
   "outputs": [
    {
     "data": {
      "text/plain": [
       "label\n",
       "0     167\n",
       "E1     47\n",
       "E2      7\n",
       "E3      5\n",
       "E4      6\n",
       "E5     15\n",
       "G1     18\n",
       "S1     56\n",
       "S2     18\n",
       "S3     14\n",
       "S4     16\n",
       "Name: text, dtype: int64"
      ]
     },
     "execution_count": 26,
     "metadata": {},
     "output_type": "execute_result"
    }
   ],
   "source": [
    "test_set_mid.groupby(\"label\")[\"text\"].count()"
   ]
  },
  {
   "cell_type": "code",
   "execution_count": 27,
   "metadata": {},
   "outputs": [
    {
     "name": "stdout",
     "output_type": "stream",
     "text": [
      "Cohen kappa score = 0.37042765570685976\n",
      "Accuracy = 0.42005420054200543\n"
     ]
    }
   ],
   "source": [
    "test_set_mid=evaluate(get_model_labels(test_set_mid,classifier))"
   ]
  },
  {
   "cell_type": "code",
   "execution_count": 28,
   "metadata": {},
   "outputs": [
    {
     "name": "stdout",
     "output_type": "stream",
     "text": [
      "Cohen kappa score = 0.7245321340490352\n",
      "Accuracy = 0.7673267326732673\n"
     ]
    },
    {
     "name": "stderr",
     "output_type": "stream",
     "text": [
      "<ipython-input-20-602016522958>:2: SettingWithCopyWarning: \n",
      "A value is trying to be set on a copy of a slice from a DataFrame.\n",
      "Try using .loc[row_indexer,col_indexer] = value instead\n",
      "\n",
      "See the caveats in the documentation: https://pandas.pydata.org/pandas-docs/stable/user_guide/indexing.html#returning-a-view-versus-a-copy\n",
      "  df['agreement'] = (df['label']==df['model_label']).astype(int)\n"
     ]
    },
    {
     "data": {
      "text/html": [
       "<div>\n",
       "<style scoped>\n",
       "    .dataframe tbody tr th:only-of-type {\n",
       "        vertical-align: middle;\n",
       "    }\n",
       "\n",
       "    .dataframe tbody tr th {\n",
       "        vertical-align: top;\n",
       "    }\n",
       "\n",
       "    .dataframe thead th {\n",
       "        text-align: right;\n",
       "    }\n",
       "</style>\n",
       "<table border=\"1\" class=\"dataframe\">\n",
       "  <thead>\n",
       "    <tr style=\"text-align: right;\">\n",
       "      <th></th>\n",
       "      <th>text</th>\n",
       "      <th>label</th>\n",
       "      <th>model_label</th>\n",
       "      <th>score</th>\n",
       "      <th>agreement</th>\n",
       "    </tr>\n",
       "  </thead>\n",
       "  <tbody>\n",
       "    <tr>\n",
       "      <th>0</th>\n",
       "      <td>Twice a year, we offer our employees in German...</td>\n",
       "      <td>S1</td>\n",
       "      <td>S1</td>\n",
       "      <td>0.999736</td>\n",
       "      <td>1</td>\n",
       "    </tr>\n",
       "    <tr>\n",
       "      <th>1</th>\n",
       "      <td>Strong economic performance is a key prerequis...</td>\n",
       "      <td>G1</td>\n",
       "      <td>S4</td>\n",
       "      <td>0.999733</td>\n",
       "      <td>0</td>\n",
       "    </tr>\n",
       "    <tr>\n",
       "      <th>3</th>\n",
       "      <td>In 2017, we procured a total of 131,618 MWh of...</td>\n",
       "      <td>E1</td>\n",
       "      <td>E1</td>\n",
       "      <td>0.999808</td>\n",
       "      <td>1</td>\n",
       "    </tr>\n",
       "    <tr>\n",
       "      <th>4</th>\n",
       "      <td>We engage closely with employee representative...</td>\n",
       "      <td>S1</td>\n",
       "      <td>S1</td>\n",
       "      <td>0.999729</td>\n",
       "      <td>1</td>\n",
       "    </tr>\n",
       "    <tr>\n",
       "      <th>5</th>\n",
       "      <td>Fluctuations in future cash flows resulting fr...</td>\n",
       "      <td>G1</td>\n",
       "      <td>E1</td>\n",
       "      <td>0.778985</td>\n",
       "      <td>0</td>\n",
       "    </tr>\n",
       "    <tr>\n",
       "      <th>...</th>\n",
       "      <td>...</td>\n",
       "      <td>...</td>\n",
       "      <td>...</td>\n",
       "      <td>...</td>\n",
       "      <td>...</td>\n",
       "    </tr>\n",
       "    <tr>\n",
       "      <th>357</th>\n",
       "      <td>G4-HR1 Investment agreements that include huma...</td>\n",
       "      <td>S2</td>\n",
       "      <td>S1</td>\n",
       "      <td>0.999683</td>\n",
       "      <td>0</td>\n",
       "    </tr>\n",
       "    <tr>\n",
       "      <th>360</th>\n",
       "      <td>Income taxes comprise the taxes levied on taxa...</td>\n",
       "      <td>G1</td>\n",
       "      <td>G1</td>\n",
       "      <td>0.999761</td>\n",
       "      <td>1</td>\n",
       "    </tr>\n",
       "    <tr>\n",
       "      <th>363</th>\n",
       "      <td>Nathalie Hideborg sees diversity as a key to c...</td>\n",
       "      <td>S1</td>\n",
       "      <td>S1</td>\n",
       "      <td>0.999768</td>\n",
       "      <td>1</td>\n",
       "    </tr>\n",
       "    <tr>\n",
       "      <th>367</th>\n",
       "      <td>The new area will strengthen our cross-organiz...</td>\n",
       "      <td>S4</td>\n",
       "      <td>S4</td>\n",
       "      <td>0.999467</td>\n",
       "      <td>1</td>\n",
       "    </tr>\n",
       "    <tr>\n",
       "      <th>368</th>\n",
       "      <td>In 2017, T-Mobile sponsored a special holiday ...</td>\n",
       "      <td>E5</td>\n",
       "      <td>E5</td>\n",
       "      <td>0.999740</td>\n",
       "      <td>1</td>\n",
       "    </tr>\n",
       "  </tbody>\n",
       "</table>\n",
       "<p>202 rows × 5 columns</p>\n",
       "</div>"
      ],
      "text/plain": [
       "                                                  text label model_label  \\\n",
       "0    Twice a year, we offer our employees in German...    S1          S1   \n",
       "1    Strong economic performance is a key prerequis...    G1          S4   \n",
       "3    In 2017, we procured a total of 131,618 MWh of...    E1          E1   \n",
       "4    We engage closely with employee representative...    S1          S1   \n",
       "5    Fluctuations in future cash flows resulting fr...    G1          E1   \n",
       "..                                                 ...   ...         ...   \n",
       "357  G4-HR1 Investment agreements that include huma...    S2          S1   \n",
       "360  Income taxes comprise the taxes levied on taxa...    G1          G1   \n",
       "363  Nathalie Hideborg sees diversity as a key to c...    S1          S1   \n",
       "367  The new area will strengthen our cross-organiz...    S4          S4   \n",
       "368  In 2017, T-Mobile sponsored a special holiday ...    E5          E5   \n",
       "\n",
       "        score  agreement  \n",
       "0    0.999736          1  \n",
       "1    0.999733          0  \n",
       "3    0.999808          1  \n",
       "4    0.999729          1  \n",
       "5    0.778985          0  \n",
       "..        ...        ...  \n",
       "357  0.999683          0  \n",
       "360  0.999761          1  \n",
       "363  0.999768          1  \n",
       "367  0.999467          1  \n",
       "368  0.999740          1  \n",
       "\n",
       "[202 rows x 5 columns]"
      ]
     },
     "execution_count": 28,
     "metadata": {},
     "output_type": "execute_result"
    }
   ],
   "source": [
    "evaluate(test_set_mid[test_set_mid[\"label\"]!=\"0\"])"
   ]
  },
  {
   "cell_type": "code",
   "execution_count": 40,
   "metadata": {},
   "outputs": [],
   "source": [
    "test_set_top_mid=pd.concat([test_set_top,test_set_mid]).reset_index(drop=True)"
   ]
  },
  {
   "cell_type": "code",
   "execution_count": 41,
   "metadata": {},
   "outputs": [
    {
     "name": "stdout",
     "output_type": "stream",
     "text": [
      "Cohen kappa score = 0.5705089691871943\n",
      "Accuracy = 0.6233062330623306\n"
     ]
    },
    {
     "data": {
      "text/html": [
       "<div>\n",
       "<style scoped>\n",
       "    .dataframe tbody tr th:only-of-type {\n",
       "        vertical-align: middle;\n",
       "    }\n",
       "\n",
       "    .dataframe tbody tr th {\n",
       "        vertical-align: top;\n",
       "    }\n",
       "\n",
       "    .dataframe thead th {\n",
       "        text-align: right;\n",
       "    }\n",
       "</style>\n",
       "<table border=\"1\" class=\"dataframe\">\n",
       "  <thead>\n",
       "    <tr style=\"text-align: right;\">\n",
       "      <th></th>\n",
       "      <th>text</th>\n",
       "      <th>label</th>\n",
       "      <th>model_label</th>\n",
       "      <th>score</th>\n",
       "      <th>agreement</th>\n",
       "    </tr>\n",
       "  </thead>\n",
       "  <tbody>\n",
       "    <tr>\n",
       "      <th>0</th>\n",
       "      <td>With special training programs, we ensure that...</td>\n",
       "      <td>S1</td>\n",
       "      <td>G1</td>\n",
       "      <td>0.977822</td>\n",
       "      <td>0</td>\n",
       "    </tr>\n",
       "    <tr>\n",
       "      <th>1</th>\n",
       "      <td>An important objective of our strategy is fost...</td>\n",
       "      <td>E5</td>\n",
       "      <td>E5</td>\n",
       "      <td>0.999718</td>\n",
       "      <td>1</td>\n",
       "    </tr>\n",
       "    <tr>\n",
       "      <th>2</th>\n",
       "      <td>We took a close look at our companys remunerat...</td>\n",
       "      <td>G1</td>\n",
       "      <td>G1</td>\n",
       "      <td>0.999825</td>\n",
       "      <td>1</td>\n",
       "    </tr>\n",
       "    <tr>\n",
       "      <th>3</th>\n",
       "      <td>The health, safety and professional and person...</td>\n",
       "      <td>S1</td>\n",
       "      <td>S1</td>\n",
       "      <td>0.999748</td>\n",
       "      <td>1</td>\n",
       "    </tr>\n",
       "    <tr>\n",
       "      <th>4</th>\n",
       "      <td>Our actions are determined by the principles o...</td>\n",
       "      <td>G1</td>\n",
       "      <td>G1</td>\n",
       "      <td>0.999809</td>\n",
       "      <td>1</td>\n",
       "    </tr>\n",
       "    <tr>\n",
       "      <th>...</th>\n",
       "      <td>...</td>\n",
       "      <td>...</td>\n",
       "      <td>...</td>\n",
       "      <td>...</td>\n",
       "      <td>...</td>\n",
       "    </tr>\n",
       "    <tr>\n",
       "      <th>733</th>\n",
       "      <td>RWE is an international group which including ...</td>\n",
       "      <td>0</td>\n",
       "      <td>S2</td>\n",
       "      <td>0.724211</td>\n",
       "      <td>0</td>\n",
       "    </tr>\n",
       "    <tr>\n",
       "      <th>734</th>\n",
       "      <td>We are involved in developing a solution for a...</td>\n",
       "      <td>0</td>\n",
       "      <td>E4</td>\n",
       "      <td>0.831466</td>\n",
       "      <td>0</td>\n",
       "    </tr>\n",
       "    <tr>\n",
       "      <th>735</th>\n",
       "      <td>These supplemental financial measures should n...</td>\n",
       "      <td>0</td>\n",
       "      <td>S1</td>\n",
       "      <td>0.999750</td>\n",
       "      <td>0</td>\n",
       "    </tr>\n",
       "    <tr>\n",
       "      <th>736</th>\n",
       "      <td>The new area will strengthen our cross-organiz...</td>\n",
       "      <td>S4</td>\n",
       "      <td>S4</td>\n",
       "      <td>0.999467</td>\n",
       "      <td>1</td>\n",
       "    </tr>\n",
       "    <tr>\n",
       "      <th>737</th>\n",
       "      <td>In 2017, T-Mobile sponsored a special holiday ...</td>\n",
       "      <td>E5</td>\n",
       "      <td>E5</td>\n",
       "      <td>0.999740</td>\n",
       "      <td>1</td>\n",
       "    </tr>\n",
       "  </tbody>\n",
       "</table>\n",
       "<p>738 rows × 5 columns</p>\n",
       "</div>"
      ],
      "text/plain": [
       "                                                  text label model_label  \\\n",
       "0    With special training programs, we ensure that...    S1          G1   \n",
       "1    An important objective of our strategy is fost...    E5          E5   \n",
       "2    We took a close look at our companys remunerat...    G1          G1   \n",
       "3    The health, safety and professional and person...    S1          S1   \n",
       "4    Our actions are determined by the principles o...    G1          G1   \n",
       "..                                                 ...   ...         ...   \n",
       "733  RWE is an international group which including ...     0          S2   \n",
       "734  We are involved in developing a solution for a...     0          E4   \n",
       "735  These supplemental financial measures should n...     0          S1   \n",
       "736  The new area will strengthen our cross-organiz...    S4          S4   \n",
       "737  In 2017, T-Mobile sponsored a special holiday ...    E5          E5   \n",
       "\n",
       "        score  agreement  \n",
       "0    0.977822          0  \n",
       "1    0.999718          1  \n",
       "2    0.999825          1  \n",
       "3    0.999748          1  \n",
       "4    0.999809          1  \n",
       "..        ...        ...  \n",
       "733  0.724211          0  \n",
       "734  0.831466          0  \n",
       "735  0.999750          0  \n",
       "736  0.999467          1  \n",
       "737  0.999740          1  \n",
       "\n",
       "[738 rows x 5 columns]"
      ]
     },
     "execution_count": 41,
     "metadata": {},
     "output_type": "execute_result"
    }
   ],
   "source": [
    "evaluate(test_set_top_mid)"
   ]
  },
  {
   "cell_type": "code",
   "execution_count": 42,
   "metadata": {},
   "outputs": [
    {
     "name": "stdout",
     "output_type": "stream",
     "text": [
      "Cohen kappa score = 0.8280597859156861\n",
      "Accuracy = 0.8598130841121495\n"
     ]
    },
    {
     "name": "stderr",
     "output_type": "stream",
     "text": [
      "<ipython-input-20-602016522958>:2: SettingWithCopyWarning: \n",
      "A value is trying to be set on a copy of a slice from a DataFrame.\n",
      "Try using .loc[row_indexer,col_indexer] = value instead\n",
      "\n",
      "See the caveats in the documentation: https://pandas.pydata.org/pandas-docs/stable/user_guide/indexing.html#returning-a-view-versus-a-copy\n",
      "  df['agreement'] = (df['label']==df['model_label']).astype(int)\n"
     ]
    },
    {
     "data": {
      "text/html": [
       "<div>\n",
       "<style scoped>\n",
       "    .dataframe tbody tr th:only-of-type {\n",
       "        vertical-align: middle;\n",
       "    }\n",
       "\n",
       "    .dataframe tbody tr th {\n",
       "        vertical-align: top;\n",
       "    }\n",
       "\n",
       "    .dataframe thead th {\n",
       "        text-align: right;\n",
       "    }\n",
       "</style>\n",
       "<table border=\"1\" class=\"dataframe\">\n",
       "  <thead>\n",
       "    <tr style=\"text-align: right;\">\n",
       "      <th></th>\n",
       "      <th>text</th>\n",
       "      <th>label</th>\n",
       "      <th>model_label</th>\n",
       "      <th>score</th>\n",
       "      <th>agreement</th>\n",
       "    </tr>\n",
       "  </thead>\n",
       "  <tbody>\n",
       "    <tr>\n",
       "      <th>0</th>\n",
       "      <td>With special training programs, we ensure that...</td>\n",
       "      <td>S1</td>\n",
       "      <td>G1</td>\n",
       "      <td>0.977822</td>\n",
       "      <td>0</td>\n",
       "    </tr>\n",
       "    <tr>\n",
       "      <th>1</th>\n",
       "      <td>An important objective of our strategy is fost...</td>\n",
       "      <td>E5</td>\n",
       "      <td>E5</td>\n",
       "      <td>0.999718</td>\n",
       "      <td>1</td>\n",
       "    </tr>\n",
       "    <tr>\n",
       "      <th>2</th>\n",
       "      <td>We took a close look at our companys remunerat...</td>\n",
       "      <td>G1</td>\n",
       "      <td>G1</td>\n",
       "      <td>0.999825</td>\n",
       "      <td>1</td>\n",
       "    </tr>\n",
       "    <tr>\n",
       "      <th>3</th>\n",
       "      <td>The health, safety and professional and person...</td>\n",
       "      <td>S1</td>\n",
       "      <td>S1</td>\n",
       "      <td>0.999748</td>\n",
       "      <td>1</td>\n",
       "    </tr>\n",
       "    <tr>\n",
       "      <th>4</th>\n",
       "      <td>Our actions are determined by the principles o...</td>\n",
       "      <td>G1</td>\n",
       "      <td>G1</td>\n",
       "      <td>0.999809</td>\n",
       "      <td>1</td>\n",
       "    </tr>\n",
       "    <tr>\n",
       "      <th>...</th>\n",
       "      <td>...</td>\n",
       "      <td>...</td>\n",
       "      <td>...</td>\n",
       "      <td>...</td>\n",
       "      <td>...</td>\n",
       "    </tr>\n",
       "    <tr>\n",
       "      <th>726</th>\n",
       "      <td>G4-HR1 Investment agreements that include huma...</td>\n",
       "      <td>S2</td>\n",
       "      <td>S1</td>\n",
       "      <td>0.999683</td>\n",
       "      <td>0</td>\n",
       "    </tr>\n",
       "    <tr>\n",
       "      <th>729</th>\n",
       "      <td>Income taxes comprise the taxes levied on taxa...</td>\n",
       "      <td>G1</td>\n",
       "      <td>G1</td>\n",
       "      <td>0.999761</td>\n",
       "      <td>1</td>\n",
       "    </tr>\n",
       "    <tr>\n",
       "      <th>732</th>\n",
       "      <td>Nathalie Hideborg sees diversity as a key to c...</td>\n",
       "      <td>S1</td>\n",
       "      <td>S1</td>\n",
       "      <td>0.999768</td>\n",
       "      <td>1</td>\n",
       "    </tr>\n",
       "    <tr>\n",
       "      <th>736</th>\n",
       "      <td>The new area will strengthen our cross-organiz...</td>\n",
       "      <td>S4</td>\n",
       "      <td>S4</td>\n",
       "      <td>0.999467</td>\n",
       "      <td>1</td>\n",
       "    </tr>\n",
       "    <tr>\n",
       "      <th>737</th>\n",
       "      <td>In 2017, T-Mobile sponsored a special holiday ...</td>\n",
       "      <td>E5</td>\n",
       "      <td>E5</td>\n",
       "      <td>0.999740</td>\n",
       "      <td>1</td>\n",
       "    </tr>\n",
       "  </tbody>\n",
       "</table>\n",
       "<p>535 rows × 5 columns</p>\n",
       "</div>"
      ],
      "text/plain": [
       "                                                  text label model_label  \\\n",
       "0    With special training programs, we ensure that...    S1          G1   \n",
       "1    An important objective of our strategy is fost...    E5          E5   \n",
       "2    We took a close look at our companys remunerat...    G1          G1   \n",
       "3    The health, safety and professional and person...    S1          S1   \n",
       "4    Our actions are determined by the principles o...    G1          G1   \n",
       "..                                                 ...   ...         ...   \n",
       "726  G4-HR1 Investment agreements that include huma...    S2          S1   \n",
       "729  Income taxes comprise the taxes levied on taxa...    G1          G1   \n",
       "732  Nathalie Hideborg sees diversity as a key to c...    S1          S1   \n",
       "736  The new area will strengthen our cross-organiz...    S4          S4   \n",
       "737  In 2017, T-Mobile sponsored a special holiday ...    E5          E5   \n",
       "\n",
       "        score  agreement  \n",
       "0    0.977822          0  \n",
       "1    0.999718          1  \n",
       "2    0.999825          1  \n",
       "3    0.999748          1  \n",
       "4    0.999809          1  \n",
       "..        ...        ...  \n",
       "726  0.999683          0  \n",
       "729  0.999761          1  \n",
       "732  0.999768          1  \n",
       "736  0.999467          1  \n",
       "737  0.999740          1  \n",
       "\n",
       "[535 rows x 5 columns]"
      ]
     },
     "execution_count": 42,
     "metadata": {},
     "output_type": "execute_result"
    }
   ],
   "source": [
    "evaluate(test_set_top_mid[test_set_top_mid[\"label\"]!=\"0\"])"
   ]
  },
  {
   "cell_type": "code",
   "execution_count": 43,
   "metadata": {},
   "outputs": [
    {
     "data": {
      "text/plain": [
       "label\n",
       "0     0.000000\n",
       "E1    0.926380\n",
       "E2    0.923077\n",
       "E3    0.925926\n",
       "E4    1.000000\n",
       "E5    0.909091\n",
       "G1    0.869048\n",
       "S1    0.830769\n",
       "S2    0.318182\n",
       "S3    0.562500\n",
       "S4    0.947368\n",
       "Name: agreement, dtype: float64"
      ]
     },
     "execution_count": 43,
     "metadata": {},
     "output_type": "execute_result"
    }
   ],
   "source": [
    "test_set_top_mid.groupby(\"label\")[\"agreement\"].mean()"
   ]
  },
  {
   "cell_type": "markdown",
   "metadata": {},
   "source": [
    "## Errors"
   ]
  },
  {
   "cell_type": "code",
   "execution_count": 44,
   "metadata": {},
   "outputs": [
    {
     "data": {
      "text/plain": [
       "label\n",
       "E1    12\n",
       "E2     1\n",
       "E3     2\n",
       "E5     4\n",
       "G1    11\n",
       "S1    22\n",
       "S2    15\n",
       "S3     7\n",
       "S4     1\n",
       "Name: agreement, dtype: int64"
      ]
     },
     "execution_count": 44,
     "metadata": {},
     "output_type": "execute_result"
    }
   ],
   "source": [
    "test_set_top_mid[(test_set_top_mid[\"agreement\"]==0) & ((test_set_top_mid[\"label\"]!=\"0\"))].groupby(\"label\")[\"agreement\"].count()"
   ]
  },
  {
   "cell_type": "code",
   "execution_count": 45,
   "metadata": {},
   "outputs": [
    {
     "data": {
      "text/plain": [
       "model_label\n",
       "E2    2\n",
       "E3    2\n",
       "E4    1\n",
       "E5    2\n",
       "S2    1\n",
       "S4    4\n",
       "Name: agreement, dtype: int64"
      ]
     },
     "execution_count": 45,
     "metadata": {},
     "output_type": "execute_result"
    }
   ],
   "source": [
    "test_set_top_mid[(test_set_top_mid[\"agreement\"]==0) & ((test_set_top_mid[\"label\"]==\"E1\"))].groupby(\"model_label\")[\"agreement\"].count()"
   ]
  },
  {
   "cell_type": "code",
   "execution_count": 52,
   "metadata": {},
   "outputs": [],
   "source": [
    "df_errors=test_set_top_mid[(test_set_top_mid[\"agreement\"]==0) & ((test_set_top_mid[\"label\"]!=\"0\"))].to_csv(\"errors.csv\")"
   ]
  }
 ],
 "metadata": {
  "kernelspec": {
   "display_name": "base",
   "language": "python",
   "name": "python3"
  },
  "language_info": {
   "codemirror_mode": {
    "name": "ipython",
    "version": 3
   },
   "file_extension": ".py",
   "mimetype": "text/x-python",
   "name": "python",
   "nbconvert_exporter": "python",
   "pygments_lexer": "ipython3",
   "version": "3.8.17"
  },
  "orig_nbformat": 4
 },
 "nbformat": 4,
 "nbformat_minor": 2
}
