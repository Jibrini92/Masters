{
 "cells": [
  {
   "cell_type": "code",
   "execution_count": 1,
   "metadata": {},
   "outputs": [],
   "source": [
    "import pandas as pd\n",
    "import os\n",
    "import numpy as np\n",
    "import matplotlib.pyplot as plt\n",
    "from sklearn.metrics import cohen_kappa_score\n",
    "from sklearn.metrics import accuracy_score\n",
    "%matplotlib inline"
   ]
  },
  {
   "cell_type": "code",
   "execution_count": 3,
   "metadata": {},
   "outputs": [
    {
     "name": "stdout",
     "output_type": "stream",
     "text": [
      "<class 'pandas.core.frame.DataFrame'>\n",
      "Int64Index: 94532 entries, 0 to 94531\n",
      "Data columns (total 8 columns):\n",
      " #   Column          Non-Null Count  Dtype  \n",
      "---  ------          --------------  -----  \n",
      " 0   text            94532 non-null  object \n",
      " 1   Company         94532 non-null  object \n",
      " 2   year            94532 non-null  int64  \n",
      " 3   adda_Label      94532 non-null  object \n",
      " 4   sim_score       94532 non-null  float64\n",
      " 5   centroid_label  94532 non-null  object \n",
      " 6   centroid_score  94532 non-null  float64\n",
      " 7   Formness_score  94532 non-null  float64\n",
      "dtypes: float64(3), int64(1), object(4)\n",
      "memory usage: 6.5+ MB\n"
     ]
    }
   ],
   "source": [
    "df=pd.read_csv('centroid_data.csv', index_col=0)\n",
    "df.info()"
   ]
  },
  {
   "cell_type": "code",
   "execution_count": 4,
   "metadata": {},
   "outputs": [
    {
     "data": {
      "text/html": [
       "<div>\n",
       "<style scoped>\n",
       "    .dataframe tbody tr th:only-of-type {\n",
       "        vertical-align: middle;\n",
       "    }\n",
       "\n",
       "    .dataframe tbody tr th {\n",
       "        vertical-align: top;\n",
       "    }\n",
       "\n",
       "    .dataframe thead th {\n",
       "        text-align: right;\n",
       "    }\n",
       "</style>\n",
       "<table border=\"1\" class=\"dataframe\">\n",
       "  <thead>\n",
       "    <tr style=\"text-align: right;\">\n",
       "      <th></th>\n",
       "      <th>text</th>\n",
       "      <th>Company</th>\n",
       "      <th>year</th>\n",
       "      <th>adda_Label</th>\n",
       "      <th>sim_score</th>\n",
       "      <th>centroid_label</th>\n",
       "      <th>centroid_score</th>\n",
       "      <th>Formness_score</th>\n",
       "    </tr>\n",
       "  </thead>\n",
       "  <tbody>\n",
       "    <tr>\n",
       "      <th>0</th>\n",
       "      <td>Augmented reality makes the fascination of Por...</td>\n",
       "      <td>Porsche</td>\n",
       "      <td>2016</td>\n",
       "      <td>E1</td>\n",
       "      <td>0.721638</td>\n",
       "      <td>S3</td>\n",
       "      <td>0.820336</td>\n",
       "      <td>0.671054</td>\n",
       "    </tr>\n",
       "    <tr>\n",
       "      <th>1</th>\n",
       "      <td>The second volume is called Performance and co...</td>\n",
       "      <td>Porsche</td>\n",
       "      <td>2016</td>\n",
       "      <td>E1</td>\n",
       "      <td>0.797681</td>\n",
       "      <td>S4</td>\n",
       "      <td>0.857972</td>\n",
       "      <td>0.474855</td>\n",
       "    </tr>\n",
       "    <tr>\n",
       "      <th>2</th>\n",
       "      <td>For the first time, Porsche has published a co...</td>\n",
       "      <td>Porsche</td>\n",
       "      <td>2016</td>\n",
       "      <td>E1</td>\n",
       "      <td>0.781439</td>\n",
       "      <td>S4</td>\n",
       "      <td>0.863545</td>\n",
       "      <td>0.600305</td>\n",
       "    </tr>\n",
       "    <tr>\n",
       "      <th>3</th>\n",
       "      <td>Over the course of the last financial year, Po...</td>\n",
       "      <td>Porsche</td>\n",
       "      <td>2016</td>\n",
       "      <td>G1</td>\n",
       "      <td>0.746018</td>\n",
       "      <td>S4</td>\n",
       "      <td>0.843645</td>\n",
       "      <td>0.455402</td>\n",
       "    </tr>\n",
       "    <tr>\n",
       "      <th>4</th>\n",
       "      <td>power of new technology. New variants of the 9...</td>\n",
       "      <td>Porsche</td>\n",
       "      <td>2016</td>\n",
       "      <td>E1</td>\n",
       "      <td>0.752404</td>\n",
       "      <td>E4</td>\n",
       "      <td>0.827516</td>\n",
       "      <td>0.439552</td>\n",
       "    </tr>\n",
       "  </tbody>\n",
       "</table>\n",
       "</div>"
      ],
      "text/plain": [
       "                                                text   Company  year  \\\n",
       "0  Augmented reality makes the fascination of Por...   Porsche  2016   \n",
       "1  The second volume is called Performance and co...   Porsche  2016   \n",
       "2  For the first time, Porsche has published a co...   Porsche  2016   \n",
       "3  Over the course of the last financial year, Po...   Porsche  2016   \n",
       "4  power of new technology. New variants of the 9...   Porsche  2016   \n",
       "\n",
       "  adda_Label  sim_score centroid_label  centroid_score  Formness_score  \n",
       "0         E1   0.721638             S3        0.820336        0.671054  \n",
       "1         E1   0.797681             S4        0.857972        0.474855  \n",
       "2         E1   0.781439             S4        0.863545        0.600305  \n",
       "3         G1   0.746018             S4        0.843645        0.455402  \n",
       "4         E1   0.752404             E4        0.827516        0.439552  "
      ]
     },
     "execution_count": 4,
     "metadata": {},
     "output_type": "execute_result"
    }
   ],
   "source": [
    "df.head()"
   ]
  },
  {
   "cell_type": "code",
   "execution_count": 6,
   "metadata": {},
   "outputs": [
    {
     "data": {
      "text/plain": [
       "0.31716768056737665"
      ]
     },
     "execution_count": 6,
     "metadata": {},
     "output_type": "execute_result"
    }
   ],
   "source": [
    "cohen_kappa_score(df.adda_Label,df.centroid_label)"
   ]
  },
  {
   "cell_type": "code",
   "execution_count": 8,
   "metadata": {},
   "outputs": [
    {
     "data": {
      "text/plain": [
       "0.38439893369441036"
      ]
     },
     "execution_count": 8,
     "metadata": {},
     "output_type": "execute_result"
    }
   ],
   "source": [
    "accuracy_score(df.adda_Label,df.centroid_label)"
   ]
  },
  {
   "cell_type": "code",
   "execution_count": 9,
   "metadata": {},
   "outputs": [],
   "source": [
    "df['agreement'] = (df['adda_Label']==df['centroid_label']).astype(int)"
   ]
  },
  {
   "cell_type": "code",
   "execution_count": 10,
   "metadata": {},
   "outputs": [
    {
     "data": {
      "text/html": [
       "<div>\n",
       "<style scoped>\n",
       "    .dataframe tbody tr th:only-of-type {\n",
       "        vertical-align: middle;\n",
       "    }\n",
       "\n",
       "    .dataframe tbody tr th {\n",
       "        vertical-align: top;\n",
       "    }\n",
       "\n",
       "    .dataframe thead th {\n",
       "        text-align: right;\n",
       "    }\n",
       "</style>\n",
       "<table border=\"1\" class=\"dataframe\">\n",
       "  <thead>\n",
       "    <tr style=\"text-align: right;\">\n",
       "      <th></th>\n",
       "      <th>text</th>\n",
       "      <th>Company</th>\n",
       "      <th>year</th>\n",
       "      <th>adda_Label</th>\n",
       "      <th>sim_score</th>\n",
       "      <th>centroid_label</th>\n",
       "      <th>centroid_score</th>\n",
       "      <th>Formness_score</th>\n",
       "      <th>agreement</th>\n",
       "    </tr>\n",
       "  </thead>\n",
       "  <tbody>\n",
       "    <tr>\n",
       "      <th>0</th>\n",
       "      <td>Augmented reality makes the fascination of Por...</td>\n",
       "      <td>Porsche</td>\n",
       "      <td>2016</td>\n",
       "      <td>E1</td>\n",
       "      <td>0.721638</td>\n",
       "      <td>S3</td>\n",
       "      <td>0.820336</td>\n",
       "      <td>0.671054</td>\n",
       "      <td>0</td>\n",
       "    </tr>\n",
       "    <tr>\n",
       "      <th>1</th>\n",
       "      <td>The second volume is called Performance and co...</td>\n",
       "      <td>Porsche</td>\n",
       "      <td>2016</td>\n",
       "      <td>E1</td>\n",
       "      <td>0.797681</td>\n",
       "      <td>S4</td>\n",
       "      <td>0.857972</td>\n",
       "      <td>0.474855</td>\n",
       "      <td>0</td>\n",
       "    </tr>\n",
       "    <tr>\n",
       "      <th>2</th>\n",
       "      <td>For the first time, Porsche has published a co...</td>\n",
       "      <td>Porsche</td>\n",
       "      <td>2016</td>\n",
       "      <td>E1</td>\n",
       "      <td>0.781439</td>\n",
       "      <td>S4</td>\n",
       "      <td>0.863545</td>\n",
       "      <td>0.600305</td>\n",
       "      <td>0</td>\n",
       "    </tr>\n",
       "    <tr>\n",
       "      <th>3</th>\n",
       "      <td>Over the course of the last financial year, Po...</td>\n",
       "      <td>Porsche</td>\n",
       "      <td>2016</td>\n",
       "      <td>G1</td>\n",
       "      <td>0.746018</td>\n",
       "      <td>S4</td>\n",
       "      <td>0.843645</td>\n",
       "      <td>0.455402</td>\n",
       "      <td>0</td>\n",
       "    </tr>\n",
       "    <tr>\n",
       "      <th>4</th>\n",
       "      <td>power of new technology. New variants of the 9...</td>\n",
       "      <td>Porsche</td>\n",
       "      <td>2016</td>\n",
       "      <td>E1</td>\n",
       "      <td>0.752404</td>\n",
       "      <td>E4</td>\n",
       "      <td>0.827516</td>\n",
       "      <td>0.439552</td>\n",
       "      <td>0</td>\n",
       "    </tr>\n",
       "  </tbody>\n",
       "</table>\n",
       "</div>"
      ],
      "text/plain": [
       "                                                text   Company  year  \\\n",
       "0  Augmented reality makes the fascination of Por...   Porsche  2016   \n",
       "1  The second volume is called Performance and co...   Porsche  2016   \n",
       "2  For the first time, Porsche has published a co...   Porsche  2016   \n",
       "3  Over the course of the last financial year, Po...   Porsche  2016   \n",
       "4  power of new technology. New variants of the 9...   Porsche  2016   \n",
       "\n",
       "  adda_Label  sim_score centroid_label  centroid_score  Formness_score  \\\n",
       "0         E1   0.721638             S3        0.820336        0.671054   \n",
       "1         E1   0.797681             S4        0.857972        0.474855   \n",
       "2         E1   0.781439             S4        0.863545        0.600305   \n",
       "3         G1   0.746018             S4        0.843645        0.455402   \n",
       "4         E1   0.752404             E4        0.827516        0.439552   \n",
       "\n",
       "   agreement  \n",
       "0          0  \n",
       "1          0  \n",
       "2          0  \n",
       "3          0  \n",
       "4          0  "
      ]
     },
     "execution_count": 10,
     "metadata": {},
     "output_type": "execute_result"
    }
   ],
   "source": [
    "df.head()"
   ]
  },
  {
   "cell_type": "code",
   "execution_count": 11,
   "metadata": {},
   "outputs": [
    {
     "data": {
      "text/plain": [
       "0.7459493804934872"
      ]
     },
     "execution_count": 11,
     "metadata": {},
     "output_type": "execute_result"
    }
   ],
   "source": [
    "accuracy_score(df[df[\"centroid_score\"]>0.9].adda_Label,df[df[\"centroid_score\"]>0.9].centroid_label)"
   ]
  },
  {
   "cell_type": "code",
   "execution_count": 12,
   "metadata": {},
   "outputs": [
    {
     "data": {
      "text/plain": [
       "0.8646353646353646"
      ]
     },
     "execution_count": 12,
     "metadata": {},
     "output_type": "execute_result"
    }
   ],
   "source": [
    "accuracy_score(df[df[\"sim_score\"]>0.82].adda_Label,df[df[\"sim_score\"]>0.82].centroid_label)"
   ]
  },
  {
   "cell_type": "code",
   "execution_count": 13,
   "metadata": {},
   "outputs": [
    {
     "data": {
      "text/plain": [
       "9443"
      ]
     },
     "execution_count": 13,
     "metadata": {},
     "output_type": "execute_result"
    }
   ],
   "source": [
    "len(df[df[\"centroid_score\"]>0.9])"
   ]
  },
  {
   "cell_type": "code",
   "execution_count": 14,
   "metadata": {},
   "outputs": [
    {
     "data": {
      "text/plain": [
       "8008"
      ]
     },
     "execution_count": 14,
     "metadata": {},
     "output_type": "execute_result"
    }
   ],
   "source": [
    "len(df[df[\"sim_score\"]>0.82])\n"
   ]
  },
  {
   "cell_type": "code",
   "execution_count": 15,
   "metadata": {},
   "outputs": [
    {
     "data": {
      "text/plain": [
       "<Axes: >"
      ]
     },
     "execution_count": 15,
     "metadata": {},
     "output_type": "execute_result"
    },
    {
     "data": {
      "image/png": "[encoded data removed]",
      "text/plain": [
       "<Figure size 640x480 with 1 Axes>"
      ]
     },
     "metadata": {},
     "output_type": "display_data"
    }
   ],
   "source": [
    "df[\"centroid_score\"].hist(bins=100)"
   ]
  },
  {
   "cell_type": "code",
   "execution_count": 16,
   "metadata": {},
   "outputs": [
    {
     "data": {
      "text/plain": [
       "<Axes: >"
      ]
     },
     "execution_count": 16,
     "metadata": {},
     "output_type": "execute_result"
    },
    {
     "data": {
      "image/png": "[encoded data removed]",
      "text/plain": [
       "<Figure size 640x480 with 1 Axes>"
      ]
     },
     "metadata": {},
     "output_type": "display_data"
    }
   ],
   "source": [
    "df[\"sim_score\"].hist(bins=100)"
   ]
  },
  {
   "cell_type": "code",
   "execution_count": 18,
   "metadata": {},
   "outputs": [
    {
     "data": {
      "image/png": "[encoded data removed]",
      "text/plain": [
       "<Figure size 640x480 with 1 Axes>"
      ]
     },
     "metadata": {},
     "output_type": "display_data"
    }
   ],
   "source": [
    "colors = {0: 'blue', 1: 'red'}\n",
    "ax1 = df.plot.scatter(x='sim_score',y='centroid_score',c=df.agreement.map(colors))"
   ]
  },
  {
   "cell_type": "code",
   "execution_count": 19,
   "metadata": {},
   "outputs": [
    {
     "data": {
      "text/html": [
       "<div>\n",
       "<style scoped>\n",
       "    .dataframe tbody tr th:only-of-type {\n",
       "        vertical-align: middle;\n",
       "    }\n",
       "\n",
       "    .dataframe tbody tr th {\n",
       "        vertical-align: top;\n",
       "    }\n",
       "\n",
       "    .dataframe thead th {\n",
       "        text-align: right;\n",
       "    }\n",
       "</style>\n",
       "<table border=\"1\" class=\"dataframe\">\n",
       "  <thead>\n",
       "    <tr style=\"text-align: right;\">\n",
       "      <th></th>\n",
       "      <th>text</th>\n",
       "      <th>Company</th>\n",
       "      <th>year</th>\n",
       "      <th>adda_Label</th>\n",
       "      <th>sim_score</th>\n",
       "      <th>centroid_label</th>\n",
       "      <th>centroid_score</th>\n",
       "      <th>Formness_score</th>\n",
       "      <th>agreement</th>\n",
       "    </tr>\n",
       "  </thead>\n",
       "  <tbody>\n",
       "    <tr>\n",
       "      <th>64415</th>\n",
       "      <td>Within the framework of our sustainability man...</td>\n",
       "      <td>Mercedes-Benz</td>\n",
       "      <td>2015</td>\n",
       "      <td>E2</td>\n",
       "      <td>0.019831</td>\n",
       "      <td>S3</td>\n",
       "      <td>0.008509</td>\n",
       "      <td>0.603823</td>\n",
       "      <td>0</td>\n",
       "    </tr>\n",
       "  </tbody>\n",
       "</table>\n",
       "</div>"
      ],
      "text/plain": [
       "                                                    text        Company  year  \\\n",
       "64415  Within the framework of our sustainability man...  Mercedes-Benz  2015   \n",
       "\n",
       "      adda_Label  sim_score centroid_label  centroid_score  Formness_score  \\\n",
       "64415         E2   0.019831             S3        0.008509        0.603823   \n",
       "\n",
       "       agreement  \n",
       "64415          0  "
      ]
     },
     "execution_count": 19,
     "metadata": {},
     "output_type": "execute_result"
    }
   ],
   "source": [
    "df[df[\"centroid_score\"]<0.2]"
   ]
  },
  {
   "cell_type": "code",
   "execution_count": 20,
   "metadata": {},
   "outputs": [
    {
     "data": {
      "text/plain": [
       "'Within the framework of our sustainability management system, we steer our sustainability program in a manner that enables us to verify the imple- mentation of its objectives and thus ensure continuous improvement. Our management and organizational structures support this process by establishing clear lines of responsibility in all business divisions. Our sustainability objectives and their management are central components of our corporate governance system and are also incorporated into the target agreements between employees and managers.'"
      ]
     },
     "execution_count": 20,
     "metadata": {},
     "output_type": "execute_result"
    }
   ],
   "source": [
    "df.at[64415,\"text\"]"
   ]
  },
  {
   "cell_type": "code",
   "execution_count": 21,
   "metadata": {},
   "outputs": [
    {
     "data": {
      "text/plain": [
       "(0.6, 1.0)"
      ]
     },
     "execution_count": 21,
     "metadata": {},
     "output_type": "execute_result"
    },
    {
     "data": {
      "image/png": "[encoded data removed]",
      "text/plain": [
       "<Figure size 640x480 with 1 Axes>"
      ]
     },
     "metadata": {},
     "output_type": "display_data"
    }
   ],
   "source": [
    "ax = df.plot.scatter(x='sim_score',y='centroid_score',c=df.agreement.map(colors))\n",
    "ax.set_xlim(0.6,1)\n",
    "ax.set_ylim(0.6,1)\n"
   ]
  },
  {
   "cell_type": "code",
   "execution_count": 22,
   "metadata": {},
   "outputs": [
    {
     "data": {
      "text/plain": [
       "(0.6, 1.0)"
      ]
     },
     "execution_count": 22,
     "metadata": {},
     "output_type": "execute_result"
    },
    {
     "data": {
      "image/png": "[encoded data removed]",
      "text/plain": [
       "<Figure size 640x480 with 1 Axes>"
      ]
     },
     "metadata": {},
     "output_type": "display_data"
    }
   ],
   "source": [
    "ax = df.plot.scatter(x='sim_score',y='centroid_score',c=df.agreement.map(colors))\n",
    "ax.plot([0, 1.35], [2.21, 0], c=\"black\")\n",
    "ax.plot([0, 1.25], [2.05, 0], c=\"black\")\n",
    "ax.set_xlim(0.6,1)\n",
    "ax.set_ylim(0.6,1)\n"
   ]
  },
  {
   "cell_type": "code",
   "execution_count": 23,
   "metadata": {},
   "outputs": [],
   "source": [
    "top_df=df[df[\"sim_score\"]*1.637+df[\"centroid_score\"] > 2.21]\n",
    "mid_df=df[(df[\"sim_score\"]*1.637+df[\"centroid_score\"]> 2.05) & (df[\"sim_score\"]*1.637+df[\"centroid_score\"]<= 2.21)]\n",
    "low_df=df[df[\"sim_score\"]*1.637+df[\"centroid_score\"] <= 2.04]"
   ]
  },
  {
   "cell_type": "code",
   "execution_count": 25,
   "metadata": {},
   "outputs": [
    {
     "name": "stdout",
     "output_type": "stream",
     "text": [
      "Top data proportion 0.1768819024245758\n",
      "Mid data proportion 0.7197562730080819\n",
      "Low data proportion 0.07631278297296154\n"
     ]
    }
   ],
   "source": [
    "print(\"Top data proportion\",len(top_df)/len(df))\n",
    "print(\"Mid data proportion\",len(mid_df)/len(df))\n",
    "print(\"Low data proportion\",len(low_df)/len(df))"
   ]
  },
  {
   "cell_type": "markdown",
   "metadata": {},
   "source": [
    "## Top Section"
   ]
  },
  {
   "cell_type": "code",
   "execution_count": 26,
   "metadata": {},
   "outputs": [
    {
     "data": {
      "text/html": [
       "<div>\n",
       "<style scoped>\n",
       "    .dataframe tbody tr th:only-of-type {\n",
       "        vertical-align: middle;\n",
       "    }\n",
       "\n",
       "    .dataframe tbody tr th {\n",
       "        vertical-align: top;\n",
       "    }\n",
       "\n",
       "    .dataframe thead th {\n",
       "        text-align: right;\n",
       "    }\n",
       "</style>\n",
       "<table border=\"1\" class=\"dataframe\">\n",
       "  <thead>\n",
       "    <tr style=\"text-align: right;\">\n",
       "      <th></th>\n",
       "      <th>text</th>\n",
       "      <th>Company</th>\n",
       "      <th>year</th>\n",
       "      <th>adda_Label</th>\n",
       "      <th>sim_score</th>\n",
       "      <th>centroid_label</th>\n",
       "      <th>centroid_score</th>\n",
       "      <th>Formness_score</th>\n",
       "      <th>agreement</th>\n",
       "    </tr>\n",
       "  </thead>\n",
       "  <tbody>\n",
       "    <tr>\n",
       "      <th>41</th>\n",
       "      <td>Adherence to the law and legislation is ensure...</td>\n",
       "      <td>Porsche</td>\n",
       "      <td>2016</td>\n",
       "      <td>G1</td>\n",
       "      <td>0.810355</td>\n",
       "      <td>G1</td>\n",
       "      <td>0.888212</td>\n",
       "      <td>0.433867</td>\n",
       "      <td>1</td>\n",
       "    </tr>\n",
       "    <tr>\n",
       "      <th>42</th>\n",
       "      <td>Porsches compliance programme comprises a rang...</td>\n",
       "      <td>Porsche</td>\n",
       "      <td>2016</td>\n",
       "      <td>G1</td>\n",
       "      <td>0.825220</td>\n",
       "      <td>G1</td>\n",
       "      <td>0.888968</td>\n",
       "      <td>0.585818</td>\n",
       "      <td>1</td>\n",
       "    </tr>\n",
       "    <tr>\n",
       "      <th>43</th>\n",
       "      <td>The compliance code summarises the most import...</td>\n",
       "      <td>Porsche</td>\n",
       "      <td>2016</td>\n",
       "      <td>G1</td>\n",
       "      <td>0.839349</td>\n",
       "      <td>G1</td>\n",
       "      <td>0.924060</td>\n",
       "      <td>0.823286</td>\n",
       "      <td>1</td>\n",
       "    </tr>\n",
       "    <tr>\n",
       "      <th>44</th>\n",
       "      <td>As a main measure of response, an internal and...</td>\n",
       "      <td>Porsche</td>\n",
       "      <td>2016</td>\n",
       "      <td>G1</td>\n",
       "      <td>0.816739</td>\n",
       "      <td>G1</td>\n",
       "      <td>0.893480</td>\n",
       "      <td>0.647341</td>\n",
       "      <td>1</td>\n",
       "    </tr>\n",
       "    <tr>\n",
       "      <th>46</th>\n",
       "      <td>Trustworthy cooperation and common values are ...</td>\n",
       "      <td>Porsche</td>\n",
       "      <td>2016</td>\n",
       "      <td>G1</td>\n",
       "      <td>0.826012</td>\n",
       "      <td>G1</td>\n",
       "      <td>0.896600</td>\n",
       "      <td>0.410629</td>\n",
       "      <td>1</td>\n",
       "    </tr>\n",
       "  </tbody>\n",
       "</table>\n",
       "</div>"
      ],
      "text/plain": [
       "                                                 text   Company  year  \\\n",
       "41  Adherence to the law and legislation is ensure...   Porsche  2016   \n",
       "42  Porsches compliance programme comprises a rang...   Porsche  2016   \n",
       "43  The compliance code summarises the most import...   Porsche  2016   \n",
       "44  As a main measure of response, an internal and...   Porsche  2016   \n",
       "46  Trustworthy cooperation and common values are ...   Porsche  2016   \n",
       "\n",
       "   adda_Label  sim_score centroid_label  centroid_score  Formness_score  \\\n",
       "41         G1   0.810355             G1        0.888212        0.433867   \n",
       "42         G1   0.825220             G1        0.888968        0.585818   \n",
       "43         G1   0.839349             G1        0.924060        0.823286   \n",
       "44         G1   0.816739             G1        0.893480        0.647341   \n",
       "46         G1   0.826012             G1        0.896600        0.410629   \n",
       "\n",
       "    agreement  \n",
       "41          1  \n",
       "42          1  \n",
       "43          1  \n",
       "44          1  \n",
       "46          1  "
      ]
     },
     "execution_count": 26,
     "metadata": {},
     "output_type": "execute_result"
    }
   ],
   "source": [
    "top_df.head()"
   ]
  },
  {
   "cell_type": "code",
   "execution_count": 27,
   "metadata": {},
   "outputs": [
    {
     "data": {
      "text/plain": [
       "0.7536630584295197"
      ]
     },
     "execution_count": 27,
     "metadata": {},
     "output_type": "execute_result"
    }
   ],
   "source": [
    "top_df.agreement.mean()"
   ]
  },
  {
   "cell_type": "code",
   "execution_count": 28,
   "metadata": {},
   "outputs": [
    {
     "data": {
      "text/plain": [
       "adda_Label\n",
       "E1    5518\n",
       "E2     228\n",
       "E3     324\n",
       "E4     250\n",
       "E5     434\n",
       "G1    4624\n",
       "S1    3736\n",
       "S2    1090\n",
       "S3     115\n",
       "S4     402\n",
       "Name: text, dtype: int64"
      ]
     },
     "execution_count": 28,
     "metadata": {},
     "output_type": "execute_result"
    }
   ],
   "source": [
    "top_df.groupby(\"adda_Label\")[\"text\"].count()"
   ]
  },
  {
   "cell_type": "code",
   "execution_count": 29,
   "metadata": {},
   "outputs": [
    {
     "data": {
      "text/plain": [
       "centroid_label\n",
       "E1    4599\n",
       "E2     499\n",
       "E3     390\n",
       "E4     323\n",
       "E5     767\n",
       "G1    3565\n",
       "S1    3609\n",
       "S3     358\n",
       "S4    2611\n",
       "Name: text, dtype: int64"
      ]
     },
     "execution_count": 29,
     "metadata": {},
     "output_type": "execute_result"
    }
   ],
   "source": [
    "top_df.groupby(\"centroid_label\")[\"text\"].count()"
   ]
  },
  {
   "cell_type": "markdown",
   "metadata": {},
   "source": [
    "S2 label missing from centroid labels"
   ]
  },
  {
   "cell_type": "code",
   "execution_count": 30,
   "metadata": {},
   "outputs": [
    {
     "data": {
      "text/plain": [
       "adda_Label\n",
       "E1    4580\n",
       "E2     190\n",
       "E3     312\n",
       "E4     232\n",
       "E5     418\n",
       "G1    3246\n",
       "S1    3203\n",
       "S3      88\n",
       "S4     333\n",
       "Name: text, dtype: int64"
      ]
     },
     "execution_count": 30,
     "metadata": {},
     "output_type": "execute_result"
    }
   ],
   "source": [
    "top_df[top_df[\"centroid_label\"]==top_df[\"adda_Label\"]].groupby(\"adda_Label\")[\"text\"].count()"
   ]
  },
  {
   "cell_type": "code",
   "execution_count": 31,
   "metadata": {},
   "outputs": [
    {
     "data": {
      "text/plain": [
       "centroid_label\n",
       "E1      9\n",
       "E2     66\n",
       "E3     12\n",
       "E4     17\n",
       "E5     74\n",
       "G1     94\n",
       "S1    222\n",
       "S3     41\n",
       "S4    555\n",
       "Name: text, dtype: int64"
      ]
     },
     "execution_count": 31,
     "metadata": {},
     "output_type": "execute_result"
    }
   ],
   "source": [
    "top_df[top_df[\"adda_Label\"]==\"S2\"].groupby(\"centroid_label\")[\"text\"].count()"
   ]
  },
  {
   "cell_type": "code",
   "execution_count": 32,
   "metadata": {},
   "outputs": [],
   "source": [
    "#df_S2_adda=top_df[top_df[\"adda_Label\"]==\"S2\"].sample(100)\n",
    "#df_S2_adda[\"text\"]=df_S2_adda[\"text\"].apply(insert_newlines)\n",
    "#df_S2_adda.to_csv(\"Adda_S2_top.csv\",columns=[\"text\",\"centroid_label\"])"
   ]
  },
  {
   "cell_type": "markdown",
   "metadata": {},
   "source": [
    "After looking at 100 random samples we can deduce that data labeled S1 with ada_label and S2 with centroid is indicative of S2 data"
   ]
  },
  {
   "cell_type": "code",
   "execution_count": 34,
   "metadata": {},
   "outputs": [
    {
     "name": "stderr",
     "output_type": "stream",
     "text": [
      "<ipython-input-34-e7288436651e>:1: SettingWithCopyWarning: \n",
      "A value is trying to be set on a copy of a slice from a DataFrame.\n",
      "Try using .loc[row_indexer,col_indexer] = value instead\n",
      "\n",
      "See the caveats in the documentation: https://pandas.pydata.org/pandas-docs/stable/user_guide/indexing.html#returning-a-view-versus-a-copy\n",
      "  top_df['agreement'] = (top_df['adda_Label']==top_df['centroid_label']).astype(int)\n"
     ]
    }
   ],
   "source": [
    "top_df.loc[(top_df['adda_Label'] == \"S2\") & (top_df['centroid_label'] == \"S1\"), 'centroid_label'] = 'S2'\n",
    "top_df['agreement'] = (top_df['adda_Label']==top_df['centroid_label']).astype(int)"
   ]
  },
  {
   "cell_type": "code",
   "execution_count": 35,
   "metadata": {},
   "outputs": [
    {
     "data": {
      "text/plain": [
       "adda_Label\n",
       "E1    4580\n",
       "E2     190\n",
       "E3     312\n",
       "E4     232\n",
       "E5     418\n",
       "G1    3246\n",
       "S1    3203\n",
       "S2     222\n",
       "S3      88\n",
       "S4     333\n",
       "Name: text, dtype: int64"
      ]
     },
     "execution_count": 35,
     "metadata": {},
     "output_type": "execute_result"
    }
   ],
   "source": [
    "top_df[top_df[\"agreement\"]==1].groupby(\"adda_Label\")[\"text\"].count()"
   ]
  },
  {
   "cell_type": "markdown",
   "metadata": {},
   "source": [
    "Very few S3 labels in ada labaling"
   ]
  },
  {
   "cell_type": "code",
   "execution_count": 36,
   "metadata": {},
   "outputs": [
    {
     "data": {
      "text/plain": [
       "adda_Label\n",
       "E1     52\n",
       "E2      1\n",
       "E5      1\n",
       "G1    142\n",
       "S1     32\n",
       "S2     41\n",
       "S3     88\n",
       "S4      1\n",
       "Name: text, dtype: int64"
      ]
     },
     "execution_count": 36,
     "metadata": {},
     "output_type": "execute_result"
    }
   ],
   "source": [
    "top_df[top_df[\"centroid_label\"]==\"S3\"].groupby(\"adda_Label\")[\"text\"].count()"
   ]
  },
  {
   "cell_type": "markdown",
   "metadata": {},
   "source": [
    "Data with E1 ada label and S3 centroid label is indicative of paragraphs describing climate cchange impact on affected comunities, therfore should have recived S3 label"
   ]
  },
  {
   "cell_type": "code",
   "execution_count": 38,
   "metadata": {},
   "outputs": [
    {
     "name": "stderr",
     "output_type": "stream",
     "text": [
      "<ipython-input-38-dd8e8042c45b>:1: SettingWithCopyWarning: \n",
      "A value is trying to be set on a copy of a slice from a DataFrame.\n",
      "Try using .loc[row_indexer,col_indexer] = value instead\n",
      "\n",
      "See the caveats in the documentation: https://pandas.pydata.org/pandas-docs/stable/user_guide/indexing.html#returning-a-view-versus-a-copy\n",
      "  top_df['agreement'] = (top_df['adda_Label']==top_df['centroid_label']).astype(int)\n"
     ]
    },
    {
     "data": {
      "text/plain": [
       "adda_Label\n",
       "E1    4580\n",
       "E2     190\n",
       "E3     312\n",
       "E4     232\n",
       "E5     418\n",
       "G1    3246\n",
       "S1    3203\n",
       "S2     222\n",
       "S3     140\n",
       "S4     333\n",
       "Name: text, dtype: int64"
      ]
     },
     "execution_count": 38,
     "metadata": {},
     "output_type": "execute_result"
    }
   ],
   "source": [
    "top_df.loc[(top_df['adda_Label'] == \"E1\") & (top_df['centroid_label'] == \"S3\"), 'adda_Label'] = 'S3'\n",
    "top_df['agreement'] = (top_df['adda_Label']==top_df['centroid_label']).astype(int)\n",
    "top_df[top_df[\"agreement\"]==1].groupby(\"adda_Label\")[\"text\"].count()"
   ]
  },
  {
   "cell_type": "code",
   "execution_count": 39,
   "metadata": {},
   "outputs": [],
   "source": [
    "# traning data from the top data\n",
    "top_training_df=top_df[top_df[\"agreement\"]==1]"
   ]
  },
  {
   "cell_type": "code",
   "execution_count": null,
   "metadata": {},
   "outputs": [],
   "source": [
    "# function helps readability of data when writen to csv\n",
    "def insert_newlines(string, every=64):\n",
    "    return ' \\n '.join(string[i:i+every] for i in range(0, len(string), every))"
   ]
  },
  {
   "cell_type": "code",
   "execution_count": 40,
   "metadata": {},
   "outputs": [],
   "source": [
    "#top_train_df=top_df[top_df[\"agreement\"]==1]\n",
    "#top_train_df.to_csv(\"top_data_train\",columns=['text', 'adda_Label'])\n",
    "#top_df[(top_df[\"centroid_label\"]==\"S3\") &(top_df[\"adda_Label\"]==\"E1\")][\"text\"].apply(insert_newlines).to_csv(\"top_S3-E1.csv\")\n",
    "#top_df[(top_df[\"centroid_label\"]==\"E3\") &(top_df[\"Label\"]==\"E1\")][\"text\"].apply(insert_newlines).to_csv(\"E3-E1.csv\")\n",
    "#top_df[(top_df[\"centroid_label\"]==\"E3\") &(top_df[\"Label\"]!=\"E1\")][\"text\"].apply(insert_newlines).to_csv(\"E3-notE1.csv\")"
   ]
  },
  {
   "cell_type": "code",
   "execution_count": 42,
   "metadata": {},
   "outputs": [],
   "source": [
    "#sample_top=top_df.sample(n=100)\n",
    "#sample_top[\"text\"]=sample_top[\"text\"].apply(insert_newlines)\n",
    "#sample_top.to_csv(\"top_100.csv\")"
   ]
  },
  {
   "cell_type": "markdown",
   "metadata": {},
   "source": [
    "## Mid Section"
   ]
  },
  {
   "cell_type": "code",
   "execution_count": 43,
   "metadata": {},
   "outputs": [
    {
     "data": {
      "text/plain": [
       "0.3384626690182246"
      ]
     },
     "execution_count": 43,
     "metadata": {},
     "output_type": "execute_result"
    }
   ],
   "source": [
    "mid_df.agreement.mean()"
   ]
  },
  {
   "cell_type": "code",
   "execution_count": 44,
   "metadata": {},
   "outputs": [
    {
     "data": {
      "text/plain": [
       "adda_Label\n",
       "E1    17695\n",
       "E2     1349\n",
       "E3     1037\n",
       "E4      621\n",
       "E5     1502\n",
       "G1    19024\n",
       "S1    14509\n",
       "S2     7574\n",
       "S3     1039\n",
       "S4     3690\n",
       "Name: text, dtype: int64"
      ]
     },
     "execution_count": 44,
     "metadata": {},
     "output_type": "execute_result"
    }
   ],
   "source": [
    "mid_df.groupby(\"adda_Label\")[\"text\"].count()"
   ]
  },
  {
   "cell_type": "code",
   "execution_count": 45,
   "metadata": {},
   "outputs": [
    {
     "data": {
      "text/plain": [
       "centroid_label\n",
       "E1     4057\n",
       "E2     4780\n",
       "E3     1439\n",
       "E4     4288\n",
       "E5     3961\n",
       "G1     5473\n",
       "S1     9426\n",
       "S3    20367\n",
       "S4    14249\n",
       "Name: text, dtype: int64"
      ]
     },
     "execution_count": 45,
     "metadata": {},
     "output_type": "execute_result"
    }
   ],
   "source": [
    "mid_df.groupby(\"centroid_label\")[\"text\"].count()"
   ]
  },
  {
   "cell_type": "code",
   "execution_count": 46,
   "metadata": {},
   "outputs": [
    {
     "data": {
      "text/plain": [
       "adda_Label\n",
       "E1    4003\n",
       "E2    1017\n",
       "E3     607\n",
       "E4     530\n",
       "E5    1153\n",
       "G1    4757\n",
       "S1    7903\n",
       "S3     872\n",
       "S4    2187\n",
       "Name: text, dtype: int64"
      ]
     },
     "execution_count": 46,
     "metadata": {},
     "output_type": "execute_result"
    }
   ],
   "source": [
    "mid_df[mid_df[\"agreement\"]==1].groupby(\"adda_Label\")[\"text\"].count()"
   ]
  },
  {
   "cell_type": "code",
   "execution_count": 47,
   "metadata": {},
   "outputs": [],
   "source": [
    "#mid_df_E1_sample=mid_df[(mid_df[\"agreement\"]==1) & (mid_df[\"adda_Label\"]==\"E1\")].sample(100)\n",
    "#mid_df_E1_sample[\"text\"]=mid_df_E1_sample[\"text\"].apply(insert_newlines)\n",
    "#mid_df_E1_sample.to_csv(\"mid_E1.csv\")"
   ]
  },
  {
   "cell_type": "markdown",
   "metadata": {},
   "source": [
    "Can't use the same rules as in top data to solve for S2 and S3 lack in centroid data\\\n",
    "data here is less accurate and there is more variance in misslabeled data"
   ]
  },
  {
   "cell_type": "code",
   "execution_count": 48,
   "metadata": {},
   "outputs": [
    {
     "data": {
      "text/plain": [
       "centroid_label\n",
       "E1      15\n",
       "E2     685\n",
       "E3      42\n",
       "E4     581\n",
       "E5     600\n",
       "G1     143\n",
       "S1     558\n",
       "S3    2951\n",
       "S4    1999\n",
       "Name: text, dtype: int64"
      ]
     },
     "execution_count": 48,
     "metadata": {},
     "output_type": "execute_result"
    }
   ],
   "source": [
    "mid_df[mid_df[\"adda_Label\"]==\"S2\"].groupby(\"centroid_label\")[\"text\"].count()"
   ]
  },
  {
   "cell_type": "markdown",
   "metadata": {},
   "source": [
    "Define kewords for each label"
   ]
  },
  {
   "cell_type": "code",
   "execution_count": 49,
   "metadata": {},
   "outputs": [],
   "source": [
    "E1_keywords=[\"gross scope\",\"climate change\",\"global warming\",\"ghg\",\"carbon\"]\n",
    "E2_keywords=[\"pollution\",\"toxic\",\"chemicals\",\"substances\"]\n",
    "E3_keywords=[\"water consumption\",\"water\",\"marine\"]\n",
    "E4_keywords=[\"biodiversity\",\"ecosystems\",\"species\"]\n",
    "E5_keywords=[\"circular\",\"recycling\",\"recycled\"]\n",
    "S1_keywords=[\"employee\",\" worker representative\",\"workforce\",\"diversity\",\"wages\",\"social\",\"health\",\"training\",\"collective bargaining\"]\n",
    "S2_keywords=[\"worker\",\"emplyee\"]\n",
    "S3_keywords=[\"community\",\"communities\"]\n",
    "S4_keywords=[\"consumer\",\"user\",\"customer\"]\n",
    "G1_keywords=[\"corporate culture\",\"tax\",\"bribery\",\"corruption\"]\n"
   ]
  },
  {
   "cell_type": "code",
   "execution_count": 50,
   "metadata": {},
   "outputs": [],
   "source": [
    "mid_df_agree=mid_df[mid_df[\"agreement\"]==1] # only use data where the two methods agree"
   ]
  },
  {
   "cell_type": "code",
   "execution_count": 51,
   "metadata": {},
   "outputs": [],
   "source": [
    "# for each label check that it contains any keword for that label (except S2)\n",
    "mid_df_E1=mid_df_agree[(mid_df_agree.text.str.contains('|'.join(E1_keywords),case=False))& (mid_df_agree[\"adda_Label\"]==\"E1\")] \n",
    "mid_df_E2=mid_df_agree[(mid_df_agree.text.str.contains('|'.join(E2_keywords),case=False))& (mid_df_agree[\"adda_Label\"]==\"E2\")] \n",
    "mid_df_E3=mid_df_agree[(mid_df_agree.text.str.contains('|'.join(E3_keywords),case=False))& (mid_df_agree[\"adda_Label\"]==\"E3\")] \n",
    "mid_df_E4=mid_df_agree[(mid_df_agree.text.str.contains('|'.join(E4_keywords),case=False))& (mid_df_agree[\"adda_Label\"]==\"E4\")] \n",
    "mid_df_E5=mid_df_agree[(mid_df_agree.text.str.contains('|'.join(E5_keywords),case=False))& (mid_df_agree[\"adda_Label\"]==\"E5\")] \n",
    "mid_df_S1=mid_df_agree[(mid_df_agree.text.str.contains('|'.join(S1_keywords),case=False))& (mid_df_agree[\"adda_Label\"]==\"S1\")] \n",
    "mid_df_S2=mid_df[(mid_df.text.str.contains('|'.join(S2_keywords),case=False))& (mid_df[\"adda_Label\"]==\"S2\")] \n",
    "mid_df_S3=mid_df_agree[(mid_df_agree.text.str.contains('|'.join(S3_keywords),case=False))& (mid_df_agree[\"adda_Label\"]==\"S3\")] \n",
    "mid_df_S4=mid_df_agree[(mid_df_agree.text.str.contains('|'.join(S4_keywords),case=False))& (mid_df_agree[\"adda_Label\"]==\"S4\")] \n",
    "mid_df_G1=mid_df_agree[(mid_df_agree.text.str.contains('|'.join(G1_keywords),case=False))& (mid_df_agree[\"adda_Label\"]==\"G1\")] "
   ]
  },
  {
   "cell_type": "code",
   "execution_count": 52,
   "metadata": {},
   "outputs": [],
   "source": [
    "# mid traning data => the labels agree and at least one keyword present\n",
    "mid_traning_df=pd.concat([mid_df_E1,mid_df_E2,mid_df_E3,mid_df_E4,mid_df_E5,mid_df_S1,mid_df_S2,mid_df_S3,mid_df_S4,mid_df_G1])"
   ]
  },
  {
   "cell_type": "code",
   "execution_count": 53,
   "metadata": {},
   "outputs": [
    {
     "data": {
      "text/plain": [
       "adda_Label\n",
       "E1    1073\n",
       "E2     298\n",
       "E3     565\n",
       "E4     171\n",
       "E5     676\n",
       "G1     446\n",
       "S1    5852\n",
       "S2     218\n",
       "S3     249\n",
       "S4    1084\n",
       "Name: text, dtype: int64"
      ]
     },
     "execution_count": 53,
     "metadata": {},
     "output_type": "execute_result"
    }
   ],
   "source": [
    "mid_traning_df.groupby(\"adda_Label\")[\"text\"].count()"
   ]
  },
  {
   "cell_type": "code",
   "execution_count": 54,
   "metadata": {},
   "outputs": [],
   "source": [
    "#mid_sample=mid_traning_df.sample(100)\n",
    "#mid_sample[\"text\"]=mid_sample[\"text\"].apply(insert_newlines)\n",
    "#mid_sample.to_csv(\"mid_sample_100.csv\")"
   ]
  },
  {
   "cell_type": "markdown",
   "metadata": {},
   "source": [
    "Low data"
   ]
  },
  {
   "cell_type": "code",
   "execution_count": 55,
   "metadata": {},
   "outputs": [
    {
     "data": {
      "text/html": [
       "<div>\n",
       "<style scoped>\n",
       "    .dataframe tbody tr th:only-of-type {\n",
       "        vertical-align: middle;\n",
       "    }\n",
       "\n",
       "    .dataframe tbody tr th {\n",
       "        vertical-align: top;\n",
       "    }\n",
       "\n",
       "    .dataframe thead th {\n",
       "        text-align: right;\n",
       "    }\n",
       "</style>\n",
       "<table border=\"1\" class=\"dataframe\">\n",
       "  <thead>\n",
       "    <tr style=\"text-align: right;\">\n",
       "      <th></th>\n",
       "      <th>text</th>\n",
       "      <th>Company</th>\n",
       "      <th>year</th>\n",
       "      <th>adda_Label</th>\n",
       "      <th>sim_score</th>\n",
       "      <th>centroid_label</th>\n",
       "      <th>centroid_score</th>\n",
       "      <th>Formness_score</th>\n",
       "      <th>agreement</th>\n",
       "    </tr>\n",
       "  </thead>\n",
       "  <tbody>\n",
       "    <tr>\n",
       "      <th>0</th>\n",
       "      <td>Augmented reality makes the fascination of Por...</td>\n",
       "      <td>Porsche</td>\n",
       "      <td>2016</td>\n",
       "      <td>E1</td>\n",
       "      <td>0.721638</td>\n",
       "      <td>S3</td>\n",
       "      <td>0.820336</td>\n",
       "      <td>0.671054</td>\n",
       "      <td>0</td>\n",
       "    </tr>\n",
       "    <tr>\n",
       "      <th>8</th>\n",
       "      <td>World premire of the new Panamera Porsche unve...</td>\n",
       "      <td>Porsche</td>\n",
       "      <td>2016</td>\n",
       "      <td>E1</td>\n",
       "      <td>0.734298</td>\n",
       "      <td>S3</td>\n",
       "      <td>0.809566</td>\n",
       "      <td>0.626598</td>\n",
       "      <td>0</td>\n",
       "    </tr>\n",
       "    <tr>\n",
       "      <th>9</th>\n",
       "      <td>Digital Lab opened in Berlin At the end of Aug...</td>\n",
       "      <td>Porsche</td>\n",
       "      <td>2016</td>\n",
       "      <td>E1</td>\n",
       "      <td>0.732068</td>\n",
       "      <td>S3</td>\n",
       "      <td>0.833612</td>\n",
       "      <td>0.430309</td>\n",
       "      <td>0</td>\n",
       "    </tr>\n",
       "    <tr>\n",
       "      <th>12</th>\n",
       "      <td>new Experience Centre in Los Angeles In midNov...</td>\n",
       "      <td>Porsche</td>\n",
       "      <td>2016</td>\n",
       "      <td>G1</td>\n",
       "      <td>0.712344</td>\n",
       "      <td>S3</td>\n",
       "      <td>0.814409</td>\n",
       "      <td>0.403882</td>\n",
       "      <td>0</td>\n",
       "    </tr>\n",
       "    <tr>\n",
       "      <th>19</th>\n",
       "      <td>In the North American markets for passenger ca...</td>\n",
       "      <td>Porsche</td>\n",
       "      <td>2016</td>\n",
       "      <td>E1</td>\n",
       "      <td>0.733858</td>\n",
       "      <td>S3</td>\n",
       "      <td>0.821219</td>\n",
       "      <td>0.450867</td>\n",
       "      <td>0</td>\n",
       "    </tr>\n",
       "  </tbody>\n",
       "</table>\n",
       "</div>"
      ],
      "text/plain": [
       "                                                 text   Company  year  \\\n",
       "0   Augmented reality makes the fascination of Por...   Porsche  2016   \n",
       "8   World premire of the new Panamera Porsche unve...   Porsche  2016   \n",
       "9   Digital Lab opened in Berlin At the end of Aug...   Porsche  2016   \n",
       "12  new Experience Centre in Los Angeles In midNov...   Porsche  2016   \n",
       "19  In the North American markets for passenger ca...   Porsche  2016   \n",
       "\n",
       "   adda_Label  sim_score centroid_label  centroid_score  Formness_score  \\\n",
       "0          E1   0.721638             S3        0.820336        0.671054   \n",
       "8          E1   0.734298             S3        0.809566        0.626598   \n",
       "9          E1   0.732068             S3        0.833612        0.430309   \n",
       "12         G1   0.712344             S3        0.814409        0.403882   \n",
       "19         E1   0.733858             S3        0.821219        0.450867   \n",
       "\n",
       "    agreement  \n",
       "0           0  \n",
       "8           0  \n",
       "9           0  \n",
       "12          0  \n",
       "19          0  "
      ]
     },
     "execution_count": 55,
     "metadata": {},
     "output_type": "execute_result"
    }
   ],
   "source": [
    "low_df.head()"
   ]
  },
  {
   "cell_type": "code",
   "execution_count": 56,
   "metadata": {},
   "outputs": [
    {
     "data": {
      "text/plain": [
       "0.06542833379539784"
      ]
     },
     "execution_count": 56,
     "metadata": {},
     "output_type": "execute_result"
    }
   ],
   "source": [
    "low_df.agreement.mean()"
   ]
  },
  {
   "cell_type": "code",
   "execution_count": 57,
   "metadata": {},
   "outputs": [
    {
     "data": {
      "text/plain": [
       "adda_Label\n",
       "E1    2802\n",
       "E2     174\n",
       "E3     111\n",
       "E4      38\n",
       "E5     137\n",
       "G1    1829\n",
       "S1     878\n",
       "S2     544\n",
       "S3     191\n",
       "S4     510\n",
       "Name: text, dtype: int64"
      ]
     },
     "execution_count": 57,
     "metadata": {},
     "output_type": "execute_result"
    }
   ],
   "source": [
    "low_df.groupby(\"adda_Label\")[\"text\"].count()"
   ]
  },
  {
   "cell_type": "code",
   "execution_count": 58,
   "metadata": {},
   "outputs": [
    {
     "data": {
      "text/plain": [
       "centroid_label\n",
       "E1      50\n",
       "E2     383\n",
       "E3      83\n",
       "E4     641\n",
       "E5     253\n",
       "G1      10\n",
       "S1      92\n",
       "S3    5455\n",
       "S4     247\n",
       "Name: text, dtype: int64"
      ]
     },
     "execution_count": 58,
     "metadata": {},
     "output_type": "execute_result"
    }
   ],
   "source": [
    "low_df.groupby(\"centroid_label\")[\"text\"].count()"
   ]
  },
  {
   "cell_type": "code",
   "execution_count": 59,
   "metadata": {},
   "outputs": [],
   "source": [
    "low_df_disagree=low_df[low_df[\"agreement\"]==0] # two labels disagree"
   ]
  },
  {
   "cell_type": "code",
   "execution_count": 60,
   "metadata": {},
   "outputs": [],
   "source": [
    "# Now we check that no keywords matching ada label are present\n",
    "low_df_E1_ada=low_df_disagree[(low_df_disagree.text.str.contains('|'.join(E1_keywords),case=False)==False)& (low_df_disagree[\"adda_Label\"]==\"E1\")] \n",
    "low_df_E2_ada=low_df_disagree[(low_df_disagree.text.str.contains('|'.join(E2_keywords),case=False)==False)& (low_df_disagree[\"adda_Label\"]==\"E2\")] \n",
    "low_df_E3_ada=low_df_disagree[(low_df_disagree.text.str.contains('|'.join(E3_keywords),case=False)==False)& (low_df_disagree[\"adda_Label\"]==\"E3\")] \n",
    "low_df_E4_ada=low_df_disagree[(low_df_disagree.text.str.contains('|'.join(E4_keywords),case=False)==False)& (low_df_disagree[\"adda_Label\"]==\"E4\")] \n",
    "low_df_E5_ada=low_df_disagree[(low_df_disagree.text.str.contains('|'.join(E5_keywords),case=False)==False)& (low_df_disagree[\"adda_Label\"]==\"E5\")] \n",
    "low_df_S1_ada=low_df_disagree[(low_df_disagree.text.str.contains('|'.join(S1_keywords),case=False)==False)& (low_df_disagree[\"adda_Label\"]==\"S1\")] \n",
    "low_df_S2_ada=low_df_disagree[(low_df_disagree.text.str.contains('|'.join(S2_keywords),case=False)==False)& (low_df_disagree[\"adda_Label\"]==\"S2\")] \n",
    "low_df_S3_ada=low_df_disagree[(low_df_disagree.text.str.contains('|'.join(S3_keywords),case=False)==False)& (low_df_disagree[\"adda_Label\"]==\"S3\")] \n",
    "low_df_S4_ada=low_df_disagree[(low_df_disagree.text.str.contains('|'.join(S4_keywords),case=False)==False)& (low_df_disagree[\"adda_Label\"]==\"S4\")] \n",
    "low_df_G1_ada=low_df_disagree[(low_df_disagree.text.str.contains('|'.join(G1_keywords),case=False)==False)& (low_df_disagree[\"adda_Label\"]==\"G1\")] "
   ]
  },
  {
   "cell_type": "code",
   "execution_count": 61,
   "metadata": {},
   "outputs": [],
   "source": [
    "# Now we check that no keywords matching centroid label are present\n",
    "low_df_E1_cent=low_df_disagree[(low_df_disagree.text.str.contains('|'.join(E1_keywords),case=False)==False)& (low_df_disagree[\"centroid_label\"]==\"E1\")] \n",
    "low_df_E2_cent=low_df_disagree[(low_df_disagree.text.str.contains('|'.join(E2_keywords),case=False)==False)& (low_df_disagree[\"centroid_label\"]==\"E2\")] \n",
    "low_df_E3_cent=low_df_disagree[(low_df_disagree.text.str.contains('|'.join(E3_keywords),case=False)==False)& (low_df_disagree[\"centroid_label\"]==\"E3\")] \n",
    "low_df_E4_cent=low_df_disagree[(low_df_disagree.text.str.contains('|'.join(E4_keywords),case=False)==False)& (low_df_disagree[\"centroid_label\"]==\"E4\")] \n",
    "low_df_E5_cent=low_df_disagree[(low_df_disagree.text.str.contains('|'.join(E5_keywords),case=False)==False)& (low_df_disagree[\"centroid_label\"]==\"E5\")] \n",
    "low_df_S1_cent=low_df_disagree[(low_df_disagree.text.str.contains('|'.join(S1_keywords),case=False)==False)& (low_df_disagree[\"centroid_label\"]==\"S1\")] \n",
    "low_df_S2_cent=low_df_disagree[(low_df_disagree.text.str.contains('|'.join(S2_keywords),case=False)==False)& (low_df_disagree[\"centroid_label\"]==\"S2\")] \n",
    "low_df_S3_cent=low_df_disagree[(low_df_disagree.text.str.contains('|'.join(S3_keywords),case=False)==False)& (low_df_disagree[\"centroid_label\"]==\"S3\")] \n",
    "low_df_S4_cent=low_df_disagree[(low_df_disagree.text.str.contains('|'.join(S4_keywords),case=False)==False)& (low_df_disagree[\"centroid_label\"]==\"S4\")] \n",
    "low_df_G1_cent=low_df_disagree[(low_df_disagree.text.str.contains('|'.join(G1_keywords),case=False)==False)& (low_df_disagree[\"centroid_label\"]==\"G1\")] "
   ]
  },
  {
   "cell_type": "code",
   "execution_count": 62,
   "metadata": {},
   "outputs": [],
   "source": [
    "low_traning_ada=pd.concat([low_df_E1_ada,low_df_E2_ada,low_df_E3_ada,low_df_E4_ada,low_df_E5_ada,low_df_S1_ada,low_df_S2_ada,low_df_S3_ada,low_df_S4_ada,low_df_G1_ada])\n",
    "low_traning_cent=pd.concat([low_df_E1_cent,low_df_E2_cent,low_df_E3_cent,low_df_E4_cent,low_df_E5_cent,low_df_S1_cent,low_df_S2_cent,low_df_S3_cent,low_df_S4_cent,low_df_G1_cent])"
   ]
  },
  {
   "cell_type": "code",
   "execution_count": 63,
   "metadata": {},
   "outputs": [],
   "source": [
    "# take intersection of two sets\n",
    "# keywords for nither label are present\n",
    "low_training_df = pd.merge(low_traning_ada, low_traning_cent, how ='inner')"
   ]
  },
  {
   "cell_type": "code",
   "execution_count": 64,
   "metadata": {},
   "outputs": [
    {
     "data": {
      "text/plain": [
       "6388"
      ]
     },
     "execution_count": 64,
     "metadata": {},
     "output_type": "execute_result"
    }
   ],
   "source": [
    "len(low_training_df)"
   ]
  },
  {
   "cell_type": "code",
   "execution_count": 65,
   "metadata": {},
   "outputs": [
    {
     "data": {
      "text/plain": [
       "adda_Label\n",
       "E1    1073\n",
       "E2     298\n",
       "E3     565\n",
       "E4     171\n",
       "E5     676\n",
       "G1     446\n",
       "S1    5852\n",
       "S2     218\n",
       "S3     249\n",
       "S4    1084\n",
       "Name: text, dtype: int64"
      ]
     },
     "execution_count": 65,
     "metadata": {},
     "output_type": "execute_result"
    }
   ],
   "source": [
    "mid_traning_df.groupby(\"adda_Label\")[\"text\"].count()"
   ]
  },
  {
   "cell_type": "code",
   "execution_count": 66,
   "metadata": {},
   "outputs": [
    {
     "data": {
      "text/plain": [
       "adda_Label\n",
       "E1    4580\n",
       "E2     190\n",
       "E3     312\n",
       "E4     232\n",
       "E5     418\n",
       "G1    3246\n",
       "S1    3203\n",
       "S2     222\n",
       "S3     140\n",
       "S4     333\n",
       "Name: text, dtype: int64"
      ]
     },
     "execution_count": 66,
     "metadata": {},
     "output_type": "execute_result"
    }
   ],
   "source": [
    "top_training_df.groupby(\"adda_Label\")[\"text\"].count()"
   ]
  },
  {
   "cell_type": "markdown",
   "metadata": {},
   "source": [
    "## Combine the data to form traning dataset"
   ]
  },
  {
   "cell_type": "code",
   "execution_count": 70,
   "metadata": {},
   "outputs": [
    {
     "name": "stderr",
     "output_type": "stream",
     "text": [
      "<ipython-input-70-fe872eae27c4>:1: SettingWithCopyWarning: \n",
      "A value is trying to be set on a copy of a slice from a DataFrame.\n",
      "Try using .loc[row_indexer,col_indexer] = value instead\n",
      "\n",
      "See the caveats in the documentation: https://pandas.pydata.org/pandas-docs/stable/user_guide/indexing.html#returning-a-view-versus-a-copy\n",
      "  top_training_df[\"label\"]=top_training_df[\"adda_Label\"]\n"
     ]
    }
   ],
   "source": [
    "top_training_df[\"label\"]=top_training_df[\"adda_Label\"]\n",
    "mid_traning_df[\"label\"]=mid_traning_df[\"adda_Label\"]\n",
    "low_training_df[\"label\"]=\"0\""
   ]
  },
  {
   "cell_type": "code",
   "execution_count": 82,
   "metadata": {},
   "outputs": [
    {
     "name": "stderr",
     "output_type": "stream",
     "text": [
      "<ipython-input-82-66b16df2de27>:1: SettingWithCopyWarning: \n",
      "A value is trying to be set on a copy of a slice from a DataFrame.\n",
      "Try using .loc[row_indexer,col_indexer] = value instead\n",
      "\n",
      "See the caveats in the documentation: https://pandas.pydata.org/pandas-docs/stable/user_guide/indexing.html#returning-a-view-versus-a-copy\n",
      "  top_training_df[\"combined_score\"]=df[\"sim_score\"]*1.637+df[\"centroid_score\"]\n"
     ]
    }
   ],
   "source": [
    "top_training_df[\"combined_score\"]=df[\"sim_score\"]*1.637+df[\"centroid_score\"]#combined score to filter data based on combination of the two scores"
   ]
  },
  {
   "cell_type": "code",
   "execution_count": 84,
   "metadata": {},
   "outputs": [],
   "source": [
    "# we can be selectivbe with E1, S1 and G1 label so only take ones with highest combined score\n",
    "top_E1=top_training_df[top_training_df[\"label\"]==\"E1\"].nlargest(2000,\"combined_score\")\n",
    "top_S1=top_training_df[top_training_df[\"label\"]==\"S1\"].nlargest(2000,\"combined_score\")\n",
    "top_G1=top_training_df[top_training_df[\"label\"]==\"G1\"].nlargest(2000,\"combined_score\")"
   ]
  },
  {
   "cell_type": "code",
   "execution_count": 86,
   "metadata": {},
   "outputs": [],
   "source": [
    "# for other labels we take all the datapoints\n",
    "large_labeles=[\"E1\",\"S1\",\"G1\"]\n",
    "top_small=top_training_df[~top_training_df.label.isin(large_labeles)]"
   ]
  },
  {
   "cell_type": "code",
   "execution_count": 92,
   "metadata": {},
   "outputs": [],
   "source": [
    "# To many S1 labels in the mid traning data, drop random 4000\n",
    "# We dont select based on score as the point of this section of data is to get datapoints with lower scores\n",
    "mid_traning_df = mid_traning_df.drop(mid_traning_df[mid_traning_df['label'] ==\"S1\"].sample(4000).index)"
   ]
  },
  {
   "cell_type": "code",
   "execution_count": 100,
   "metadata": {},
   "outputs": [],
   "source": [
    "# We can include the bottom data as zero label or not\n",
    "traning_df=pd.concat([top_E1,top_S1,top_G1,top_small,mid_traning_df]).reset_index(drop=True)"
   ]
  },
  {
   "cell_type": "code",
   "execution_count": 102,
   "metadata": {},
   "outputs": [],
   "source": [
    "output_path=\"output csv\"\n",
    "traning_df.to_csv(output_path,columns=[\"text\",\"label\"])"
   ]
  }
 ],
 "metadata": {
  "kernelspec": {
   "display_name": "base",
   "language": "python",
   "name": "python3"
  },
  "language_info": {
   "codemirror_mode": {
    "name": "ipython",
    "version": 3
   },
   "file_extension": ".py",
   "mimetype": "text/x-python",
   "name": "python",
   "nbconvert_exporter": "python",
   "pygments_lexer": "ipython3",
   "version": "3.8.17"
  },
  "orig_nbformat": 4
 },
 "nbformat": 4,
 "nbformat_minor": 2
}
