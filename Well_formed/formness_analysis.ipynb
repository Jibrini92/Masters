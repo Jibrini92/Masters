{
 "cells": [
  {
   "cell_type": "code",
   "execution_count": 1,
   "metadata": {},
   "outputs": [],
   "source": [
    "import pandas as pd\n",
    "%matplotlib inline"
   ]
  },
  {
   "cell_type": "code",
   "execution_count": 2,
   "metadata": {},
   "outputs": [],
   "source": [
    "df=pd.read_csv('formness_data.csv', index_col=0)"
   ]
  },
  {
   "cell_type": "code",
   "execution_count": 3,
   "metadata": {},
   "outputs": [
    {
     "name": "stdout",
     "output_type": "stream",
     "text": [
      "<class 'pandas.core.frame.DataFrame'>\n",
      "Int64Index: 149083 entries, 0 to 149082\n",
      "Data columns (total 6 columns):\n",
      " #   Column          Non-Null Count   Dtype  \n",
      "---  ------          --------------   -----  \n",
      " 0   text            149083 non-null  object \n",
      " 1   Company         149083 non-null  object \n",
      " 2   year            149083 non-null  int64  \n",
      " 3   Label           149083 non-null  object \n",
      " 4   sim_score       149083 non-null  float64\n",
      " 5   Formness_score  149083 non-null  float64\n",
      "dtypes: float64(2), int64(1), object(3)\n",
      "memory usage: 8.0+ MB\n"
     ]
    }
   ],
   "source": [
    "df.info()"
   ]
  },
  {
   "cell_type": "code",
   "execution_count": 11,
   "metadata": {},
   "outputs": [
    {
     "data": {
      "text/plain": [
       "<Axes: >"
      ]
     },
     "execution_count": 11,
     "metadata": {},
     "output_type": "execute_result"
    },
    {
     "data": {
      "image/png": "[encoded data removed]",
      "text/plain": [
       "<Figure size 640x480 with 1 Axes>"
      ]
     },
     "metadata": {},
     "output_type": "display_data"
    }
   ],
   "source": [
    "df.Formness_score.hist(bins=100)"
   ]
  },
  {
   "cell_type": "code",
   "execution_count": 5,
   "metadata": {},
   "outputs": [
    {
     "data": {
      "text/html": [
       "<div>\n",
       "<style scoped>\n",
       "    .dataframe tbody tr th:only-of-type {\n",
       "        vertical-align: middle;\n",
       "    }\n",
       "\n",
       "    .dataframe tbody tr th {\n",
       "        vertical-align: top;\n",
       "    }\n",
       "\n",
       "    .dataframe thead th {\n",
       "        text-align: right;\n",
       "    }\n",
       "</style>\n",
       "<table border=\"1\" class=\"dataframe\">\n",
       "  <thead>\n",
       "    <tr style=\"text-align: right;\">\n",
       "      <th></th>\n",
       "      <th>text</th>\n",
       "      <th>Company</th>\n",
       "      <th>year</th>\n",
       "      <th>Label</th>\n",
       "      <th>sim_score</th>\n",
       "      <th>Formness_score</th>\n",
       "    </tr>\n",
       "  </thead>\n",
       "  <tbody>\n",
       "    <tr>\n",
       "      <th>1</th>\n",
       "      <td>and encourage you, to confront, challenge and ...</td>\n",
       "      <td>Porsche</td>\n",
       "      <td>2016</td>\n",
       "      <td>G1</td>\n",
       "      <td>0.802026</td>\n",
       "      <td>0.177600</td>\n",
       "    </tr>\n",
       "    <tr>\n",
       "      <th>2</th>\n",
       "      <td>For inspiration, consider the information re g...</td>\n",
       "      <td>Porsche</td>\n",
       "      <td>2016</td>\n",
       "      <td>G1</td>\n",
       "      <td>0.779666</td>\n",
       "      <td>0.176960</td>\n",
       "    </tr>\n",
       "    <tr>\n",
       "      <th>8</th>\n",
       "      <td>Economic strength, innovative vehicles, custom...</td>\n",
       "      <td>Porsche</td>\n",
       "      <td>2016</td>\n",
       "      <td>G1</td>\n",
       "      <td>0.780832</td>\n",
       "      <td>0.093035</td>\n",
       "    </tr>\n",
       "    <tr>\n",
       "      <th>22</th>\n",
       "      <td>Engine plant in Zuffenhausen put into operatio...</td>\n",
       "      <td>Porsche</td>\n",
       "      <td>2016</td>\n",
       "      <td>G1</td>\n",
       "      <td>0.713005</td>\n",
       "      <td>0.193874</td>\n",
       "    </tr>\n",
       "    <tr>\n",
       "      <th>24</th>\n",
       "      <td>new drive and test centre in Weissach With the...</td>\n",
       "      <td>Porsche</td>\n",
       "      <td>2016</td>\n",
       "      <td>E1</td>\n",
       "      <td>0.732947</td>\n",
       "      <td>0.183862</td>\n",
       "    </tr>\n",
       "    <tr>\n",
       "      <th>...</th>\n",
       "      <td>...</td>\n",
       "      <td>...</td>\n",
       "      <td>...</td>\n",
       "      <td>...</td>\n",
       "      <td>...</td>\n",
       "      <td>...</td>\n",
       "    </tr>\n",
       "    <tr>\n",
       "      <th>149076</th>\n",
       "      <td>CG-EC-330a.2 (1) Voluntary turnover rate for a...</td>\n",
       "      <td>Zalando</td>\n",
       "      <td>2021</td>\n",
       "      <td>S1</td>\n",
       "      <td>0.796875</td>\n",
       "      <td>0.168093</td>\n",
       "    </tr>\n",
       "    <tr>\n",
       "      <th>149078</th>\n",
       "      <td>CG-EC-330a.4 Percentage of technical employees...</td>\n",
       "      <td>Zalando</td>\n",
       "      <td>2021</td>\n",
       "      <td>S1</td>\n",
       "      <td>0.754480</td>\n",
       "      <td>0.169329</td>\n",
       "    </tr>\n",
       "    <tr>\n",
       "      <th>149079</th>\n",
       "      <td>CG-EC-410a.1 Total greenhouse gas (GHG) footpr...</td>\n",
       "      <td>Zalando</td>\n",
       "      <td>2021</td>\n",
       "      <td>E1</td>\n",
       "      <td>0.835030</td>\n",
       "      <td>0.175079</td>\n",
       "    </tr>\n",
       "    <tr>\n",
       "      <th>149081</th>\n",
       "      <td>CG-EC-000.A Entity-defined measure of user act...</td>\n",
       "      <td>Zalando</td>\n",
       "      <td>2021</td>\n",
       "      <td>S4</td>\n",
       "      <td>0.760232</td>\n",
       "      <td>0.153812</td>\n",
       "    </tr>\n",
       "    <tr>\n",
       "      <th>149082</th>\n",
       "      <td>CG-EC-000.B Data processing capacity, percenta...</td>\n",
       "      <td>Zalando</td>\n",
       "      <td>2021</td>\n",
       "      <td>E1</td>\n",
       "      <td>0.748579</td>\n",
       "      <td>0.095634</td>\n",
       "    </tr>\n",
       "  </tbody>\n",
       "</table>\n",
       "<p>13503 rows × 6 columns</p>\n",
       "</div>"
      ],
      "text/plain": [
       "                                                     text   Company  year  \\\n",
       "1       and encourage you, to confront, challenge and ...   Porsche  2016   \n",
       "2       For inspiration, consider the information re g...   Porsche  2016   \n",
       "8       Economic strength, innovative vehicles, custom...   Porsche  2016   \n",
       "22      Engine plant in Zuffenhausen put into operatio...   Porsche  2016   \n",
       "24      new drive and test centre in Weissach With the...   Porsche  2016   \n",
       "...                                                   ...       ...   ...   \n",
       "149076  CG-EC-330a.2 (1) Voluntary turnover rate for a...   Zalando  2021   \n",
       "149078  CG-EC-330a.4 Percentage of technical employees...   Zalando  2021   \n",
       "149079  CG-EC-410a.1 Total greenhouse gas (GHG) footpr...   Zalando  2021   \n",
       "149081  CG-EC-000.A Entity-defined measure of user act...   Zalando  2021   \n",
       "149082  CG-EC-000.B Data processing capacity, percenta...   Zalando  2021   \n",
       "\n",
       "       Label  sim_score  Formness_score  \n",
       "1         G1   0.802026        0.177600  \n",
       "2         G1   0.779666        0.176960  \n",
       "8         G1   0.780832        0.093035  \n",
       "22        G1   0.713005        0.193874  \n",
       "24        E1   0.732947        0.183862  \n",
       "...      ...        ...             ...  \n",
       "149076    S1   0.796875        0.168093  \n",
       "149078    S1   0.754480        0.169329  \n",
       "149079    E1   0.835030        0.175079  \n",
       "149081    S4   0.760232        0.153812  \n",
       "149082    E1   0.748579        0.095634  \n",
       "\n",
       "[13503 rows x 6 columns]"
      ]
     },
     "execution_count": 5,
     "metadata": {},
     "output_type": "execute_result"
    }
   ],
   "source": [
    "df[df[\"Formness_score\"]<0.2]"
   ]
  },
  {
   "cell_type": "code",
   "execution_count": 6,
   "metadata": {},
   "outputs": [],
   "source": [
    "i=0\n",
    "all_samples=[]\n",
    "# take 10 random samples from each Formness score  with 0.1 increment\n",
    "while i < df.Formness_score.max():\n",
    "    samples =(df[(df[\"Formness_score\"]>i) & (df[\"Formness_score\"]<i+0.1)].sample(10))\n",
    "    all_samples.append(samples)\n",
    "    i+=0.1"
   ]
  },
  {
   "cell_type": "code",
   "execution_count": 7,
   "metadata": {},
   "outputs": [],
   "source": [
    "df_samples = pd.concat(all_samples)"
   ]
  },
  {
   "cell_type": "code",
   "execution_count": 8,
   "metadata": {},
   "outputs": [],
   "source": [
    "# function to make text easier to ready by human\n",
    "# converts long line of text to paragrah by addind new line at every x characters (x=64)\n",
    "def insert_newlines(string, every=64):\n",
    "    return ' \\n '.join(string[i:i+every] for i in range(0, len(string), every))"
   ]
  },
  {
   "cell_type": "code",
   "execution_count": 9,
   "metadata": {},
   "outputs": [],
   "source": [
    "df_samples[\"text\"]=df_samples[\"text\"].apply(insert_newlines)"
   ]
  },
  {
   "cell_type": "code",
   "execution_count": null,
   "metadata": {},
   "outputs": [],
   "source": [
    "df_samples.to_csv(\"Formness_samples.csv\")"
   ]
  },
  {
   "cell_type": "code",
   "execution_count": null,
   "metadata": {},
   "outputs": [
    {
     "data": {
      "text/plain": [
       "0.011773691510439334"
      ]
     },
     "execution_count": 56,
     "metadata": {},
     "output_type": "execute_result"
    }
   ],
   "source": [
    "df_samples[\"Formness_score\"].corr(df_samples[\"sim_score\"])"
   ]
  }
 ],
 "metadata": {
  "kernelspec": {
   "display_name": "base",
   "language": "python",
   "name": "python3"
  },
  "language_info": {
   "codemirror_mode": {
    "name": "ipython",
    "version": 3
   },
   "file_extension": ".py",
   "mimetype": "text/x-python",
   "name": "python",
   "nbconvert_exporter": "python",
   "pygments_lexer": "ipython3",
   "version": "3.8.17"
  },
  "orig_nbformat": 4
 },
 "nbformat": 4,
 "nbformat_minor": 2
}
