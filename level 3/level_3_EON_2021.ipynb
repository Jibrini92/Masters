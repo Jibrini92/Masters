{
 "cells": [
  {
   "cell_type": "code",
   "execution_count": 1,
   "metadata": {},
   "outputs": [],
   "source": [
    "import sys\n",
    "sys.path.append('C:/Users/PCMC/notebooks/Masters/PDF to Text/Next_gen/Text_Extract')\n",
    "from text_extract_V2 import PDF_to_Para\n",
    "import pandas as pd\n",
    "from datasets import load_dataset\n",
    "from transformers import (\n",
    "    RobertaTokenizerFast,\n",
    "    RobertaForSequenceClassification,\n",
    ")\n",
    "import pandas as pd\n",
    "from sklearn.metrics import cohen_kappa_score\n",
    "from transformers import pipeline\n",
    "%matplotlib inline"
   ]
  },
  {
   "cell_type": "code",
   "execution_count": 2,
   "metadata": {},
   "outputs": [],
   "source": [
    "# extract text from pdf\n",
    "company_name=\"EON\"\n",
    "year=2021\n",
    "df=PDF_to_Para(company_name,year,\"reports\\EON_2021_Sustainability_Report.pdf\")\n",
    "df=df[[\"text\",\"Company\",\"year\"]]"
   ]
  },
  {
   "cell_type": "code",
   "execution_count": 4,
   "metadata": {},
   "outputs": [
    {
     "name": "stderr",
     "output_type": "stream",
     "text": [
      "A matching Triton is not available, some optimizations will not be enabled.\n",
      "Error caught was: No module named 'triton'\n"
     ]
    }
   ],
   "source": [
    "# load fine-tuned model for level-2 classification\n",
    "model_directory=\"fine_tuning\\\\roberta_final_top_no_zero_save\"\n",
    "model = RobertaForSequenceClassification.from_pretrained(model_directory)\n",
    "tokenizer= RobertaTokenizerFast.from_pretrained(model_directory, truncation=True)\n",
    "classifier = pipeline(\"text-classification\", model=model, tokenizer=tokenizer)\n",
    "tokenizer_kwargs = {'truncation':True,'max_length':512,}"
   ]
  },
  {
   "cell_type": "code",
   "execution_count": 5,
   "metadata": {},
   "outputs": [],
   "source": [
    "# fuction to get model labels\n",
    "def get_labels(df):\n",
    "    res=classifier(df.text.to_list(),**tokenizer_kwargs)\n",
    "    df[\"model_label\"]=[res[i][\"label\"] for i in range(0,len(df))]\n",
    "    df[\"score\"]=[res[i][\"score\"] for i in range(0,len(df))]\n",
    "    df=df.replace({\"model_label\":{0: \"E1\", 1: \"E2\", 2: \"E3\", 3:\"E4\", 4 : \"E5\", 5: \"S1\", 6:\"S2\",7: \"S3\", 8: \"S4\", 9:\"G1\"}})\n",
    "    return df"
   ]
  },
  {
   "cell_type": "code",
   "execution_count": 6,
   "metadata": {},
   "outputs": [],
   "source": [
    "df=get_labels(df)# get labels"
   ]
  },
  {
   "cell_type": "code",
   "execution_count": 7,
   "metadata": {},
   "outputs": [
    {
     "data": {
      "text/plain": [
       "<Axes: >"
      ]
     },
     "execution_count": 7,
     "metadata": {},
     "output_type": "execute_result"
    },
    {
     "data": {
      "image/png": "[encoded data removed]",
      "text/plain": [
       "<Figure size 640x480 with 1 Axes>"
      ]
     },
     "metadata": {},
     "output_type": "display_data"
    }
   ],
   "source": [
    "df.model_label.hist()"
   ]
  },
  {
   "cell_type": "code",
   "execution_count": 8,
   "metadata": {},
   "outputs": [],
   "source": [
    "E1_df=df[(df[\"model_label\"]==\"E1\")].reset_index(drop=True)# select all E1 paragraphs"
   ]
  },
  {
   "cell_type": "code",
   "execution_count": 9,
   "metadata": {},
   "outputs": [],
   "source": [
    "from transformers import AutoModelForQuestionAnswering, AutoTokenizer, pipeline\n",
    "import torch"
   ]
  },
  {
   "cell_type": "code",
   "execution_count": 10,
   "metadata": {},
   "outputs": [],
   "source": [
    "#load question answering model\n",
    "question_model = \"deepset/roberta-base-squad2\"\n",
    "model = AutoModelForQuestionAnswering.from_pretrained(question_model)\n",
    "tokenizer = AutoTokenizer.from_pretrained(question_model)\n",
    "nlp = pipeline('question-answering', model=question_model, tokenizer=question_model)"
   ]
  },
  {
   "cell_type": "code",
   "execution_count": 11,
   "metadata": {},
   "outputs": [],
   "source": [
    "# function returns paragraph with higest score and the corresponding score\n",
    "def get_answers(question,df):\n",
    "    answer=[]\n",
    "    for i in range(0,len(df)):\n",
    "        QA_input={\"question\":question, 'context':df.at[i,\"text\"] } # ask the question with each entry in the dataframe as context\n",
    "        res = nlp(QA_input)\n",
    "        answer.append([df.at[i,\"text\"],res[\"score\"]]) # list of context paragraphs and corsponding scores\n",
    "    answer.sort(key=lambda x: x[1],reverse=True) # sort list by score, highest to lowest\n",
    "    return answer[0] # return top entry"
   ]
  },
  {
   "cell_type": "code",
   "execution_count": 13,
   "metadata": {},
   "outputs": [],
   "source": [
    "# define questions, format \"sublabel\", \"question\"\n",
    "sublabel_questions=[\n",
    "    [\"E1-1\",\"What is {} Transition plan for climate change mitigation\".format(company_name)],\n",
    "    [\"E1-2\",\"What policies were adopted by{}\".format(company_name)],\n",
    "    [\"E1-3\",\"What did {} do to mitigate climate change\".format(company_name)],\n",
    "    [\"E1-3\",\"How much resources did {} invest to mitigate climate change\".format(company_name)],\n",
    "    [\"E1-4\",\"What are {}'s GHG emission reduction targets\".format(company_name)],\n",
    "    [\"E1-5\",\"How much fuel consumption from coal\"],\n",
    "    [\"E1-5\",\"How much fuel consumption from natural gas\"],\n",
    "    [\"E1-5\",\"How much fuel consumption from nuclear\"],\n",
    "    [\"E1-5\",\"How much fuel consumption from renewable sources\"],\n",
    "    [\"E1-6\",\"How much gross Scope 1 GHG emissions.\"],\n",
    "    [\"E1-6\",\"How much gross Scope 2 GHG emissions.\"],\n",
    "    [\"E1-6\",\"How much gross Scope 3 GHG emissions.\"],\n",
    "    [\"E1-7\",\"How much GHG removed.\"],\n",
    "    [\"E1-7\",\"How much GHG mitigated due to carbon credits.\"],\n",
    "    [\"E1-8\",\"What is {}'s internal carbon pricing\".format(company_name)],\n",
    "    [\"E1-9\",\"What are financial risks associated with climate change\"],\n",
    "    [\"E1-9\",\"What are financial opportunities associated with climate change\"]\n",
    "    \n",
    "]"
   ]
  },
  {
   "cell_type": "code",
   "execution_count": 25,
   "metadata": {},
   "outputs": [],
   "source": [
    "# run get_answers on all the questions above\n",
    "answers_list=[]\n",
    "for i in range(0,len(sublabel_questions)):\n",
    "    answer=get_answers(sublabel_questions[i][1],E1_df)\n",
    "    answers_list.append([sublabel_questions[i][0],sublabel_questions[i][1],answer[0],answer[1]]) # collect \"sublabel\",\"question\",\"best context\",\"score\""
   ]
  },
  {
   "cell_type": "code",
   "execution_count": 26,
   "metadata": {},
   "outputs": [],
   "source": [
    "answers_df=pd.DataFrame(answers_list, columns=[\"sublabel\",\"question\",\"answer\",\"score\"])# convert to df"
   ]
  },
  {
   "cell_type": "code",
   "execution_count": 28,
   "metadata": {},
   "outputs": [],
   "source": [
    "answers_df.to_csv(\"E.ON_E1_sublabels.csv\")# write to csv"
   ]
  }
 ],
 "metadata": {
  "kernelspec": {
   "display_name": "base",
   "language": "python",
   "name": "python3"
  },
  "language_info": {
   "codemirror_mode": {
    "name": "ipython",
    "version": 3
   },
   "file_extension": ".py",
   "mimetype": "text/x-python",
   "name": "python",
   "nbconvert_exporter": "python",
   "pygments_lexer": "ipython3",
   "version": "3.8.17"
  },
  "orig_nbformat": 4
 },
 "nbformat": 4,
 "nbformat_minor": 2
}
