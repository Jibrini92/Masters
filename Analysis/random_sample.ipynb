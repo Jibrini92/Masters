{
 "cells": [
  {
   "cell_type": "code",
   "execution_count": 2,
   "metadata": {},
   "outputs": [],
   "source": [
    "import pandas as pd\n",
    "import os\n",
    "import numpy as np\n",
    "%matplotlib inline"
   ]
  },
  {
   "cell_type": "code",
   "execution_count": 3,
   "metadata": {},
   "outputs": [],
   "source": [
    "df=pd.read_csv(\"..\\\\text_data.csv\", index_col=0)\n",
    "df_label=pd.read_csv(\"..\\\\top_results.csv\", index_col=0)"
   ]
  },
  {
   "cell_type": "code",
   "execution_count": 5,
   "metadata": {},
   "outputs": [],
   "source": [
    "df[\"zero_label\"]=df_label[\"Label\"]\n"
   ]
  },
  {
   "cell_type": "code",
   "execution_count": 32,
   "metadata": {},
   "outputs": [],
   "source": [
    "df[\"sim_score\"]=df_label[\"sim_score\"]"
   ]
  },
  {
   "cell_type": "code",
   "execution_count": 35,
   "metadata": {},
   "outputs": [
    {
     "data": {
      "text/plain": [
       "zero_label\n",
       "E1    0.293373\n",
       "E2    0.018305\n",
       "E3    0.015991\n",
       "E4    0.010021\n",
       "E5    0.021451\n",
       "G1    0.273344\n",
       "S1    0.209581\n",
       "S2    0.092915\n",
       "S3    0.014562\n",
       "S4    0.050455\n",
       "Name: text, dtype: float64"
      ]
     },
     "execution_count": 35,
     "metadata": {},
     "output_type": "execute_result"
    }
   ],
   "source": [
    "df.groupby(\"zero_label\")[\"text\"].count().apply(lambda x: x / len(df))"
   ]
  },
  {
   "cell_type": "code",
   "execution_count": 38,
   "metadata": {},
   "outputs": [],
   "source": [
    "df_600=df.sample(n=600).reset_index(drop=True)"
   ]
  },
  {
   "cell_type": "code",
   "execution_count": 39,
   "metadata": {},
   "outputs": [
    {
     "data": {
      "text/plain": [
       "zero_label\n",
       "E1    0.283333\n",
       "E2    0.025000\n",
       "E3    0.015000\n",
       "E4    0.008333\n",
       "E5    0.016667\n",
       "G1    0.293333\n",
       "S1    0.203333\n",
       "S2    0.081667\n",
       "S3    0.013333\n",
       "S4    0.060000\n",
       "Name: text, dtype: float64"
      ]
     },
     "execution_count": 39,
     "metadata": {},
     "output_type": "execute_result"
    }
   ],
   "source": [
    "df_600.groupby(\"zero_label\")[\"text\"].count().apply(lambda x: x / len(df_600))"
   ]
  },
  {
   "cell_type": "code",
   "execution_count": 40,
   "metadata": {},
   "outputs": [],
   "source": [
    "def insert_newlines(string, every=64):\n",
    "    return ' \\n '.join(string[i:i+every] for i in range(0, len(string), every))"
   ]
  },
  {
   "cell_type": "code",
   "execution_count": 41,
   "metadata": {},
   "outputs": [],
   "source": [
    "df_600[\"Paragraph_text\"]=df_600[\"text\"].apply(insert_newlines)"
   ]
  },
  {
   "cell_type": "code",
   "execution_count": 42,
   "metadata": {},
   "outputs": [],
   "source": [
    "df_600.to_csv(\"Random_sample.csv\",columns=[\"Paragraph_text\",\"zero_label\",\"sim_score\"])"
   ]
  }
 ],
 "metadata": {
  "kernelspec": {
   "display_name": "base",
   "language": "python",
   "name": "python3"
  },
  "language_info": {
   "codemirror_mode": {
    "name": "ipython",
    "version": 3
   },
   "file_extension": ".py",
   "mimetype": "text/x-python",
   "name": "python",
   "nbconvert_exporter": "python",
   "pygments_lexer": "ipython3",
   "version": "3.8.17"
  },
  "orig_nbformat": 4
 },
 "nbformat": 4,
 "nbformat_minor": 2
}
