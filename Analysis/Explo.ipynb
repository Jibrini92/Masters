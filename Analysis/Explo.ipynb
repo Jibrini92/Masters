{
 "cells": [
  {
   "cell_type": "code",
   "execution_count": 1,
   "metadata": {},
   "outputs": [],
   "source": [
    "import glob\n",
    "import pandas as pd\n",
    "\n",
    "# Get CSV files list from a folder\n",
    "path = \"path to the csvs\" # path to all the csv produces by the text_extractor\n",
    "csv_files = glob.glob(path + \"/*.csv\")\n",
    "\n",
    "# Read each CSV file into DataFrame\n",
    "# This creates a list of dataframes\n",
    "df_list = (pd.read_csv(file,usecols = ['text','Company','year']) for file in csv_files)\n",
    "\n",
    "# Concatenate all DataFrames\n",
    "big_df   = pd.concat(df_list, ignore_index=True)"
   ]
  },
  {
   "cell_type": "code",
   "execution_count": 2,
   "metadata": {},
   "outputs": [
    {
     "data": {
      "text/html": [
       "<div>\n",
       "<style scoped>\n",
       "    .dataframe tbody tr th:only-of-type {\n",
       "        vertical-align: middle;\n",
       "    }\n",
       "\n",
       "    .dataframe tbody tr th {\n",
       "        vertical-align: top;\n",
       "    }\n",
       "\n",
       "    .dataframe thead th {\n",
       "        text-align: right;\n",
       "    }\n",
       "</style>\n",
       "<table border=\"1\" class=\"dataframe\">\n",
       "  <thead>\n",
       "    <tr style=\"text-align: right;\">\n",
       "      <th></th>\n",
       "      <th>text</th>\n",
       "      <th>year</th>\n",
       "    </tr>\n",
       "    <tr>\n",
       "      <th>Company</th>\n",
       "      <th></th>\n",
       "      <th></th>\n",
       "    </tr>\n",
       "  </thead>\n",
       "  <tbody>\n",
       "    <tr>\n",
       "      <th>Porsche</th>\n",
       "      <td>343</td>\n",
       "      <td>343</td>\n",
       "    </tr>\n",
       "    <tr>\n",
       "      <th>Adidas</th>\n",
       "      <td>10764</td>\n",
       "      <td>10764</td>\n",
       "    </tr>\n",
       "    <tr>\n",
       "      <th>Airbus</th>\n",
       "      <td>2350</td>\n",
       "      <td>2350</td>\n",
       "    </tr>\n",
       "    <tr>\n",
       "      <th>Allianz_Group</th>\n",
       "      <td>5029</td>\n",
       "      <td>5029</td>\n",
       "    </tr>\n",
       "    <tr>\n",
       "      <th>BMW</th>\n",
       "      <td>762</td>\n",
       "      <td>762</td>\n",
       "    </tr>\n",
       "    <tr>\n",
       "      <th>Bayer</th>\n",
       "      <td>13706</td>\n",
       "      <td>13706</td>\n",
       "    </tr>\n",
       "    <tr>\n",
       "      <th>Beiersdorf</th>\n",
       "      <td>2941</td>\n",
       "      <td>2941</td>\n",
       "    </tr>\n",
       "    <tr>\n",
       "      <th>Brenntag</th>\n",
       "      <td>2058</td>\n",
       "      <td>2058</td>\n",
       "    </tr>\n",
       "    <tr>\n",
       "      <th>Continental</th>\n",
       "      <td>4022</td>\n",
       "      <td>4022</td>\n",
       "    </tr>\n",
       "    <tr>\n",
       "      <th>Covestro</th>\n",
       "      <td>3785</td>\n",
       "      <td>3785</td>\n",
       "    </tr>\n",
       "    <tr>\n",
       "      <th>Daimler-truck</th>\n",
       "      <td>3624</td>\n",
       "      <td>3624</td>\n",
       "    </tr>\n",
       "    <tr>\n",
       "      <th>Deutch Borse Group</th>\n",
       "      <td>4313</td>\n",
       "      <td>4313</td>\n",
       "    </tr>\n",
       "    <tr>\n",
       "      <th>Deutche Bank</th>\n",
       "      <td>6827</td>\n",
       "      <td>6827</td>\n",
       "    </tr>\n",
       "    <tr>\n",
       "      <th>Deutche Post DHL</th>\n",
       "      <td>6406</td>\n",
       "      <td>6406</td>\n",
       "    </tr>\n",
       "    <tr>\n",
       "      <th>Deutche telekom</th>\n",
       "      <td>12886</td>\n",
       "      <td>12886</td>\n",
       "    </tr>\n",
       "    <tr>\n",
       "      <th>E.ON</th>\n",
       "      <td>9448</td>\n",
       "      <td>9448</td>\n",
       "    </tr>\n",
       "    <tr>\n",
       "      <th>Hanover</th>\n",
       "      <td>1894</td>\n",
       "      <td>1894</td>\n",
       "    </tr>\n",
       "    <tr>\n",
       "      <th>Heidelberg Cement</th>\n",
       "      <td>2454</td>\n",
       "      <td>2454</td>\n",
       "    </tr>\n",
       "    <tr>\n",
       "      <th>Henkel</th>\n",
       "      <td>3789</td>\n",
       "      <td>3789</td>\n",
       "    </tr>\n",
       "    <tr>\n",
       "      <th>Infineon</th>\n",
       "      <td>2120</td>\n",
       "      <td>2120</td>\n",
       "    </tr>\n",
       "    <tr>\n",
       "      <th>MTU Aero Engines</th>\n",
       "      <td>1547</td>\n",
       "      <td>1547</td>\n",
       "    </tr>\n",
       "    <tr>\n",
       "      <th>Mercedes-Benz</th>\n",
       "      <td>8900</td>\n",
       "      <td>8900</td>\n",
       "    </tr>\n",
       "    <tr>\n",
       "      <th>Merck</th>\n",
       "      <td>4575</td>\n",
       "      <td>4575</td>\n",
       "    </tr>\n",
       "    <tr>\n",
       "      <th>Munich re</th>\n",
       "      <td>4943</td>\n",
       "      <td>4943</td>\n",
       "    </tr>\n",
       "    <tr>\n",
       "      <th>Porsche</th>\n",
       "      <td>5415</td>\n",
       "      <td>5415</td>\n",
       "    </tr>\n",
       "    <tr>\n",
       "      <th>Qiagen</th>\n",
       "      <td>197</td>\n",
       "      <td>197</td>\n",
       "    </tr>\n",
       "    <tr>\n",
       "      <th>RWE</th>\n",
       "      <td>3916</td>\n",
       "      <td>3916</td>\n",
       "    </tr>\n",
       "    <tr>\n",
       "      <th>Rheinmetall</th>\n",
       "      <td>141</td>\n",
       "      <td>141</td>\n",
       "    </tr>\n",
       "    <tr>\n",
       "      <th>SAP</th>\n",
       "      <td>6061</td>\n",
       "      <td>6061</td>\n",
       "    </tr>\n",
       "    <tr>\n",
       "      <th>Sartorius</th>\n",
       "      <td>813</td>\n",
       "      <td>813</td>\n",
       "    </tr>\n",
       "    <tr>\n",
       "      <th>Siemens</th>\n",
       "      <td>1970</td>\n",
       "      <td>1970</td>\n",
       "    </tr>\n",
       "    <tr>\n",
       "      <th>Siemens Energy</th>\n",
       "      <td>1553</td>\n",
       "      <td>1553</td>\n",
       "    </tr>\n",
       "    <tr>\n",
       "      <th>Siemens Healthineers</th>\n",
       "      <td>1160</td>\n",
       "      <td>1160</td>\n",
       "    </tr>\n",
       "    <tr>\n",
       "      <th>Symrise</th>\n",
       "      <td>2753</td>\n",
       "      <td>2753</td>\n",
       "    </tr>\n",
       "    <tr>\n",
       "      <th>Volkswagen</th>\n",
       "      <td>1806</td>\n",
       "      <td>1806</td>\n",
       "    </tr>\n",
       "    <tr>\n",
       "      <th>Vonovia</th>\n",
       "      <td>3239</td>\n",
       "      <td>3239</td>\n",
       "    </tr>\n",
       "    <tr>\n",
       "      <th>Zalando</th>\n",
       "      <td>573</td>\n",
       "      <td>573</td>\n",
       "    </tr>\n",
       "  </tbody>\n",
       "</table>\n",
       "</div>"
      ],
      "text/plain": [
       "                       text   year\n",
       "Company                           \n",
       " Porsche                343    343\n",
       "Adidas                10764  10764\n",
       "Airbus                 2350   2350\n",
       "Allianz_Group          5029   5029\n",
       "BMW                     762    762\n",
       "Bayer                 13706  13706\n",
       "Beiersdorf             2941   2941\n",
       "Brenntag               2058   2058\n",
       "Continental            4022   4022\n",
       "Covestro               3785   3785\n",
       "Daimler-truck          3624   3624\n",
       "Deutch Borse Group     4313   4313\n",
       "Deutche Bank           6827   6827\n",
       "Deutche Post DHL       6406   6406\n",
       "Deutche telekom       12886  12886\n",
       "E.ON                   9448   9448\n",
       "Hanover                1894   1894\n",
       "Heidelberg Cement      2454   2454\n",
       "Henkel                 3789   3789\n",
       "Infineon               2120   2120\n",
       "MTU Aero Engines       1547   1547\n",
       "Mercedes-Benz          8900   8900\n",
       "Merck                  4575   4575\n",
       "Munich re              4943   4943\n",
       "Porsche                5415   5415\n",
       "Qiagen                  197    197\n",
       "RWE                    3916   3916\n",
       "Rheinmetall             141    141\n",
       "SAP                    6061   6061\n",
       "Sartorius               813    813\n",
       "Siemens                1970   1970\n",
       "Siemens Energy         1553   1553\n",
       "Siemens Healthineers   1160   1160\n",
       "Symrise                2753   2753\n",
       "Volkswagen             1806   1806\n",
       "Vonovia                3239   3239\n",
       "Zalando                 573    573"
      ]
     },
     "execution_count": 2,
     "metadata": {},
     "output_type": "execute_result"
    }
   ],
   "source": [
    "big_df.groupby(['Company']).count() # number of paragraphs from each company"
   ]
  },
  {
   "cell_type": "code",
   "execution_count": 13,
   "metadata": {},
   "outputs": [
    {
     "data": {
      "text/plain": [
       "Text(0, 0.5, 'paragraphs extracted')"
      ]
     },
     "execution_count": 13,
     "metadata": {},
     "output_type": "execute_result"
    },
    {
     "data": {
      "image/png": "[encoded data removed]",
      "text/plain": [
       "<Figure size 640x480 with 1 Axes>"
      ]
     },
     "metadata": {},
     "output_type": "display_data"
    }
   ],
   "source": [
    "# paragraphs extracted per year\n",
    "%matplotlib inline\n",
    "ax=big_df.groupby(['year'])['text'].count().plot()\n",
    "ax.set_xlabel(\"year\")\n",
    "ax.set_ylabel(\"paragraphs extracted\")"
   ]
  },
  {
   "cell_type": "code",
   "execution_count": 22,
   "metadata": {},
   "outputs": [],
   "source": [
    "# group by Company\n",
    "company_total=big_df.groupby(['Company'])[\"text\"].count()"
   ]
  },
  {
   "cell_type": "code",
   "execution_count": 33,
   "metadata": {},
   "outputs": [
    {
     "data": {
      "text/plain": [
       "141"
      ]
     },
     "execution_count": 33,
     "metadata": {},
     "output_type": "execute_result"
    }
   ],
   "source": [
    "company_total.min()"
   ]
  },
  {
   "cell_type": "code",
   "execution_count": 34,
   "metadata": {},
   "outputs": [
    {
     "data": {
      "text/plain": [
       "13706"
      ]
     },
     "execution_count": 34,
     "metadata": {},
     "output_type": "execute_result"
    }
   ],
   "source": [
    "company_total.max()"
   ]
  },
  {
   "cell_type": "code",
   "execution_count": 32,
   "metadata": {},
   "outputs": [
    {
     "data": {
      "text/plain": [
       "Company\n",
       " Porsche                  343\n",
       "Adidas                  10764\n",
       "Airbus                   2350\n",
       "Allianz_Group            5029\n",
       "BMW                       762\n",
       "Bayer                   13706\n",
       "Beiersdorf               2941\n",
       "Brenntag                 2058\n",
       "Continental              4022\n",
       "Covestro                 3785\n",
       "Daimler-truck            3624\n",
       "Deutch Borse Group       4313\n",
       "Deutche Bank             6827\n",
       "Deutche Post DHL         6406\n",
       "Deutche telekom         12886\n",
       "E.ON                     9448\n",
       "Hanover                  1894\n",
       "Heidelberg Cement        2454\n",
       "Henkel                   3789\n",
       "Infineon                 2120\n",
       "MTU Aero Engines         1547\n",
       "Mercedes-Benz            8900\n",
       "Merck                    4575\n",
       "Munich re                4943\n",
       "Porsche                  5415\n",
       "Qiagen                    197\n",
       "RWE                      3916\n",
       "Rheinmetall               141\n",
       "SAP                      6061\n",
       "Sartorius                 813\n",
       "Siemens                  1970\n",
       "Siemens Energy           1553\n",
       "Siemens Healthineers     1160\n",
       "Symrise                  2753\n",
       "Volkswagen               1806\n",
       "Vonovia                  3239\n",
       "Zalando                   573\n",
       "Name: text, dtype: int64"
      ]
     },
     "execution_count": 32,
     "metadata": {},
     "output_type": "execute_result"
    }
   ],
   "source": [
    "company_total"
   ]
  },
  {
   "cell_type": "code",
   "execution_count": 16,
   "metadata": {},
   "outputs": [
    {
     "data": {
      "text/plain": [
       "Text(0, 0.5, 'paragraphs extracted')"
      ]
     },
     "execution_count": 16,
     "metadata": {},
     "output_type": "execute_result"
    },
    {
     "data": {
      "image/png": "[encoded data removed]",
      "text/plain": [
       "<Figure size 640x480 with 1 Axes>"
      ]
     },
     "metadata": {},
     "output_type": "display_data"
    }
   ],
   "source": [
    "ax=big_df.groupby(['Company'])['text'].count().hist()\n",
    "ax.set_xlabel(\"Company\")\n",
    "ax.set_ylabel(\"paragraphs extracted\")"
   ]
  }
 ],
 "metadata": {
  "kernelspec": {
   "display_name": "base",
   "language": "python",
   "name": "python3"
  },
  "language_info": {
   "codemirror_mode": {
    "name": "ipython",
    "version": 3
   },
   "file_extension": ".py",
   "mimetype": "text/x-python",
   "name": "python",
   "nbconvert_exporter": "python",
   "pygments_lexer": "ipython3",
   "version": "3.8.8"
  },
  "orig_nbformat": 4
 },
 "nbformat": 4,
 "nbformat_minor": 2
}
