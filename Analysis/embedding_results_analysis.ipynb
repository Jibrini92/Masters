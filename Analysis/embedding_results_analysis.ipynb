{
 "cells": [
  {
   "cell_type": "code",
   "execution_count": 13,
   "metadata": {},
   "outputs": [],
   "source": [
    "import pandas as pd\n",
    "import os\n",
    "import numpy as np\n",
    "from scipy.stats import norm\n",
    "%matplotlib inline"
   ]
  },
  {
   "cell_type": "code",
   "execution_count": 14,
   "metadata": {},
   "outputs": [],
   "source": [
    "df=pd.read_csv(\"..\\..\\zero_shot_results.csv\") # path to results of embedding zero-shot"
   ]
  },
  {
   "cell_type": "code",
   "execution_count": 15,
   "metadata": {},
   "outputs": [
    {
     "data": {
      "text/html": [
       "<div>\n",
       "<style scoped>\n",
       "    .dataframe tbody tr th:only-of-type {\n",
       "        vertical-align: middle;\n",
       "    }\n",
       "\n",
       "    .dataframe tbody tr th {\n",
       "        vertical-align: top;\n",
       "    }\n",
       "\n",
       "    .dataframe thead th {\n",
       "        text-align: right;\n",
       "    }\n",
       "</style>\n",
       "<table border=\"1\" class=\"dataframe\">\n",
       "  <thead>\n",
       "    <tr style=\"text-align: right;\">\n",
       "      <th></th>\n",
       "      <th>Unnamed: 0</th>\n",
       "      <th>Company</th>\n",
       "      <th>year</th>\n",
       "      <th>text</th>\n",
       "      <th>zero_shot_results</th>\n",
       "    </tr>\n",
       "  </thead>\n",
       "  <tbody>\n",
       "    <tr>\n",
       "      <th>0</th>\n",
       "      <td>0</td>\n",
       "      <td>Porsche</td>\n",
       "      <td>2016</td>\n",
       "      <td>Augmented reality makes the fascination of Por...</td>\n",
       "      <td>[['E1', 0.7216381414092714], ['G1', 0.71392756...</td>\n",
       "    </tr>\n",
       "    <tr>\n",
       "      <th>1</th>\n",
       "      <td>1</td>\n",
       "      <td>Porsche</td>\n",
       "      <td>2016</td>\n",
       "      <td>and encourage you, to confront, challenge and ...</td>\n",
       "      <td>[['G1', 0.8020255128630671], ['S1', 0.77849351...</td>\n",
       "    </tr>\n",
       "    <tr>\n",
       "      <th>2</th>\n",
       "      <td>2</td>\n",
       "      <td>Porsche</td>\n",
       "      <td>2016</td>\n",
       "      <td>For inspiration, consider the information re g...</td>\n",
       "      <td>[['G1', 0.7796663944733939], ['E1', 0.76584494...</td>\n",
       "    </tr>\n",
       "    <tr>\n",
       "      <th>3</th>\n",
       "      <td>3</td>\n",
       "      <td>Porsche</td>\n",
       "      <td>2016</td>\n",
       "      <td>The second volume is called Performance and co...</td>\n",
       "      <td>[['E1', 0.7976808365273889], ['G1', 0.77505116...</td>\n",
       "    </tr>\n",
       "    <tr>\n",
       "      <th>4</th>\n",
       "      <td>4</td>\n",
       "      <td>Porsche</td>\n",
       "      <td>2016</td>\n",
       "      <td>The two volumes may be different, but they hav...</td>\n",
       "      <td>[['E1', 0.7502377571581], ['E3', 0.74065766843...</td>\n",
       "    </tr>\n",
       "  </tbody>\n",
       "</table>\n",
       "</div>"
      ],
      "text/plain": [
       "   Unnamed: 0   Company  year  \\\n",
       "0           0   Porsche  2016   \n",
       "1           1   Porsche  2016   \n",
       "2           2   Porsche  2016   \n",
       "3           3   Porsche  2016   \n",
       "4           4   Porsche  2016   \n",
       "\n",
       "                                                text  \\\n",
       "0  Augmented reality makes the fascination of Por...   \n",
       "1  and encourage you, to confront, challenge and ...   \n",
       "2  For inspiration, consider the information re g...   \n",
       "3  The second volume is called Performance and co...   \n",
       "4  The two volumes may be different, but they hav...   \n",
       "\n",
       "                                   zero_shot_results  \n",
       "0  [['E1', 0.7216381414092714], ['G1', 0.71392756...  \n",
       "1  [['G1', 0.8020255128630671], ['S1', 0.77849351...  \n",
       "2  [['G1', 0.7796663944733939], ['E1', 0.76584494...  \n",
       "3  [['E1', 0.7976808365273889], ['G1', 0.77505116...  \n",
       "4  [['E1', 0.7502377571581], ['E3', 0.74065766843...  "
      ]
     },
     "execution_count": 15,
     "metadata": {},
     "output_type": "execute_result"
    }
   ],
   "source": [
    "df.head()"
   ]
  },
  {
   "cell_type": "code",
   "execution_count": 16,
   "metadata": {},
   "outputs": [
    {
     "name": "stdout",
     "output_type": "stream",
     "text": [
      "<class 'pandas.core.frame.DataFrame'>\n",
      "RangeIndex: 149083 entries, 0 to 149082\n",
      "Data columns (total 5 columns):\n",
      " #   Column             Non-Null Count   Dtype \n",
      "---  ------             --------------   ----- \n",
      " 0   Unnamed: 0         149083 non-null  int64 \n",
      " 1   Company            149083 non-null  object\n",
      " 2   year               149083 non-null  int64 \n",
      " 3   text               149083 non-null  object\n",
      " 4   zero_shot_results  149083 non-null  object\n",
      "dtypes: int64(2), object(3)\n",
      "memory usage: 5.7+ MB\n"
     ]
    }
   ],
   "source": [
    "df.info()"
   ]
  },
  {
   "cell_type": "code",
   "execution_count": 17,
   "metadata": {},
   "outputs": [],
   "source": [
    "# split zero_shot resluts into top label and score assosiated with it\n",
    "def float_str_split(df_in):\n",
    "    df=df_in.copy()\n",
    "    label=[]\n",
    "    top_result=[]\n",
    "    for i in range(0,len(df)):\n",
    "        label.append(df.zero_shot_results[i][3:5])\n",
    "        top_result.append(float(df.zero_shot_results[i][8:20]))\n",
    "    return label, top_result"
   ]
  },
  {
   "cell_type": "code",
   "execution_count": 18,
   "metadata": {},
   "outputs": [],
   "source": [
    "label,top_result=float_str_split(df)\n",
    "results_df=pd.DataFrame(zip(label,top_result),columns=[\"label\",\"sim_score\"])"
   ]
  },
  {
   "cell_type": "code",
   "execution_count": 19,
   "metadata": {},
   "outputs": [
    {
     "data": {
      "text/html": [
       "<div>\n",
       "<style scoped>\n",
       "    .dataframe tbody tr th:only-of-type {\n",
       "        vertical-align: middle;\n",
       "    }\n",
       "\n",
       "    .dataframe tbody tr th {\n",
       "        vertical-align: top;\n",
       "    }\n",
       "\n",
       "    .dataframe thead th {\n",
       "        text-align: right;\n",
       "    }\n",
       "</style>\n",
       "<table border=\"1\" class=\"dataframe\">\n",
       "  <thead>\n",
       "    <tr style=\"text-align: right;\">\n",
       "      <th></th>\n",
       "      <th>label</th>\n",
       "      <th>sim_score</th>\n",
       "    </tr>\n",
       "  </thead>\n",
       "  <tbody>\n",
       "    <tr>\n",
       "      <th>0</th>\n",
       "      <td>E1</td>\n",
       "      <td>0.721638</td>\n",
       "    </tr>\n",
       "    <tr>\n",
       "      <th>1</th>\n",
       "      <td>G1</td>\n",
       "      <td>0.802026</td>\n",
       "    </tr>\n",
       "    <tr>\n",
       "      <th>2</th>\n",
       "      <td>G1</td>\n",
       "      <td>0.779666</td>\n",
       "    </tr>\n",
       "    <tr>\n",
       "      <th>3</th>\n",
       "      <td>E1</td>\n",
       "      <td>0.797681</td>\n",
       "    </tr>\n",
       "    <tr>\n",
       "      <th>4</th>\n",
       "      <td>E1</td>\n",
       "      <td>0.750238</td>\n",
       "    </tr>\n",
       "  </tbody>\n",
       "</table>\n",
       "</div>"
      ],
      "text/plain": [
       "  label  sim_score\n",
       "0    E1   0.721638\n",
       "1    G1   0.802026\n",
       "2    G1   0.779666\n",
       "3    E1   0.797681\n",
       "4    E1   0.750238"
      ]
     },
     "execution_count": 19,
     "metadata": {},
     "output_type": "execute_result"
    }
   ],
   "source": [
    "results_df.head()"
   ]
  },
  {
   "cell_type": "code",
   "execution_count": 20,
   "metadata": {},
   "outputs": [
    {
     "data": {
      "text/plain": [
       "<Axes: >"
      ]
     },
     "execution_count": 20,
     "metadata": {},
     "output_type": "execute_result"
    },
    {
     "data": {
      "image/png": "[encoded data removed]",
      "text/plain": [
       "<Figure size 640x480 with 1 Axes>"
      ]
     },
     "metadata": {},
     "output_type": "display_data"
    }
   ],
   "source": [
    "results_df.label.hist()"
   ]
  },
  {
   "cell_type": "code",
   "execution_count": 21,
   "metadata": {},
   "outputs": [
    {
     "data": {
      "text/plain": [
       "(0.6981979417568, 0.846607801584)"
      ]
     },
     "execution_count": 21,
     "metadata": {},
     "output_type": "execute_result"
    },
    {
     "data": {
      "image/png": "[encoded data removed]",
      "text/plain": [
       "<Figure size 640x480 with 1 Axes>"
      ]
     },
     "metadata": {},
     "output_type": "display_data"
    }
   ],
   "source": [
    "# Plot distribution of scores, it follows a normal distribution\n",
    "ax=results_df.sim_score.hist(bins=100)\n",
    "ax.set_xlim(results_df.sim_score.quantile(.001),results_df.sim_score.quantile(.99))"
   ]
  },
  {
   "cell_type": "code",
   "execution_count": 22,
   "metadata": {},
   "outputs": [],
   "source": [
    "mu, std = norm.fit(results_df.sim_score)"
   ]
  },
  {
   "cell_type": "code",
   "execution_count": 26,
   "metadata": {},
   "outputs": [
    {
     "name": "stdout",
     "output_type": "stream",
     "text": [
      "Mean of the sim score = 0.7792157798909324\n",
      "Std of the sim score = 0.029628744182360146\n"
     ]
    }
   ],
   "source": [
    "print(\"Mean of the sim score = {}\".format(mu))\n",
    "print(\"Std of the sim score = {}\".format(std))"
   ]
  },
  {
   "cell_type": "code",
   "execution_count": 28,
   "metadata": {},
   "outputs": [],
   "source": [
    "x = np.linspace(results_df.sim_score.quantile(.001), results_df.sim_score.quantile(.99), 100)\n",
    "p = norm.pdf(x, mu, std)"
   ]
  },
  {
   "cell_type": "code",
   "execution_count": 46,
   "metadata": {},
   "outputs": [],
   "source": [
    "import matplotlib.pyplot as plt"
   ]
  },
  {
   "cell_type": "code",
   "execution_count": 53,
   "metadata": {},
   "outputs": [
    {
     "data": {
      "text/plain": [
       "(0.6981979417568, 0.846607801584)"
      ]
     },
     "execution_count": 53,
     "metadata": {},
     "output_type": "execute_result"
    },
    {
     "data": {
      "image/png": "[encoded data removed]",
      "text/plain": [
       "<Figure size 640x480 with 1 Axes>"
      ]
     },
     "metadata": {},
     "output_type": "display_data"
    }
   ],
   "source": [
    "ax =results_df.sim_score.hist(bins=500)\n",
    "plt.plot(x, p*len(results_df)/500, lw=2)\n",
    "ax.set_xlim(results_df.sim_score.quantile(.001),results_df.sim_score.quantile(.99))\n"
   ]
  }
 ],
 "metadata": {
  "kernelspec": {
   "display_name": "base",
   "language": "python",
   "name": "python3"
  },
  "language_info": {
   "codemirror_mode": {
    "name": "ipython",
    "version": 3
   },
   "file_extension": ".py",
   "mimetype": "text/x-python",
   "name": "python",
   "nbconvert_exporter": "python",
   "pygments_lexer": "ipython3",
   "version": "3.8.17"
  },
  "orig_nbformat": 4
 },
 "nbformat": 4,
 "nbformat_minor": 2
}
