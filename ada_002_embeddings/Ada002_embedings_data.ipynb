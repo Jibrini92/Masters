{
 "cells": [
  {
   "cell_type": "code",
   "execution_count": 4,
   "metadata": {},
   "outputs": [],
   "source": [
    "import pandas as pd\n",
    "import openai\n",
    "import os\n",
    "from openai.embeddings_utils import cosine_similarity, get_embedding\n",
    "from transformers import pipeline\n",
    "import numpy as np\n",
    "import tiktoken\n",
    "openai.api_key = os.getenv('OPENAI_API_KEY')\n",
    "%matplotlib inline"
   ]
  },
  {
   "cell_type": "markdown",
   "metadata": {},
   "source": [
    "Provide each label with textual description"
   ]
  },
  {
   "cell_type": "code",
   "execution_count": 5,
   "metadata": {},
   "outputs": [],
   "source": [
    "labeles_dic={\n",
    "\"E1\":\"Climate Change. Transition plan, policies, actions, resources and targets relating to climate change. Energy consumption, Scope 1, 2, 3 and total GHG emissions and Greenhouse gass removal. Carbon pricing and financial effects related to climate change \",\n",
    "\"E2\":\"Pollution. Policies, Actions and Targets related to pollution. Polluition of air, water and soil. Substances of concern and potential financial effects from pollution\",\n",
    "\"E3\":\"Water and marine resources. Policies, Actions and Targets related to water and marine resources. Water consumption. Financial effects relating to water and marine resources\",\n",
    "\"E4\":\"Biodiversity and ecosystems. Transition plan, policies, actions, resources and targets related to biodiversity and ecosystems. Impact to biodiversity and ecosystems. Financial effects related to biodiversity and ecosystems\",\n",
    "\"E5\":\"Resource use and circular economy.Policies, Actions and Targets related to recycling. Resources inflows and Resource outflows. Finantial effects related to Resource use and circular economy\",\n",
    "\"S1\":\"Own workforce. Policies, processes for engagment and action to remidiate negative impact on own workforce. Charactersitics of employees and non-employees. Collective barganing, diversity, adequate wage, social protection, traning and health and worklife balance indicators. Compensation and incident reporting\",\n",
    "\"S2\":\"Workers in the value chain. Policies, targets, processes for engagment and action to remidiate negative impact on Workers in the value chain\",\n",
    "\"S3\":\"Affected communities. Policies, processes for engaging and remidiating negative impact for Affected communities. Action and targets related to affected communities\",\n",
    "\"S4\":\"Consumers and end-users. Policies, processes for engaging and remidiating negative impact for Consumers and end-users. Action and targets related to Consumers and end-users\",\n",
    "\"G1\":\"Business Conduct. Corporate culture and business conduct policies, relationship with suppliers. Prevention and detection of curroption or bribery. Political influence and lobbying. Payment practices \"}\n"
   ]
  },
  {
   "cell_type": "code",
   "execution_count": 6,
   "metadata": {},
   "outputs": [],
   "source": [
    "# get the label embeddings\n",
    "labels=list(labeles_dic.values())\n",
    "label_embeddings = [openai.Embedding.create(input=[i], model='text-embedding-ada-002')['data'][0]['embedding'] for i in labels]\n",
    "df_data=pd.read_csv('..\\\\text_data.csv', index_col=0)"
   ]
  },
  {
   "cell_type": "code",
   "execution_count": 7,
   "metadata": {},
   "outputs": [
    {
     "data": {
      "text/plain": [
       "<AxesSubplot:>"
      ]
     },
     "execution_count": 7,
     "metadata": {},
     "output_type": "execute_result"
    },
    {
     "data": {
      "image/png": "[encoded data removed]",
      "text/plain": [
       "<Figure size 640x480 with 1 Axes>"
      ]
     },
     "metadata": {},
     "output_type": "display_data"
    }
   ],
   "source": [
    "tokenizer = tiktoken.get_encoding(\"cl100k_base\")\n",
    "df_data['n_tokens'] = df_data.text.apply(lambda x: len(tokenizer.encode(x)))\n",
    "# Visualize the distribution of the number of tokens per row using a histogram\n",
    "df_data.n_tokens.hist()"
   ]
  },
  {
   "cell_type": "code",
   "execution_count": 8,
   "metadata": {},
   "outputs": [],
   "source": [
    "CRSD_Lables=list(labeles_dic.keys())"
   ]
  },
  {
   "cell_type": "code",
   "execution_count": 9,
   "metadata": {},
   "outputs": [],
   "source": [
    "#\n",
    "def gpt_results(sim):\n",
    "    results_list=[]       \n",
    "    for i in range(0,10):\n",
    "        results_list.append([CRSD_Lables[i],sim[i]])\n",
    "    results_list.sort(key = lambda i: i[1],reverse = True)\n",
    "    return results_list"
   ]
  },
  {
   "cell_type": "code",
   "execution_count": null,
   "metadata": {},
   "outputs": [],
   "source": [
    "import logging\n",
    "logger = logging.getLogger()\n",
    "logger.setLevel(logging.INFO)"
   ]
  },
  {
   "cell_type": "code",
   "execution_count": 16,
   "metadata": {},
   "outputs": [
    {
     "name": "stdout",
     "output_type": "stream",
     "text": [
      "119001    rows done out of 149083      79.8219783610472 % done\n",
      "120001    rows done out of 149083      80.49274565175104 % done\n",
      "121001    rows done out of 149083      81.16351294245487 % done\n",
      "122001    rows done out of 149083      81.83428023315871 % done\n",
      "123001    rows done out of 149083      82.50504752386256 % done\n",
      "124001    rows done out of 149083      83.17581481456638 % done\n",
      "125001    rows done out of 149083      83.84658210527022 % done\n",
      "126001    rows done out of 149083      84.51734939597405 % done\n",
      "127001    rows done out of 149083      85.1881166866779 % done\n",
      "128001    rows done out of 149083      85.85888397738172 % done\n",
      "129001    rows done out of 149083      86.52965126808556 % done\n",
      "130001    rows done out of 149083      87.2004185587894 % done\n",
      "131001    rows done out of 149083      87.87118584949324 % done\n",
      "132001    rows done out of 149083      88.54195314019707 % done\n",
      "133001    rows done out of 149083      89.2127204309009 % done\n",
      "134001    rows done out of 149083      89.88348772160475 % done\n",
      "135001    rows done out of 149083      90.55425501230859 % done\n",
      "136001    rows done out of 149083      91.22502230301241 % done\n",
      "137001    rows done out of 149083      91.89578959371624 % done\n",
      "138001    rows done out of 149083      92.5665568844201 % done\n",
      "139001    rows done out of 149083      93.23732417512393 % done\n",
      "140001    rows done out of 149083      93.90809146582775 % done\n",
      "141001    rows done out of 149083      94.57885875653159 % done\n",
      "142001    rows done out of 149083      95.24962604723544 % done\n",
      "143001    rows done out of 149083      95.92039333793927 % done\n",
      "144001    rows done out of 149083      96.59116062864311 % done\n",
      "145001    rows done out of 149083      97.26192791934693 % done\n",
      "146001    rows done out of 149083      97.93269521005078 % done\n",
      "147001    rows done out of 149083      98.60346250075462 % done\n",
      "148001    rows done out of 149083      99.27422979145845 % done\n",
      "149001    rows done out of 149083      99.94499708216229 % done\n"
     ]
    }
   ],
   "source": [
    "data_embeddings=[]\n",
    "while len(data_embeddings)< len(df_data):\n",
    "    i=len(data_embeddings)\n",
    "    data_embeddings+=[openai.Embedding.create(input = df_data.text.at[i], model='text-embedding-ada-002')['data'][0]['embedding']]\n",
    "    if i % 1000==0:\n",
    "        logging.info(\"Rows done= {a} , {c} % done \".format(a=len(data_embeddings),c=100*len(data_embeddings)/len(df_data) ))"
   ]
  },
  {
   "cell_type": "code",
   "execution_count": 22,
   "metadata": {},
   "outputs": [],
   "source": [
    "df_data[\"embeddings\"]=data_embeddings\n",
    "df_data.to_csv(\"..\\\\data_with_embeddings.csv\")"
   ]
  }
 ],
 "metadata": {
  "kernelspec": {
   "display_name": "base",
   "language": "python",
   "name": "python3"
  },
  "language_info": {
   "codemirror_mode": {
    "name": "ipython",
    "version": 3
   },
   "file_extension": ".py",
   "mimetype": "text/x-python",
   "name": "python",
   "nbconvert_exporter": "python",
   "pygments_lexer": "ipython3",
   "version": "3.8.8"
  },
  "orig_nbformat": 4
 },
 "nbformat": 4,
 "nbformat_minor": 2
}
