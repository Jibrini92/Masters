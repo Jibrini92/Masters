{
 "cells": [
  {
   "cell_type": "code",
   "execution_count": 1,
   "metadata": {},
   "outputs": [],
   "source": [
    "import pandas as pd\n",
    "import openai\n",
    "import os\n",
    "from openai.embeddings_utils import cosine_similarity, get_embedding\n",
    "from transformers import pipeline\n",
    "import numpy as np\n",
    "import tiktoken\n",
    "import matplotlib.pyplot as plt\n",
    "openai.api_key = os.getenv('OPENAI_API_KEY')"
   ]
  },
  {
   "cell_type": "markdown",
   "metadata": {},
   "source": [
    "Write text description for each label"
   ]
  },
  {
   "cell_type": "code",
   "execution_count": 2,
   "metadata": {},
   "outputs": [],
   "source": [
    "labeles_dic={\n",
    "\"E1\":\"Climate Change. Transition plan, policies, actions, resources and targets relating to climate change. Energy consumption, Scope 1, 2, 3 and total GHG emissions and Greenhouse gass removal. Carbon pricing and financial effects related to climate change \",\n",
    "\"E2\":\"Pollution. Policies, Actions and Targets related to pollution. Polluition of air, water and soil. Substances of concern and potential financial effects from pollution\",\n",
    "\"E3\":\"Water and marine resources. Policies, Actions and Targets related to water and marine resources. Water consumption. Financial effects relating to water and marine resources\",\n",
    "\"E4\":\"Biodiversity and ecosystems. Transition plan, policies, actions, resources and targets related to biodiversity and ecosystems. Impact to biodiversity and ecosystems. Financial effects related to biodiversity and ecosystems\",\n",
    "\"E5\":\"Resource use and circular economy.Policies, Actions and Targets related to recycling. Resources inflows and Resource outflows. Finantial effects related to Resource use and circular economy\",\n",
    "\"S1\":\"Own workforce. Policies, processes for engagment and action to remidiate negative impact on own workforce. Charactersitics of employees and non-employees. Collective barganing, diversity, adequate wage, social protection, traning and health and worklife balance indicators. Compensation and incident reporting\",\n",
    "\"S2\":\"Workers in the value chain. Policies, targets, processes for engagment and action to remidiate negative impact on Workers in the value chain\",\n",
    "\"S3\":\"Affected communities. Policies, processes for engaging and remidiating negative impact for Affected communities. Action and targets related to affected communities\",\n",
    "\"S4\":\"Consumers and end-users. Policies, processes for engaging and remidiating negative impact for Consumers and end-users. Action and targets related to Consumers and end-users\",\n",
    "\"G1\":\"Business Conduct. Corporate culture and business conduct policies, relationship with suppliers. Prevention and detection of curroption or bribery. Political influence and lobbying. Payment practices \"}\n"
   ]
  },
  {
   "cell_type": "code",
   "execution_count": 3,
   "metadata": {},
   "outputs": [],
   "source": [
    "labels=list(labeles_dic.values())# label description\n",
    "CRSD_Lables=list(labeles_dic.keys())# list of labels\n",
    "# get embeddings for each labal\n",
    "label_embeddings = [openai.Embedding.create(input=[i], model='text-embedding-ada-002')['data'][0]['embedding'] for i in labels]"
   ]
  },
  {
   "cell_type": "code",
   "execution_count": 4,
   "metadata": {},
   "outputs": [],
   "source": [
    "# this function takes in list of similarity scores and returns them in desending order with the coresponding label\n",
    "def sorted_embedings(sim):\n",
    "    results_list=[]       \n",
    "    for i in range(0,len(CRSD_Lables)):\n",
    "        results_list.append([CRSD_Lables[i],sim[i]])\n",
    "    results_list.sort(key = lambda i: i[1],reverse = True)\n",
    "    return results_list"
   ]
  },
  {
   "cell_type": "code",
   "execution_count": 5,
   "metadata": {},
   "outputs": [],
   "source": [
    "# read test data\n",
    "df=pd.read_csv(\"..\\\\MJ_test_set_labeld.csv\",index_col=0)\n",
    "df=df.reset_index(drop=True)"
   ]
  },
  {
   "cell_type": "code",
   "execution_count": 6,
   "metadata": {},
   "outputs": [],
   "source": [
    "# get embeding for text in text data\n",
    "data_embeddings=[]\n",
    "for i in range(0,len(df)):\n",
    "    data_embeddings+=[openai.Embedding.create(input = df.Text.at[i], model='text-embedding-ada-002')['data'][0]['embedding']]\n",
    "    i+=1"
   ]
  },
  {
   "cell_type": "code",
   "execution_count": 7,
   "metadata": {},
   "outputs": [],
   "source": [
    "# get text emebeddings and associated label\n",
    "zero_shot_resluts=[]\n",
    "for i in range(0,len(data_embeddings)):\n",
    "    sim = [cosine_similarity(data_embeddings[i], j) for j in label_embeddings]\n",
    "    zero_shot_resluts.append(sorted_embedings(sim))"
   ]
  },
  {
   "cell_type": "code",
   "execution_count": 8,
   "metadata": {},
   "outputs": [],
   "source": [
    "# get softmax score\n",
    "from scipy.special import softmax\n",
    "softmax_array=[]\n",
    "for i in range(0,len(zero_shot_resluts)):\n",
    "    array=[]\n",
    "    for j in range(0,10):\n",
    "        array.append(zero_shot_resluts[i][j][1])\n",
    "    softmax_array.append(softmax(array))"
   ]
  },
  {
   "cell_type": "code",
   "execution_count": 9,
   "metadata": {},
   "outputs": [],
   "source": [
    "df[\"zero_shot_results\"]=zero_shot_resluts\n",
    "df[\"softmax_score\"]=softmax_array"
   ]
  },
  {
   "cell_type": "code",
   "execution_count": 10,
   "metadata": {},
   "outputs": [],
   "source": [
    "# get top label its similarity and softmax scores\n",
    "top_rezult_label=[]\n",
    "top_rezult_sim=[]\n",
    "top_rezult_soft_max=[]\n",
    "for i in range(0,len(df)):\n",
    "    top_rezult_label.append(zero_shot_resluts[i][0][0])\n",
    "    top_rezult_sim.append(zero_shot_resluts[i][0][1])\n",
    "    top_rezult_soft_max.append(softmax_array[i][0])"
   ]
  },
  {
   "cell_type": "code",
   "execution_count": 11,
   "metadata": {},
   "outputs": [],
   "source": [
    "# add data to dataframe\n",
    "df_top_score=df.copy()\n",
    "df_top_score[\"zero_shot_label\"]=top_rezult_label\n",
    "df_top_score[\"sim_score\"]=top_rezult_sim\n",
    "df_top_score[\"softmax_score\"]=top_rezult_soft_max\n",
    "df_top_score['Level_2Label_MJ'] = df_top_score.Label.str[:2]\n",
    "df_top_score=df_top_score.drop(columns=[\"zero_shot_results\",\"Label\"])"
   ]
  },
  {
   "cell_type": "code",
   "execution_count": 12,
   "metadata": {},
   "outputs": [
    {
     "data": {
      "text/plain": [
       "0.6155381526575947"
      ]
     },
     "execution_count": 12,
     "metadata": {},
     "output_type": "execute_result"
    }
   ],
   "source": [
    "from sklearn.metrics import cohen_kappa_score\n",
    "cohen_kappa_score(df_top_score.Level_2Label_MJ, df_top_score.zero_shot_label)"
   ]
  },
  {
   "cell_type": "code",
   "execution_count": 13,
   "metadata": {},
   "outputs": [
    {
     "name": "stderr",
     "output_type": "stream",
     "text": [
      "c:\\Users\\PCMC\\anaconda3\\lib\\site-packages\\sklearn\\metrics\\_classification.py:638: RuntimeWarning: invalid value encountered in true_divide\n",
      "  k = np.sum(w_mat * confusion) / np.sum(w_mat * expected)\n"
     ]
    }
   ],
   "source": [
    "# use different trhesholds for similarity score and get cohen kappa for data over this trheshold\n",
    "i=0.7\n",
    "optimal_score=[]\n",
    "while i < df_top_score[\"sim_score\"].max():\n",
    "    df_test=df_top_score[df_top_score[\"sim_score\"]>i]\n",
    "    optimal_score.append([cohen_kappa_score(df_test.Level_2Label_MJ, df_test.zero_shot_label),i,len(df_test)/len(df_top_score)])\n",
    "    i+=0.001"
   ]
  },
  {
   "cell_type": "code",
   "execution_count": 14,
   "metadata": {},
   "outputs": [
    {
     "data": {
      "text/html": [
       "<div>\n",
       "<style scoped>\n",
       "    .dataframe tbody tr th:only-of-type {\n",
       "        vertical-align: middle;\n",
       "    }\n",
       "\n",
       "    .dataframe tbody tr th {\n",
       "        vertical-align: top;\n",
       "    }\n",
       "\n",
       "    .dataframe thead th {\n",
       "        text-align: right;\n",
       "    }\n",
       "</style>\n",
       "<table border=\"1\" class=\"dataframe\">\n",
       "  <thead>\n",
       "    <tr style=\"text-align: right;\">\n",
       "      <th></th>\n",
       "      <th>cohen_kappa</th>\n",
       "      <th>sim_threshold</th>\n",
       "      <th>df_remaining</th>\n",
       "    </tr>\n",
       "  </thead>\n",
       "  <tbody>\n",
       "    <tr>\n",
       "      <th>0</th>\n",
       "      <td>0.615538</td>\n",
       "      <td>0.700</td>\n",
       "      <td>1.0</td>\n",
       "    </tr>\n",
       "    <tr>\n",
       "      <th>1</th>\n",
       "      <td>0.615538</td>\n",
       "      <td>0.701</td>\n",
       "      <td>1.0</td>\n",
       "    </tr>\n",
       "    <tr>\n",
       "      <th>2</th>\n",
       "      <td>0.615538</td>\n",
       "      <td>0.702</td>\n",
       "      <td>1.0</td>\n",
       "    </tr>\n",
       "    <tr>\n",
       "      <th>3</th>\n",
       "      <td>0.615538</td>\n",
       "      <td>0.703</td>\n",
       "      <td>1.0</td>\n",
       "    </tr>\n",
       "    <tr>\n",
       "      <th>4</th>\n",
       "      <td>0.615538</td>\n",
       "      <td>0.704</td>\n",
       "      <td>1.0</td>\n",
       "    </tr>\n",
       "  </tbody>\n",
       "</table>\n",
       "</div>"
      ],
      "text/plain": [
       "   cohen_kappa  sim_threshold  df_remaining\n",
       "0     0.615538          0.700           1.0\n",
       "1     0.615538          0.701           1.0\n",
       "2     0.615538          0.702           1.0\n",
       "3     0.615538          0.703           1.0\n",
       "4     0.615538          0.704           1.0"
      ]
     },
     "execution_count": 14,
     "metadata": {},
     "output_type": "execute_result"
    }
   ],
   "source": [
    "optimal_score_df=pd.DataFrame(optimal_score,columns=[\"cohen_kappa\",\"sim_threshold\",\"df_remaining\"])\n",
    "optimal_score_df.head()"
   ]
  },
  {
   "cell_type": "code",
   "execution_count": 15,
   "metadata": {},
   "outputs": [
    {
     "data": {
      "image/png": "[encoded data removed]",
      "text/plain": [
       "<Figure size 640x480 with 1 Axes>"
      ]
     },
     "metadata": {},
     "output_type": "display_data"
    }
   ],
   "source": [
    "fig, ax = plt.subplots()\n",
    "optimal_score_df.plot.line(ax = ax, x ='sim_threshold',y = 'cohen_kappa', color = 'r', linewidth = 2, linestyle ='dashed')\n",
    "optimal_score_df.plot.line(ax = ax, x ='sim_threshold', y = 'df_remaining', color = 'b', linewidth= 4, linestyle = 'solid')\n",
    "plt.show()"
   ]
  },
  {
   "cell_type": "code",
   "execution_count": 16,
   "metadata": {},
   "outputs": [],
   "source": [
    "df_top_score['equal'] = (df_top_score['zero_shot_label']==df_top_score['Level_2Label_MJ']).astype(int)"
   ]
  },
  {
   "cell_type": "code",
   "execution_count": 17,
   "metadata": {},
   "outputs": [
    {
     "data": {
      "text/plain": [
       "0.6810810810810811"
      ]
     },
     "execution_count": 17,
     "metadata": {},
     "output_type": "execute_result"
    }
   ],
   "source": [
    "df_top_score.equal.mean()# accuracy"
   ]
  },
  {
   "cell_type": "code",
   "execution_count": 18,
   "metadata": {},
   "outputs": [
    {
     "data": {
      "text/plain": [
       "Level_2Label_MJ\n",
       "0     0.000000\n",
       "E1    0.970874\n",
       "E2    0.555556\n",
       "E3    0.809524\n",
       "E4    0.636364\n",
       "E5    0.677419\n",
       "G1    0.685714\n",
       "S1    0.822485\n",
       "S2    0.476190\n",
       "S3    0.344828\n",
       "S4    0.428571\n",
       "Name: equal, dtype: float64"
      ]
     },
     "execution_count": 18,
     "metadata": {},
     "output_type": "execute_result"
    }
   ],
   "source": [
    "df_top_score.groupby('Level_2Label_MJ')[\"equal\"].mean() # accuracy per class"
   ]
  },
  {
   "cell_type": "code",
   "execution_count": 19,
   "metadata": {},
   "outputs": [
    {
     "data": {
      "text/plain": [
       "zero_shot_label\n",
       "E1    0.709220\n",
       "E2    0.714286\n",
       "E3    0.809524\n",
       "E4    0.933333\n",
       "E5    0.807692\n",
       "G1    0.470588\n",
       "S1    0.858025\n",
       "S2    0.270270\n",
       "S3    0.909091\n",
       "S4    0.346154\n",
       "Name: equal, dtype: float64"
      ]
     },
     "execution_count": 19,
     "metadata": {},
     "output_type": "execute_result"
    }
   ],
   "source": [
    "df_top_score.groupby('zero_shot_label')[\"equal\"].mean()"
   ]
  },
  {
   "cell_type": "code",
   "execution_count": 20,
   "metadata": {},
   "outputs": [
    {
     "data": {
      "text/html": [
       "<div>\n",
       "<style scoped>\n",
       "    .dataframe tbody tr th:only-of-type {\n",
       "        vertical-align: middle;\n",
       "    }\n",
       "\n",
       "    .dataframe tbody tr th {\n",
       "        vertical-align: top;\n",
       "    }\n",
       "\n",
       "    .dataframe thead th {\n",
       "        text-align: right;\n",
       "    }\n",
       "</style>\n",
       "<table border=\"1\" class=\"dataframe\">\n",
       "  <thead>\n",
       "    <tr style=\"text-align: right;\">\n",
       "      <th>zero_shot_label</th>\n",
       "      <th>E1</th>\n",
       "      <th>E2</th>\n",
       "      <th>E3</th>\n",
       "      <th>E4</th>\n",
       "      <th>E5</th>\n",
       "      <th>G1</th>\n",
       "      <th>S1</th>\n",
       "      <th>S2</th>\n",
       "      <th>S3</th>\n",
       "      <th>S4</th>\n",
       "    </tr>\n",
       "    <tr>\n",
       "      <th>Level_2Label_MJ</th>\n",
       "      <th></th>\n",
       "      <th></th>\n",
       "      <th></th>\n",
       "      <th></th>\n",
       "      <th></th>\n",
       "      <th></th>\n",
       "      <th></th>\n",
       "      <th></th>\n",
       "      <th></th>\n",
       "      <th></th>\n",
       "    </tr>\n",
       "  </thead>\n",
       "  <tbody>\n",
       "    <tr>\n",
       "      <th>0</th>\n",
       "      <td>16</td>\n",
       "      <td>0</td>\n",
       "      <td>1</td>\n",
       "      <td>0</td>\n",
       "      <td>1</td>\n",
       "      <td>15</td>\n",
       "      <td>9</td>\n",
       "      <td>4</td>\n",
       "      <td>0</td>\n",
       "      <td>4</td>\n",
       "    </tr>\n",
       "    <tr>\n",
       "      <th>E1</th>\n",
       "      <td>100</td>\n",
       "      <td>0</td>\n",
       "      <td>0</td>\n",
       "      <td>0</td>\n",
       "      <td>1</td>\n",
       "      <td>0</td>\n",
       "      <td>1</td>\n",
       "      <td>0</td>\n",
       "      <td>0</td>\n",
       "      <td>1</td>\n",
       "    </tr>\n",
       "    <tr>\n",
       "      <th>E2</th>\n",
       "      <td>5</td>\n",
       "      <td>10</td>\n",
       "      <td>1</td>\n",
       "      <td>1</td>\n",
       "      <td>0</td>\n",
       "      <td>1</td>\n",
       "      <td>0</td>\n",
       "      <td>0</td>\n",
       "      <td>0</td>\n",
       "      <td>0</td>\n",
       "    </tr>\n",
       "    <tr>\n",
       "      <th>E3</th>\n",
       "      <td>0</td>\n",
       "      <td>2</td>\n",
       "      <td>17</td>\n",
       "      <td>0</td>\n",
       "      <td>1</td>\n",
       "      <td>0</td>\n",
       "      <td>0</td>\n",
       "      <td>0</td>\n",
       "      <td>1</td>\n",
       "      <td>0</td>\n",
       "    </tr>\n",
       "    <tr>\n",
       "      <th>E4</th>\n",
       "      <td>3</td>\n",
       "      <td>0</td>\n",
       "      <td>1</td>\n",
       "      <td>14</td>\n",
       "      <td>1</td>\n",
       "      <td>1</td>\n",
       "      <td>1</td>\n",
       "      <td>1</td>\n",
       "      <td>0</td>\n",
       "      <td>0</td>\n",
       "    </tr>\n",
       "    <tr>\n",
       "      <th>E5</th>\n",
       "      <td>3</td>\n",
       "      <td>1</td>\n",
       "      <td>0</td>\n",
       "      <td>0</td>\n",
       "      <td>21</td>\n",
       "      <td>0</td>\n",
       "      <td>0</td>\n",
       "      <td>0</td>\n",
       "      <td>0</td>\n",
       "      <td>6</td>\n",
       "    </tr>\n",
       "    <tr>\n",
       "      <th>G1</th>\n",
       "      <td>5</td>\n",
       "      <td>1</td>\n",
       "      <td>0</td>\n",
       "      <td>0</td>\n",
       "      <td>1</td>\n",
       "      <td>48</td>\n",
       "      <td>5</td>\n",
       "      <td>9</td>\n",
       "      <td>0</td>\n",
       "      <td>1</td>\n",
       "    </tr>\n",
       "    <tr>\n",
       "      <th>S1</th>\n",
       "      <td>7</td>\n",
       "      <td>0</td>\n",
       "      <td>0</td>\n",
       "      <td>0</td>\n",
       "      <td>0</td>\n",
       "      <td>14</td>\n",
       "      <td>139</td>\n",
       "      <td>9</td>\n",
       "      <td>0</td>\n",
       "      <td>0</td>\n",
       "    </tr>\n",
       "    <tr>\n",
       "      <th>S2</th>\n",
       "      <td>0</td>\n",
       "      <td>0</td>\n",
       "      <td>0</td>\n",
       "      <td>0</td>\n",
       "      <td>0</td>\n",
       "      <td>9</td>\n",
       "      <td>2</td>\n",
       "      <td>10</td>\n",
       "      <td>0</td>\n",
       "      <td>0</td>\n",
       "    </tr>\n",
       "    <tr>\n",
       "      <th>S3</th>\n",
       "      <td>0</td>\n",
       "      <td>0</td>\n",
       "      <td>1</td>\n",
       "      <td>0</td>\n",
       "      <td>0</td>\n",
       "      <td>7</td>\n",
       "      <td>2</td>\n",
       "      <td>4</td>\n",
       "      <td>10</td>\n",
       "      <td>5</td>\n",
       "    </tr>\n",
       "    <tr>\n",
       "      <th>S4</th>\n",
       "      <td>2</td>\n",
       "      <td>0</td>\n",
       "      <td>0</td>\n",
       "      <td>0</td>\n",
       "      <td>0</td>\n",
       "      <td>7</td>\n",
       "      <td>3</td>\n",
       "      <td>0</td>\n",
       "      <td>0</td>\n",
       "      <td>9</td>\n",
       "    </tr>\n",
       "  </tbody>\n",
       "</table>\n",
       "</div>"
      ],
      "text/plain": [
       "zero_shot_label   E1  E2  E3  E4  E5  G1   S1  S2  S3  S4\n",
       "Level_2Label_MJ                                          \n",
       "0                 16   0   1   0   1  15    9   4   0   4\n",
       "E1               100   0   0   0   1   0    1   0   0   1\n",
       "E2                 5  10   1   1   0   1    0   0   0   0\n",
       "E3                 0   2  17   0   1   0    0   0   1   0\n",
       "E4                 3   0   1  14   1   1    1   1   0   0\n",
       "E5                 3   1   0   0  21   0    0   0   0   6\n",
       "G1                 5   1   0   0   1  48    5   9   0   1\n",
       "S1                 7   0   0   0   0  14  139   9   0   0\n",
       "S2                 0   0   0   0   0   9    2  10   0   0\n",
       "S3                 0   0   1   0   0   7    2   4  10   5\n",
       "S4                 2   0   0   0   0   7    3   0   0   9"
      ]
     },
     "execution_count": 20,
     "metadata": {},
     "output_type": "execute_result"
    }
   ],
   "source": [
    "pd.crosstab(df_top_score.Level_2Label_MJ, df_top_score.zero_shot_label)"
   ]
  },
  {
   "cell_type": "code",
   "execution_count": 46,
   "metadata": {},
   "outputs": [
    {
     "data": {
      "text/plain": [
       "<AxesSubplot:>"
      ]
     },
     "execution_count": 46,
     "metadata": {},
     "output_type": "execute_result"
    },
    {
     "data": {
      "image/png": "[encoded data removed]",
      "text/plain": [
       "<Figure size 640x480 with 1 Axes>"
      ]
     },
     "metadata": {},
     "output_type": "display_data"
    }
   ],
   "source": [
    "%matplotlib inline\n",
    "df_top_score.zero_shot_label.hist(bins=10)"
   ]
  },
  {
   "cell_type": "code",
   "execution_count": 47,
   "metadata": {},
   "outputs": [
    {
     "data": {
      "text/plain": [
       "<AxesSubplot:>"
      ]
     },
     "execution_count": 47,
     "metadata": {},
     "output_type": "execute_result"
    },
    {
     "data": {
      "image/png": "[encoded data removed]",
      "text/plain": [
       "<Figure size 640x480 with 1 Axes>"
      ]
     },
     "metadata": {},
     "output_type": "display_data"
    }
   ],
   "source": [
    "df_top_score.Level_2Label_MJ.hist(bins=11)"
   ]
  },
  {
   "cell_type": "markdown",
   "metadata": {},
   "source": [
    "We reapeat the trheshold process for softmax score"
   ]
  },
  {
   "cell_type": "code",
   "execution_count": 23,
   "metadata": {},
   "outputs": [
    {
     "name": "stderr",
     "output_type": "stream",
     "text": [
      "c:\\Users\\PCMC\\anaconda3\\lib\\site-packages\\sklearn\\metrics\\_classification.py:638: RuntimeWarning: invalid value encountered in true_divide\n",
      "  k = np.sum(w_mat * confusion) / np.sum(w_mat * expected)\n"
     ]
    }
   ],
   "source": [
    "i=0.1\n",
    "optimal_score_softmax=[]\n",
    "while i < df_top_score[\"softmax_score\"].max():\n",
    "    df_test_softmax=df_top_score[df_top_score[\"softmax_score\"]>i]\n",
    "    optimal_score_softmax.append([cohen_kappa_score(df_test_softmax.Level_2Label_MJ, df_test_softmax.zero_shot_label),i,len(df_test_softmax)/len(df_top_score)])\n",
    "    i+=0.0001\n"
   ]
  },
  {
   "cell_type": "code",
   "execution_count": 24,
   "metadata": {},
   "outputs": [],
   "source": [
    "optimal_score_softmax_df=pd.DataFrame(optimal_score_softmax,columns=[\"cohen_kappa\",\"soft_max_threshold\",\"df_remaning\"])"
   ]
  },
  {
   "cell_type": "code",
   "execution_count": 26,
   "metadata": {},
   "outputs": [
    {
     "data": {
      "text/plain": [
       "0.7616116009242366"
      ]
     },
     "execution_count": 26,
     "metadata": {},
     "output_type": "execute_result"
    }
   ],
   "source": [
    "optimal_score_softmax_df[\"soft_max_threshold\"].corr(optimal_score_softmax_df[\"cohen_kappa\"])"
   ]
  },
  {
   "cell_type": "code",
   "execution_count": 27,
   "metadata": {},
   "outputs": [
    {
     "data": {
      "image/png": "[encoded data removed]",
      "text/plain": [
       "<Figure size 640x480 with 1 Axes>"
      ]
     },
     "metadata": {},
     "output_type": "display_data"
    }
   ],
   "source": [
    "fig, ax = plt.subplots()\n",
    "optimal_score_df.plot.line(ax = ax, x ='sim_threshold',y = 'cohen_kappa', color = 'r', linewidth = 2, linestyle ='dashed')\n",
    "optimal_score_df.plot.line(ax = ax, x ='sim_threshold', y = 'df_remaining', color = 'b', linewidth= 4, linestyle = 'solid')\n",
    "plt.axhline(y = 0.81, color = 'g', linestyle = '-')\n",
    "plt.axvline(x = 0.82, color = 'b', label = 'axvline - full height')\n",
    "plt.show()"
   ]
  },
  {
   "cell_type": "code",
   "execution_count": 28,
   "metadata": {},
   "outputs": [],
   "source": [
    "df_topscore_82=df_top_score[df_top_score[\"sim_score\"]>=0.82]"
   ]
  },
  {
   "cell_type": "code",
   "execution_count": 29,
   "metadata": {},
   "outputs": [
    {
     "name": "stdout",
     "output_type": "stream",
     "text": [
      "Cohen Kappa for 0.82 trheshold = 0.8004276550249465\n",
      "Accuracy for 0.82 trheshold = 0.8476190476190476\n",
      "Data remaning  = 0.1891891891891892\n"
     ]
    }
   ],
   "source": [
    "print(\"Cohen Kappa for 0.82 trheshold =\",cohen_kappa_score(df_topscore_82.Level_2Label_MJ, df_topscore_82.zero_shot_label))\n",
    "print(\"Accuracy for 0.82 trheshold =\",df_topscore_82.equal.mean())\n",
    "print(\"Data remaning  =\",len(df_topscore_82)/len(df_top_score))"
   ]
  },
  {
   "cell_type": "code",
   "execution_count": 30,
   "metadata": {},
   "outputs": [
    {
     "data": {
      "text/plain": [
       "Level_2Label_MJ\n",
       "0     0.000000\n",
       "E1    0.976190\n",
       "E2    0.500000\n",
       "E3    1.000000\n",
       "E4    0.833333\n",
       "E5    1.000000\n",
       "G1    0.818182\n",
       "S1    0.952381\n",
       "S2    0.571429\n",
       "S3    0.250000\n",
       "S4    0.000000\n",
       "Name: equal, dtype: float64"
      ]
     },
     "execution_count": 30,
     "metadata": {},
     "output_type": "execute_result"
    }
   ],
   "source": [
    "df_topscore_82.groupby('Level_2Label_MJ')[\"equal\"].mean()"
   ]
  },
  {
   "cell_type": "code",
   "execution_count": 31,
   "metadata": {},
   "outputs": [
    {
     "data": {
      "text/plain": [
       "zero_shot_label\n",
       "E1    0.931818\n",
       "E2    1.000000\n",
       "E3    0.666667\n",
       "E4    0.833333\n",
       "E5    1.000000\n",
       "G1    0.642857\n",
       "S1    0.869565\n",
       "S2    0.666667\n",
       "S3    1.000000\n",
       "S4    0.000000\n",
       "Name: equal, dtype: float64"
      ]
     },
     "execution_count": 31,
     "metadata": {},
     "output_type": "execute_result"
    }
   ],
   "source": [
    "df_topscore_82.groupby('zero_shot_label')[\"equal\"].mean()"
   ]
  },
  {
   "cell_type": "code",
   "execution_count": 48,
   "metadata": {},
   "outputs": [
    {
     "data": {
      "text/plain": [
       "<AxesSubplot:>"
      ]
     },
     "execution_count": 48,
     "metadata": {},
     "output_type": "execute_result"
    },
    {
     "data": {
      "image/png": "[encoded data removed]",
      "text/plain": [
       "<Figure size 640x480 with 1 Axes>"
      ]
     },
     "metadata": {},
     "output_type": "display_data"
    }
   ],
   "source": [
    "df_topscore_82.Level_2Label_MJ.hist(bins=11)"
   ]
  },
  {
   "cell_type": "code",
   "execution_count": 49,
   "metadata": {},
   "outputs": [
    {
     "data": {
      "text/plain": [
       "<AxesSubplot:>"
      ]
     },
     "execution_count": 49,
     "metadata": {},
     "output_type": "execute_result"
    },
    {
     "data": {
      "image/png": "[encoded data removed]",
      "text/plain": [
       "<Figure size 640x480 with 1 Axes>"
      ]
     },
     "metadata": {},
     "output_type": "display_data"
    }
   ],
   "source": [
    "df_topscore_82.zero_shot_label.hist(bins=10)"
   ]
  },
  {
   "cell_type": "code",
   "execution_count": 44,
   "metadata": {},
   "outputs": [
    {
     "data": {
      "text/html": [
       "<div>\n",
       "<style scoped>\n",
       "    .dataframe tbody tr th:only-of-type {\n",
       "        vertical-align: middle;\n",
       "    }\n",
       "\n",
       "    .dataframe tbody tr th {\n",
       "        vertical-align: top;\n",
       "    }\n",
       "\n",
       "    .dataframe thead th {\n",
       "        text-align: right;\n",
       "    }\n",
       "</style>\n",
       "<table border=\"1\" class=\"dataframe\">\n",
       "  <thead>\n",
       "    <tr style=\"text-align: right;\">\n",
       "      <th></th>\n",
       "      <th>Text</th>\n",
       "      <th>softmax_score</th>\n",
       "      <th>zero_shot_label</th>\n",
       "      <th>sim_score</th>\n",
       "      <th>equal</th>\n",
       "    </tr>\n",
       "    <tr>\n",
       "      <th>Level_2Label_MJ</th>\n",
       "      <th></th>\n",
       "      <th></th>\n",
       "      <th></th>\n",
       "      <th></th>\n",
       "      <th></th>\n",
       "    </tr>\n",
       "  </thead>\n",
       "  <tbody>\n",
       "    <tr>\n",
       "      <th>0</th>\n",
       "      <td>2</td>\n",
       "      <td>2</td>\n",
       "      <td>2</td>\n",
       "      <td>2</td>\n",
       "      <td>2</td>\n",
       "    </tr>\n",
       "    <tr>\n",
       "      <th>E1</th>\n",
       "      <td>42</td>\n",
       "      <td>42</td>\n",
       "      <td>42</td>\n",
       "      <td>42</td>\n",
       "      <td>42</td>\n",
       "    </tr>\n",
       "    <tr>\n",
       "      <th>E2</th>\n",
       "      <td>4</td>\n",
       "      <td>4</td>\n",
       "      <td>4</td>\n",
       "      <td>4</td>\n",
       "      <td>4</td>\n",
       "    </tr>\n",
       "    <tr>\n",
       "      <th>E3</th>\n",
       "      <td>2</td>\n",
       "      <td>2</td>\n",
       "      <td>2</td>\n",
       "      <td>2</td>\n",
       "      <td>2</td>\n",
       "    </tr>\n",
       "    <tr>\n",
       "      <th>E4</th>\n",
       "      <td>6</td>\n",
       "      <td>6</td>\n",
       "      <td>6</td>\n",
       "      <td>6</td>\n",
       "      <td>6</td>\n",
       "    </tr>\n",
       "    <tr>\n",
       "      <th>E5</th>\n",
       "      <td>5</td>\n",
       "      <td>5</td>\n",
       "      <td>5</td>\n",
       "      <td>5</td>\n",
       "      <td>5</td>\n",
       "    </tr>\n",
       "    <tr>\n",
       "      <th>G1</th>\n",
       "      <td>11</td>\n",
       "      <td>11</td>\n",
       "      <td>11</td>\n",
       "      <td>11</td>\n",
       "      <td>11</td>\n",
       "    </tr>\n",
       "    <tr>\n",
       "      <th>S1</th>\n",
       "      <td>21</td>\n",
       "      <td>21</td>\n",
       "      <td>21</td>\n",
       "      <td>21</td>\n",
       "      <td>21</td>\n",
       "    </tr>\n",
       "    <tr>\n",
       "      <th>S2</th>\n",
       "      <td>7</td>\n",
       "      <td>7</td>\n",
       "      <td>7</td>\n",
       "      <td>7</td>\n",
       "      <td>7</td>\n",
       "    </tr>\n",
       "    <tr>\n",
       "      <th>S3</th>\n",
       "      <td>4</td>\n",
       "      <td>4</td>\n",
       "      <td>4</td>\n",
       "      <td>4</td>\n",
       "      <td>4</td>\n",
       "    </tr>\n",
       "    <tr>\n",
       "      <th>S4</th>\n",
       "      <td>1</td>\n",
       "      <td>1</td>\n",
       "      <td>1</td>\n",
       "      <td>1</td>\n",
       "      <td>1</td>\n",
       "    </tr>\n",
       "  </tbody>\n",
       "</table>\n",
       "</div>"
      ],
      "text/plain": [
       "                 Text  softmax_score  zero_shot_label  sim_score  equal\n",
       "Level_2Label_MJ                                                        \n",
       "0                   2              2                2          2      2\n",
       "E1                 42             42               42         42     42\n",
       "E2                  4              4                4          4      4\n",
       "E3                  2              2                2          2      2\n",
       "E4                  6              6                6          6      6\n",
       "E5                  5              5                5          5      5\n",
       "G1                 11             11               11         11     11\n",
       "S1                 21             21               21         21     21\n",
       "S2                  7              7                7          7      7\n",
       "S3                  4              4                4          4      4\n",
       "S4                  1              1                1          1      1"
      ]
     },
     "execution_count": 44,
     "metadata": {},
     "output_type": "execute_result"
    }
   ],
   "source": [
    "df_topscore_82.groupby('Level_2Label_MJ').count()"
   ]
  },
  {
   "cell_type": "code",
   "execution_count": 50,
   "metadata": {},
   "outputs": [
    {
     "data": {
      "text/plain": [
       "<AxesSubplot:>"
      ]
     },
     "execution_count": 50,
     "metadata": {},
     "output_type": "execute_result"
    },
    {
     "data": {
      "image/png": "[encoded data removed]",
      "text/plain": [
       "<Figure size 640x480 with 1 Axes>"
      ]
     },
     "metadata": {},
     "output_type": "display_data"
    }
   ],
   "source": [
    "df_topscore_82.Level_2Label_MJ.hist(bins=11)"
   ]
  },
  {
   "cell_type": "code",
   "execution_count": 51,
   "metadata": {},
   "outputs": [],
   "source": [
    "softmax_array_top3=[]\n",
    "for i in range(0,len(zero_shot_resluts)):\n",
    "    array=[]\n",
    "    for j in range(0,3):\n",
    "        array.append(zero_shot_resluts[i][j][1])\n",
    "    softmax_array_top3.append(softmax(array))"
   ]
  },
  {
   "cell_type": "code",
   "execution_count": 53,
   "metadata": {},
   "outputs": [
    {
     "data": {
      "image/png": "[encoded data removed]",
      "text/plain": [
       "<Figure size 640x480 with 1 Axes>"
      ]
     },
     "metadata": {},
     "output_type": "display_data"
    }
   ],
   "source": [
    "fig, ax = plt.subplots()\n",
    "optimal_score_softmax_df.plot.line(ax = ax, x ='soft_max_threshold',y = 'cohen_kappa', color = 'r', linewidth = 2, linestyle ='dashed')\n",
    "optimal_score_softmax_df.plot.line(ax = ax, x ='soft_max_threshold', y = 'df_remaning', color = 'b', linewidth= 4, linestyle = 'solid')\n",
    "plt.show()"
   ]
  }
 ],
 "metadata": {
  "kernelspec": {
   "display_name": "base",
   "language": "python",
   "name": "python3"
  },
  "language_info": {
   "codemirror_mode": {
    "name": "ipython",
    "version": 3
   },
   "file_extension": ".py",
   "mimetype": "text/x-python",
   "name": "python",
   "nbconvert_exporter": "python",
   "pygments_lexer": "ipython3",
   "version": "3.8.8"
  },
  "orig_nbformat": 4
 },
 "nbformat": 4,
 "nbformat_minor": 2
}
