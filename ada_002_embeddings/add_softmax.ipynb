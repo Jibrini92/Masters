{
 "cells": [
  {
   "cell_type": "code",
   "execution_count": 1,
   "metadata": {},
   "outputs": [],
   "source": [
    "import pandas as pd\n",
    "import os\n",
    "import numpy as np\n",
    "from scipy.special import softmax\n",
    "%matplotlib inline"
   ]
  },
  {
   "cell_type": "code",
   "execution_count": 5,
   "metadata": {},
   "outputs": [],
   "source": [
    "df=pd.read_csv(\"..\\\\zero_shot_results.csv\",index_col=0)"
   ]
  },
  {
   "cell_type": "code",
   "execution_count": 6,
   "metadata": {},
   "outputs": [
    {
     "data": {
      "text/html": [
       "<div>\n",
       "<style scoped>\n",
       "    .dataframe tbody tr th:only-of-type {\n",
       "        vertical-align: middle;\n",
       "    }\n",
       "\n",
       "    .dataframe tbody tr th {\n",
       "        vertical-align: top;\n",
       "    }\n",
       "\n",
       "    .dataframe thead th {\n",
       "        text-align: right;\n",
       "    }\n",
       "</style>\n",
       "<table border=\"1\" class=\"dataframe\">\n",
       "  <thead>\n",
       "    <tr style=\"text-align: right;\">\n",
       "      <th></th>\n",
       "      <th>text</th>\n",
       "      <th>zero_shot_results</th>\n",
       "    </tr>\n",
       "  </thead>\n",
       "  <tbody>\n",
       "    <tr>\n",
       "      <th>0</th>\n",
       "      <td>Augmented reality makes the fascination of Por...</td>\n",
       "      <td>[['E1', 0.7220102222839275], ['G1', 0.71524239...</td>\n",
       "    </tr>\n",
       "    <tr>\n",
       "      <th>1</th>\n",
       "      <td>and encourage you, to confront, challenge and ...</td>\n",
       "      <td>[['G1', 0.8015816391728678], ['S1', 0.78516396...</td>\n",
       "    </tr>\n",
       "    <tr>\n",
       "      <th>2</th>\n",
       "      <td>For inspiration, consider the information re g...</td>\n",
       "      <td>[['G1', 0.778702979521703], ['E1', 0.766616316...</td>\n",
       "    </tr>\n",
       "    <tr>\n",
       "      <th>3</th>\n",
       "      <td>The second volume is called Performance and co...</td>\n",
       "      <td>[['E1', 0.7990585559707437], ['G1', 0.77521606...</td>\n",
       "    </tr>\n",
       "    <tr>\n",
       "      <th>4</th>\n",
       "      <td>The two volumes may be different, but they hav...</td>\n",
       "      <td>[['E1', 0.7515421306686216], ['S3', 0.74250828...</td>\n",
       "    </tr>\n",
       "  </tbody>\n",
       "</table>\n",
       "</div>"
      ],
      "text/plain": [
       "                                                text  \\\n",
       "0  Augmented reality makes the fascination of Por...   \n",
       "1  and encourage you, to confront, challenge and ...   \n",
       "2  For inspiration, consider the information re g...   \n",
       "3  The second volume is called Performance and co...   \n",
       "4  The two volumes may be different, but they hav...   \n",
       "\n",
       "                                   zero_shot_results  \n",
       "0  [['E1', 0.7220102222839275], ['G1', 0.71524239...  \n",
       "1  [['G1', 0.8015816391728678], ['S1', 0.78516396...  \n",
       "2  [['G1', 0.778702979521703], ['E1', 0.766616316...  \n",
       "3  [['E1', 0.7990585559707437], ['G1', 0.77521606...  \n",
       "4  [['E1', 0.7515421306686216], ['S3', 0.74250828...  "
      ]
     },
     "execution_count": 6,
     "metadata": {},
     "output_type": "execute_result"
    }
   ],
   "source": [
    "df.head()"
   ]
  },
  {
   "cell_type": "code",
   "execution_count": 48,
   "metadata": {},
   "outputs": [],
   "source": [
    "formated_results=[]\n",
    "\n",
    "for i in range(0,len(df)):\n",
    "    row_results=[]\n",
    "    for j in range(0,10):\n",
    "        row_results.append([df.at[i,\"zero_shot_results\"].split(\"],\")[j][3:5],float(df.at[i,\"zero_shot_results\"].split(\"],\")[j][7:22])])\n",
    "    formated_results.append(row_results)"
   ]
  },
  {
   "cell_type": "code",
   "execution_count": 95,
   "metadata": {},
   "outputs": [],
   "source": [
    "softmax_array=[]"
   ]
  },
  {
   "cell_type": "code",
   "execution_count": 96,
   "metadata": {},
   "outputs": [],
   "source": [
    "for i in range(0,len(formated_results)):\n",
    "    array=[]\n",
    "    for j in range(0,10):\n",
    "        array.append(formated_results[i][j][1])\n",
    "    softmax_array.append(softmax(array))"
   ]
  },
  {
   "cell_type": "code",
   "execution_count": 99,
   "metadata": {},
   "outputs": [],
   "source": [
    "top_results=[]"
   ]
  },
  {
   "cell_type": "code",
   "execution_count": 101,
   "metadata": {},
   "outputs": [],
   "source": [
    "for i in range(0,len(formated_results)):\n",
    "    top_results.append([formated_results[i][0][0],formated_results[i][0][1],softmax_array[i][0]])"
   ]
  },
  {
   "cell_type": "code",
   "execution_count": 102,
   "metadata": {},
   "outputs": [],
   "source": [
    "top_results_df=pd.DataFrame(top_results,columns=[\"Label\",\"sim_score\",\"softmax\"])"
   ]
  },
  {
   "cell_type": "code",
   "execution_count": 103,
   "metadata": {},
   "outputs": [
    {
     "data": {
      "text/html": [
       "<div>\n",
       "<style scoped>\n",
       "    .dataframe tbody tr th:only-of-type {\n",
       "        vertical-align: middle;\n",
       "    }\n",
       "\n",
       "    .dataframe tbody tr th {\n",
       "        vertical-align: top;\n",
       "    }\n",
       "\n",
       "    .dataframe thead th {\n",
       "        text-align: right;\n",
       "    }\n",
       "</style>\n",
       "<table border=\"1\" class=\"dataframe\">\n",
       "  <thead>\n",
       "    <tr style=\"text-align: right;\">\n",
       "      <th></th>\n",
       "      <th>Label</th>\n",
       "      <th>sim_score</th>\n",
       "      <th>softmax</th>\n",
       "    </tr>\n",
       "  </thead>\n",
       "  <tbody>\n",
       "    <tr>\n",
       "      <th>0</th>\n",
       "      <td>E1</td>\n",
       "      <td>0.722010</td>\n",
       "      <td>0.101771</td>\n",
       "    </tr>\n",
       "    <tr>\n",
       "      <th>1</th>\n",
       "      <td>G1</td>\n",
       "      <td>0.801582</td>\n",
       "      <td>0.104811</td>\n",
       "    </tr>\n",
       "    <tr>\n",
       "      <th>2</th>\n",
       "      <td>G1</td>\n",
       "      <td>0.778703</td>\n",
       "      <td>0.103001</td>\n",
       "    </tr>\n",
       "    <tr>\n",
       "      <th>3</th>\n",
       "      <td>E1</td>\n",
       "      <td>0.799059</td>\n",
       "      <td>0.103728</td>\n",
       "    </tr>\n",
       "    <tr>\n",
       "      <th>4</th>\n",
       "      <td>E1</td>\n",
       "      <td>0.751542</td>\n",
       "      <td>0.101490</td>\n",
       "    </tr>\n",
       "  </tbody>\n",
       "</table>\n",
       "</div>"
      ],
      "text/plain": [
       "  Label  sim_score   softmax\n",
       "0    E1   0.722010  0.101771\n",
       "1    G1   0.801582  0.104811\n",
       "2    G1   0.778703  0.103001\n",
       "3    E1   0.799059  0.103728\n",
       "4    E1   0.751542  0.101490"
      ]
     },
     "execution_count": 103,
     "metadata": {},
     "output_type": "execute_result"
    }
   ],
   "source": [
    "top_results_df.head()"
   ]
  },
  {
   "cell_type": "code",
   "execution_count": 113,
   "metadata": {},
   "outputs": [],
   "source": [
    "best_data=top_results_df[(top_results_df[\"softmax\"]>top_results_df.softmax.quantile(0.8)) & (top_results_df[\"sim_score\"] > top_results_df.sim_score.quantile(0.8))]"
   ]
  },
  {
   "cell_type": "code",
   "execution_count": 114,
   "metadata": {},
   "outputs": [
    {
     "name": "stdout",
     "output_type": "stream",
     "text": [
      "<class 'pandas.core.frame.DataFrame'>\n",
      "Int64Index: 18595 entries, 90 to 149079\n",
      "Data columns (total 3 columns):\n",
      " #   Column     Non-Null Count  Dtype  \n",
      "---  ------     --------------  -----  \n",
      " 0   Label      18595 non-null  object \n",
      " 1   sim_score  18595 non-null  float64\n",
      " 2   softmax    18595 non-null  float64\n",
      "dtypes: float64(2), object(1)\n",
      "memory usage: 581.1+ KB\n"
     ]
    }
   ],
   "source": [
    "best_data.info()"
   ]
  },
  {
   "cell_type": "code",
   "execution_count": 116,
   "metadata": {},
   "outputs": [
    {
     "data": {
      "text/html": [
       "<div>\n",
       "<style scoped>\n",
       "    .dataframe tbody tr th:only-of-type {\n",
       "        vertical-align: middle;\n",
       "    }\n",
       "\n",
       "    .dataframe tbody tr th {\n",
       "        vertical-align: top;\n",
       "    }\n",
       "\n",
       "    .dataframe thead th {\n",
       "        text-align: right;\n",
       "    }\n",
       "</style>\n",
       "<table border=\"1\" class=\"dataframe\">\n",
       "  <thead>\n",
       "    <tr style=\"text-align: right;\">\n",
       "      <th></th>\n",
       "      <th>sim_score</th>\n",
       "      <th>softmax</th>\n",
       "    </tr>\n",
       "    <tr>\n",
       "      <th>Label</th>\n",
       "      <th></th>\n",
       "      <th></th>\n",
       "    </tr>\n",
       "  </thead>\n",
       "  <tbody>\n",
       "    <tr>\n",
       "      <th>E1</th>\n",
       "      <td>0.890047</td>\n",
       "      <td>0.110849</td>\n",
       "    </tr>\n",
       "    <tr>\n",
       "      <th>E2</th>\n",
       "      <td>0.847255</td>\n",
       "      <td>0.107251</td>\n",
       "    </tr>\n",
       "    <tr>\n",
       "      <th>E3</th>\n",
       "      <td>0.855024</td>\n",
       "      <td>0.107304</td>\n",
       "    </tr>\n",
       "    <tr>\n",
       "      <th>E4</th>\n",
       "      <td>0.867358</td>\n",
       "      <td>0.110038</td>\n",
       "    </tr>\n",
       "    <tr>\n",
       "      <th>E5</th>\n",
       "      <td>0.864630</td>\n",
       "      <td>0.109988</td>\n",
       "    </tr>\n",
       "    <tr>\n",
       "      <th>G1</th>\n",
       "      <td>0.882517</td>\n",
       "      <td>0.112392</td>\n",
       "    </tr>\n",
       "    <tr>\n",
       "      <th>S1</th>\n",
       "      <td>0.873215</td>\n",
       "      <td>0.109912</td>\n",
       "    </tr>\n",
       "    <tr>\n",
       "      <th>S2</th>\n",
       "      <td>0.872399</td>\n",
       "      <td>0.108985</td>\n",
       "    </tr>\n",
       "    <tr>\n",
       "      <th>S3</th>\n",
       "      <td>0.845615</td>\n",
       "      <td>0.105721</td>\n",
       "    </tr>\n",
       "    <tr>\n",
       "      <th>S4</th>\n",
       "      <td>0.847508</td>\n",
       "      <td>0.106650</td>\n",
       "    </tr>\n",
       "  </tbody>\n",
       "</table>\n",
       "</div>"
      ],
      "text/plain": [
       "       sim_score   softmax\n",
       "Label                     \n",
       "E1      0.890047  0.110849\n",
       "E2      0.847255  0.107251\n",
       "E3      0.855024  0.107304\n",
       "E4      0.867358  0.110038\n",
       "E5      0.864630  0.109988\n",
       "G1      0.882517  0.112392\n",
       "S1      0.873215  0.109912\n",
       "S2      0.872399  0.108985\n",
       "S3      0.845615  0.105721\n",
       "S4      0.847508  0.106650"
      ]
     },
     "execution_count": 116,
     "metadata": {},
     "output_type": "execute_result"
    }
   ],
   "source": [
    "best_data.groupby(\"Label\").max()"
   ]
  }
 ],
 "metadata": {
  "kernelspec": {
   "display_name": "base",
   "language": "python",
   "name": "python3"
  },
  "language_info": {
   "codemirror_mode": {
    "name": "ipython",
    "version": 3
   },
   "file_extension": ".py",
   "mimetype": "text/x-python",
   "name": "python",
   "nbconvert_exporter": "python",
   "pygments_lexer": "ipython3",
   "version": "3.8.8"
  },
  "orig_nbformat": 4
 },
 "nbformat": 4,
 "nbformat_minor": 2
}
